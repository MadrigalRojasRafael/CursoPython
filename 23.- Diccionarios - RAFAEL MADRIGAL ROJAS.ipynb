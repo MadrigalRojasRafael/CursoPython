{
 "cells": [
  {
   "attachments": {},
   "cell_type": "markdown",
   "metadata": {},
   "source": [
    "<center>\n",
    "\n",
    "# **Curso Python**\n",
    "\n",
    "</center>\n",
    "\n",
    "---"
   ]
  },
  {
   "attachments": {},
   "cell_type": "markdown",
   "metadata": {},
   "source": [
    "<center>\n",
    "\n",
    "#### **Diccionarios**\n",
    "\n",
    "</center>\n",
    "\n",
    "~~~\n",
    "Un diccionario es una colección de datos que relaciona una clave con un valor (key:value).\n",
    "~~~"
   ]
  },
  {
   "cell_type": "code",
   "execution_count": null,
   "metadata": {},
   "outputs": [],
   "source": [
    "#Forma de declarar un diccionario en Python:\n",
    "# nombreDiccionario = {\n",
    "#   \"nombreClave1\":\"valor1\",\n",
    "#   \"nombreClave2\":\"valor2\",\n",
    "#   \"nombreClave3\":\"valor3\",\n",
    "#   \"...\":\"...\",\n",
    "# }\n",
    "\n",
    "#Ejemplo de un diccionario que contenga nombres de libros y sus autores en Python:\n",
    "libros = {\n",
    "    \"El retrato de Dorian Gray\": \"Oscar Wilde\",\n",
    "    \"La sombra sobre Innsmouth\": \"Howard Phillips Lovecraft\",\n",
    "    \"El extraño caso del Dr. Jekyll y Sr. Hyde\": \"Robert Louis Stevenson\",\n",
    "    \"El efecto Lucifer\": \"Zimbardo\",\n",
    "    \"La estancia azul\": \"Jeffery Deaver\",\n",
    "    \"El cuaderno dorado\": \"Doris Lessing\",\n",
    "    \"Imagina que no estoy aquí\": \"Adam Haslett\"\n",
    "}\n",
    "print(f\"El diccionario con libros y autores contiene: {libros}\")\n",
    "print(f\"El diccionario es un tipo de dato {type(libros)}\")\n",
    "\n",
    "#Saber el largo de un diccionario\n",
    "#Para saber el largo de un diccionario en Python hacemos uso de la función len(nombreDiccionario) como se muestra a continuación:\n",
    "print(f\"El dicionario contiene {len(libros)} elementos.\")"
   ]
  },
  {
   "attachments": {},
   "cell_type": "markdown",
   "metadata": {},
   "source": [
    "+ **Acceder al valor de una clave**\n",
    "    - Se puede **acceder** al **valor** de una **clave** mediante 2 maneras, como se muestra a continuación: "
   ]
  },
  {
   "cell_type": "code",
   "execution_count": null,
   "metadata": {},
   "outputs": [],
   "source": [
    "#Forma 1 de acceder al valor de una clave → nombreDiccionario[nombreClave]\n",
    "print(libros[\"El efecto Lucifer\"])\n",
    "\n",
    "#Forma 2 de acceder al valor de una clave → nombreDiccionario.get(nombreClave)\n",
    "print(libros.get(\"El efecto Lucifer\"))"
   ]
  },
  {
   "attachments": {},
   "cell_type": "markdown",
   "metadata": {},
   "source": [
    "+ **Modificar el valor de una clave**\n",
    "    - Se puede **modificar** el **valor** de una **clave** simplemente **accediendo** a dicho **valor** y posteriormente **reasignando** el **valor** de dicha **clave** a través del **operador de asignación (=)**. "
   ]
  },
  {
   "cell_type": "code",
   "execution_count": null,
   "metadata": {},
   "outputs": [],
   "source": [
    "#Forma para modificar el valor de una clave → nombreDiccionario[nombreClave] = nuevoValor\n",
    "print(libros[\"El efecto Lucifer\"])\n",
    "libros[\"El efecto Lucifer\"] = \"Phillipp Zimbardo\"\n",
    "print(libros[\"El efecto Lucifer\"])"
   ]
  },
  {
   "attachments": {},
   "cell_type": "markdown",
   "metadata": {},
   "source": [
    "+ **Imprimir cada clave de un diccionario → for clave in diccionario**\n",
    "    - Para **imprimir cada clave** de un **diccionario** podemos utilizar un **ciclo for** como en el siguiente ejemplo:"
   ]
  },
  {
   "cell_type": "code",
   "execution_count": null,
   "metadata": {},
   "outputs": [],
   "source": [
    "#Forma 1 de imprimir cada clave de un diccionario con un ciclo for con Python:\n",
    "# for clave in diccionario:\n",
    "#     print(clave)\n",
    "for titulo in libros:\n",
    "    print(titulo)\n",
    "\n",
    "#Forma 2 de imprimir cada clave de un diccionario con un ciclo for con Python:\n",
    "# for clave in diccionario.keys():\n",
    "#     print(clave)\n",
    "for titulo in libros.keys():\n",
    "    print(titulo)"
   ]
  },
  {
   "attachments": {},
   "cell_type": "markdown",
   "metadata": {},
   "source": [
    "+ **Imprimir cada valor de un diccionario → for valor in diccionario.values()**\n",
    "    - Para **imprimir cada valor** de un **diccionario** podemos utilizar un **ciclo for** como en el siguiente ejemplo:"
   ]
  },
  {
   "cell_type": "code",
   "execution_count": null,
   "metadata": {},
   "outputs": [],
   "source": [
    "#Forma de imprimir cada valor de un diccionario con un ciclo for con Python:\n",
    "# for clave in diccionario.keys():\n",
    "#     print(clave)\n",
    "for autor in libros.values():\n",
    "    print(autor)"
   ]
  },
  {
   "attachments": {},
   "cell_type": "markdown",
   "metadata": {},
   "source": [
    "+ **Imprimir cada elemento de un diccionario → for clave, valor in diccionario.items()**\n",
    "    - Para **imprimir cada elemento** de un **diccionario** podemos utilizar un **ciclo for** como en el siguiente ejemplo:"
   ]
  },
  {
   "cell_type": "code",
   "execution_count": null,
   "metadata": {},
   "outputs": [],
   "source": [
    "#Forma de imprimir cada elemento de un diccionario con un ciclo for → for clave, valor in diccionario.items()\n",
    "#Ejemplo de como imprimir cada elemento de un diccionario con un ciclo for con Python:\n",
    "for clave, valor in libros.items():\n",
    "    print(clave,\" - \", valor)"
   ]
  },
  {
   "attachments": {},
   "cell_type": "markdown",
   "metadata": {},
   "source": [
    "+ **Revisar la existencia de una clave o un valor dentro de un diccionario**\n",
    "    - Para saber si un **elemento existe dentro de un diccionario** se hace uso de la **palabra reservada in**, dicha palabra reservada **devuelve** un **resultado** de **tipo boolean** y se utiliza como se muestra a continuación:"
   ]
  },
  {
   "cell_type": "code",
   "execution_count": null,
   "metadata": {},
   "outputs": [],
   "source": [
    "#Forma de declarar in para revisar la existencia de una clave dentro de un diccionario → clave in diccionario.keys()\n",
    "#Ejemplo del uso de la palabra reservada in para revisar la existencia de una clave dentro de un diccionario con Python:\n",
    "print(\"El retrato de Dorian Gray\" in libros.keys())\n",
    "\n",
    "#Forma de declarar in para revisar la existencia de un valor dentro de un diccionario → valor in diccionario.values()\n",
    "#Ejemplo del uso de la palabra reservada in para revisar la existencia de un valor dentro de un diccionario con Python:\n",
    "print(\"Adam Haslett\" in libros.values())"
   ]
  },
  {
   "attachments": {},
   "cell_type": "markdown",
   "metadata": {},
   "source": [
    "+ **Agregar un elemento a un diccionario**\n",
    "    - Para **agregar** un **elemento** a un **diccionario** se realiza lo siguiente: "
   ]
  },
  {
   "cell_type": "code",
   "execution_count": null,
   "metadata": {},
   "outputs": [],
   "source": [
    "#Forma de agregar un elemento a un diccionario → diccionario[nombreClave] = valorNuevo\n",
    "#Ejemplo de como agregar un elemento a un diccionario con Python:\n",
    "libros[\"Demian\"] = \"Hermann Hesse\"\n",
    "print(f\"El diccionario con libros y autores contiene: {libros}\")"
   ]
  },
  {
   "attachments": {},
   "cell_type": "markdown",
   "metadata": {},
   "source": [
    "+ **Remover un elemento a un diccionario → pop()**\n",
    "    - Para **remover** un **elemento** a un **diccionario** se realiza lo siguiente: "
   ]
  },
  {
   "cell_type": "code",
   "execution_count": null,
   "metadata": {},
   "outputs": [],
   "source": [
    "#Forma de remover un elemento a un diccionario → diccionario.pop(nombreClave)\n",
    "#Ejemplo de como remover un elemento a un diccionario con Python:\n",
    "libros.pop(\"El cuaderno dorado\")\n",
    "print(f\"El diccionario con libros y autores contiene: {libros}\")"
   ]
  },
  {
   "attachments": {},
   "cell_type": "markdown",
   "metadata": {},
   "source": [
    "+ **Remover todos los elementos de un diccionario → clear()**\n",
    "    - Para **remover todos los elementos** de un **diccionario** debemos hacer uso de la **función clear()**, la cual sirve para **eliminar todos los elementos** dentro del **diccionario**."
   ]
  },
  {
   "cell_type": "code",
   "execution_count": null,
   "metadata": {},
   "outputs": [],
   "source": [
    "#Forma de remover todos los elementos de un diccionaro con clear() en Python:\n",
    "# diccionario.clear()\n",
    "# print(diccionario)\n",
    "\n",
    "#Ejemplo de como remover todos los elementos de un set con clear() en Python:\n",
    "libros.clear()\n",
    "print(f\"El diccionario con libros y autores contiene: {libros}\")"
   ]
  },
  {
   "attachments": {},
   "cell_type": "markdown",
   "metadata": {},
   "source": [
    "+ **Eliminar el diccionario → del diccionario**\n",
    "    - Para **eliminar** un **diccionario** debemos hacer uso de la **palabra reservada del** de la siguiente manera **del diccionario**, la cual sirve para **eliminar** por completo la **variable** que **almacena** el **diccionario**."
   ]
  },
  {
   "cell_type": "code",
   "execution_count": null,
   "metadata": {},
   "outputs": [],
   "source": [
    "#Forma de eliminar un diccionario en Python:\n",
    "# del diccionario\n",
    "# print(diccionario)\n",
    "\n",
    "#Ejemplo de como eliminar una variable que almacena los datos de un diccionario en Python:\n",
    "del libros\n",
    "print(libros) #Error → NameError: name 'diccionario' is not defined, ya que el diccionario ha sido eliminado."
   ]
  },
  {
   "attachments": {},
   "cell_type": "markdown",
   "metadata": {},
   "source": [
    "---"
   ]
  }
 ],
 "metadata": {
  "kernelspec": {
   "display_name": "Python 3",
   "language": "python",
   "name": "python3"
  },
  "language_info": {
   "name": "python",
   "version": "3.11.0 (main, Oct 24 2022, 18:26:48) [MSC v.1933 64 bit (AMD64)]"
  },
  "orig_nbformat": 4,
  "vscode": {
   "interpreter": {
    "hash": "a0c424b9ebc64511fd63688bf3600ce5b364413e364e3eb1cf584f0476e23d18"
   }
  }
 },
 "nbformat": 4,
 "nbformat_minor": 2
}
