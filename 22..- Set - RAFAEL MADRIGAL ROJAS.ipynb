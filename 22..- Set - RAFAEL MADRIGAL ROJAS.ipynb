{
 "cells": [
  {
   "attachments": {},
   "cell_type": "markdown",
   "metadata": {},
   "source": [
    "<center>\n",
    "\n",
    "# **Curso Python**\n",
    "\n",
    "</center>\n",
    "\n",
    "--- "
   ]
  },
  {
   "attachments": {},
   "cell_type": "markdown",
   "metadata": {},
   "source": [
    "<center>\n",
    "\n",
    "#### **Set**\n",
    "\n",
    "</center>\n",
    "\n",
    "~~~\n",
    "Los set son una colección de datos sin precedencia y mutables, al no tener precedencia los elementos dentro del set no tienen un orden estrícto por lo tanto los elementos en un set no tienen índices, además de que al ser mutable sólo lo es para agregar o eliminar elementos, ya que no permite modificar los valores de los elementos dentro del set, la forma de declarar un set es la siguiente: \n",
    "~~~\n",
    "\n",
    "<center>\n",
    "\n",
    "~~~\n",
    "nombreSet = {elementosSet}\n",
    "~~~\n",
    "\n",
    "</center>"
   ]
  },
  {
   "cell_type": "code",
   "execution_count": null,
   "metadata": {},
   "outputs": [],
   "source": [
    "#Forma de declarar un set → set = {elemento1, elemento2, elemento3, ...}\n",
    "\n",
    "#Ejemplo de set que contiene nombres de países con Python:\n",
    "setPaises = {\"México\", \"Francia\", \"España\", \"Montenegro\", \"Canadá\", \"Japón\", \"Italia\", \"Noruega\"}\n",
    "print(f\"El set con nombres de países contiene: {setPaises}\")\n",
    "print(f\"El set es un tipo de dato {type(setPaises)}\")\n",
    "\n",
    "#Saber el largo de un set\n",
    "#Para saber el largo de un set en Python hacemos uso de la función len(nombreSet) como se muestra a continuación:\n",
    "print(f\"El set contiene {len(setPaises)} elementos.\")"
   ]
  },
  {
   "attachments": {},
   "cell_type": "markdown",
   "metadata": {},
   "source": [
    "+ **Revisar la existencia de un elemento en un set → valorElemento in nombreSet**\n",
    "    - Para saber si un **elemento existe dentro de una colección de datos** (sea lista, tupla o set) se hace uso de la **palabra reservada in**, dicha palabra reservada **devuelve** un **resultado** de **tipo boolean** y se utiliza como se muestra a continuación:"
   ]
  },
  {
   "cell_type": "code",
   "execution_count": null,
   "metadata": {},
   "outputs": [],
   "source": [
    "#Forma de declarar in para revisar la existencia de un elemento dentro de un set → print(valorElemento in nombreSet)\n",
    "\n",
    "#Ejemplo del uso de la palabra reservada in para revisar la existencia de un elemento dentro de una colección de datos con Python:\n",
    "print('México' in setPaises)"
   ]
  },
  {
   "attachments": {},
   "cell_type": "markdown",
   "metadata": {},
   "source": [
    "+ **Agregar un elemento a un set → add(valorElemento)**\n",
    "    - Para **agregar** un **elemento** a un **set** se hace uso de la **función** para set **add(valorElemento)**, una **excepción** al **agregar elementos** es que si dicho **valor** ya **existe** ya **no se añadirá** (o sea, **no se pueden repetir valores en un set**) esta función **sirve** para **añadir** el **elemento** dado a la colección de datos."
   ]
  },
  {
   "cell_type": "code",
   "execution_count": null,
   "metadata": {},
   "outputs": [],
   "source": [
    "#Forma de declarar la función add() para agregar un elemento a una colección de datos de tipo set → nombreSet.add(valorElemento)\n",
    "\n",
    "#Ejemplo de como agregar un elemento a una colección de datos de tipo set con Python:\n",
    "setPaises.add(\"Marruecos\")\n",
    "print(f\"El set con nombres de países contiene: {setPaises}\")"
   ]
  },
  {
   "attachments": {},
   "cell_type": "markdown",
   "metadata": {},
   "source": [
    "+ **Remover un elemento de un set por su valor → remove(valorElemento)**\n",
    "    - Para **remover** un **elemento** de un **set** por su **valor** debemos hacer uso de la **función** para set **remove(valorElemento)**, la cual sirve para **eliminar** un **elemento** según su **valor**."
   ]
  },
  {
   "cell_type": "code",
   "execution_count": null,
   "metadata": {},
   "outputs": [],
   "source": [
    "#Forma de declarar la función remove() para remover un elemento por su valor a un set → nombreSet.remove(valorElemento)\n",
    "\n",
    "#Ejemplo de como remover un elemento por su valor a un set con Python:\n",
    "setPaises.remove(\"Italia\")\n",
    "print(f\"El set con nombres de países contiene: {setPaises}\")\n",
    "\n",
    "#En caso que valorElemento no exista dentro del set nos dará un Error: KeyError: 'valorElemento'\n",
    "#Para que esto no suceda podemos utilizar la función discard(), dicha función no devolverá Error, como se muestra a continuación:\n",
    "setPaises.discard(\"Egipto\")\n",
    "print(f\"El set con nombres de países contiene: {setPaises}\")\n",
    "#discard() sólo remueve los elementos que encuentre, sin necesidad de mandar un Error: KeyError: 'valorElemento'"
   ]
  },
  {
   "attachments": {},
   "cell_type": "markdown",
   "metadata": {},
   "source": [
    "+ **Remover todos los elementos de un set → clear()**\n",
    "    - Para **remover todos los elementos** de un **set** debemos hacer uso de la **función clear()**, la cual sirve para **eliminar todos los elementos** dentro del **set**."
   ]
  },
  {
   "cell_type": "code",
   "execution_count": null,
   "metadata": {},
   "outputs": [],
   "source": [
    "#Forma de remover todos los elementos de un set con clear() en Python:\n",
    "# nombreSet.clear()\n",
    "# print(nombreSet)\n",
    "\n",
    "#Ejemplo de como remover todos los elementos de un set con clear() en Python:\n",
    "setPaises.clear()\n",
    "print(f\"El set con países contiene: {setPaises}\")"
   ]
  },
  {
   "attachments": {},
   "cell_type": "markdown",
   "metadata": {},
   "source": [
    "+ **Eliminar el set → del nombreSet**\n",
    "    - Para **eliminar** un **set** debemos hacer uso de la **palabra reservada del** de la siguiente manera **del nombreSet**, la cual sirve para **eliminar** por completo la **variable** que **almacena** el **set**."
   ]
  },
  {
   "cell_type": "code",
   "execution_count": null,
   "metadata": {},
   "outputs": [],
   "source": [
    "#Forma de eliminar un set en Python:\n",
    "# del nombreSet\n",
    "# print(nombreSet)\n",
    "\n",
    "#Ejemplo de como eliminar una variable que almacena los datos de un set en Python:\n",
    "del setPaises\n",
    "print(setPaises) #Error → NameError: name 'nombreSet' is not defined, ya que la lista ha sido eliminada."
   ]
  },
  {
   "attachments": {},
   "cell_type": "markdown",
   "metadata": {},
   "source": [
    "---"
   ]
  }
 ],
 "metadata": {
  "kernelspec": {
   "display_name": "Python 3",
   "language": "python",
   "name": "python3"
  },
  "language_info": {
   "name": "python",
   "version": "3.11.0 (main, Oct 24 2022, 18:26:48) [MSC v.1933 64 bit (AMD64)]"
  },
  "orig_nbformat": 4,
  "vscode": {
   "interpreter": {
    "hash": "a0c424b9ebc64511fd63688bf3600ce5b364413e364e3eb1cf584f0476e23d18"
   }
  }
 },
 "nbformat": 4,
 "nbformat_minor": 2
}
