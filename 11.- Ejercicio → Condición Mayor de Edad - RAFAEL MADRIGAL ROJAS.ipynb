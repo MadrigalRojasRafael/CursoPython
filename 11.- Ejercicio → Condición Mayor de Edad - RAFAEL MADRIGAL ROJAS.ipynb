{
 "cells": [
  {
   "attachments": {},
   "cell_type": "markdown",
   "metadata": {},
   "source": [
    "<center>\n",
    "\n",
    "# **Curso Python**\n",
    "\n",
    "</center>\n",
    "\n",
    "--- "
   ]
  },
  {
   "attachments": {},
   "cell_type": "markdown",
   "metadata": {},
   "source": [
    "<center>\n",
    "\n",
    "#### **Ejercicio → Condición Mayor de Edad**\n",
    "\n",
    "</center>\n",
    "\n",
    "~~~\n",
    "El ejercicio consiste en pedirle al usuario que ingrese su edad y evaluar si es mayor o menor de edad.\n",
    "~~~"
   ]
  },
  {
   "cell_type": "code",
   "execution_count": null,
   "metadata": {},
   "outputs": [],
   "source": [
    "#Declarar variable para almacenar la edad del usuario\n",
    "edad = int(input(\"Ingrese su edad: \"))\n",
    "\n",
    "#Declarar condicional que evalúe si el usuario es mayor o menor de edad\n",
    "if (edad >= 18) and (edad <= 150):\n",
    "    print(f\"Usted es mayor de edad. Tiene {edad} años.\")\n",
    "elif (edad >= 1) and (edad <= 18):\n",
    "    print(f\"Usted es menor de edad. Tiene {edad} años.\")\n",
    "else:\n",
    "    print(f\"La edad ingresada fue {edad} y no es válida.\")"
   ]
  },
  {
   "attachments": {},
   "cell_type": "markdown",
   "metadata": {},
   "source": [
    "---"
   ]
  }
 ],
 "metadata": {
  "kernelspec": {
   "display_name": "Python 3",
   "language": "python",
   "name": "python3"
  },
  "language_info": {
   "name": "python",
   "version": "3.11.0 (main, Oct 24 2022, 18:26:48) [MSC v.1933 64 bit (AMD64)]"
  },
  "orig_nbformat": 4,
  "vscode": {
   "interpreter": {
    "hash": "a0c424b9ebc64511fd63688bf3600ce5b364413e364e3eb1cf584f0476e23d18"
   }
  }
 },
 "nbformat": 4,
 "nbformat_minor": 2
}
