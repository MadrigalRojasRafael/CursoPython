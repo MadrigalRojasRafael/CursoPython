{
 "cells": [
  {
   "attachments": {},
   "cell_type": "markdown",
   "metadata": {},
   "source": [
    "<center>\n",
    "\n",
    "# **Curso Python**\n",
    "\n",
    "</center>\n",
    "\n",
    "---"
   ]
  },
  {
   "attachments": {},
   "cell_type": "markdown",
   "metadata": {},
   "source": [
    "<center>\n",
    "\n",
    "#### **Continue**\n",
    "\n",
    "</center>\n",
    "\n",
    "~~~\n",
    "La palabra reservada continue sirve para saltar una instrucción de código en un ciclo for.\n",
    "~~~"
   ]
  },
  {
   "cell_type": "code",
   "execution_count": null,
   "metadata": {},
   "outputs": [],
   "source": [
    "#Ejercicio para mostrar números pares con for i in range():\n",
    "print(\"Ejercicio para mostrar números pares con for i in range():\")\n",
    "for i in range(12):\n",
    "    if i%2 == 0:\n",
    "        print(f\"{i} es número par\")\n",
    "\n",
    "\n",
    "#Ejercicio para mostrar números pares con for i in range() y continue:\n",
    "print(\"Ejercicio para mostrar números pares con for i in range() y continue:\")\n",
    "for i in range(12):\n",
    "    if i%2 != 0:\n",
    "        continue\n",
    "    print(f\"{i} es número par\")"
   ]
  },
  {
   "attachments": {},
   "cell_type": "markdown",
   "metadata": {},
   "source": [
    "---"
   ]
  }
 ],
 "metadata": {
  "kernelspec": {
   "display_name": "Python 3",
   "language": "python",
   "name": "python3"
  },
  "language_info": {
   "codemirror_mode": {
    "name": "ipython",
    "version": 3
   },
   "file_extension": ".py",
   "mimetype": "text/x-python",
   "name": "python",
   "nbconvert_exporter": "python",
   "pygments_lexer": "ipython3",
   "version": "3.11.0 (main, Oct 24 2022, 18:26:48) [MSC v.1933 64 bit (AMD64)]"
  },
  "orig_nbformat": 4,
  "vscode": {
   "interpreter": {
    "hash": "a0c424b9ebc64511fd63688bf3600ce5b364413e364e3eb1cf584f0476e23d18"
   }
  }
 },
 "nbformat": 4,
 "nbformat_minor": 2
}
