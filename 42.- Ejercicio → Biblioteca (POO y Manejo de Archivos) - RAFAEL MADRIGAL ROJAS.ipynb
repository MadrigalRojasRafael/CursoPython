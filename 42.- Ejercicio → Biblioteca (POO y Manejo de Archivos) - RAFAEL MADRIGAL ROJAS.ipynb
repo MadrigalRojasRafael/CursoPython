{
 "cells": [
  {
   "attachments": {},
   "cell_type": "markdown",
   "metadata": {},
   "source": [
    "<center>\n",
    "\n",
    "# **Curso Python**\n",
    "\n",
    "</center>\n",
    "\n",
    "---"
   ]
  },
  {
   "attachments": {},
   "cell_type": "markdown",
   "metadata": {},
   "source": [
    "<center>\n",
    "\n",
    "#### **Ejercicio → Biblioteca**\n",
    "\n",
    "</center>\n",
    "\n",
    "~~~\n",
    "El ejercicio consiste en que a través de POO y un archivo de texto podamos almacenar los libros contenidos en una biblioteca.\n",
    "~~~"
   ]
  },
  {
   "cell_type": "code",
   "execution_count": null,
   "metadata": {},
   "outputs": [],
   "source": [
    "#Importamos las Clases mediante la Modularidad en Python:\n",
    "from Libro import *\n",
    "from Biblioteca import catalogoLibros as catalogo\n",
    "\n",
    "#Menú para operar con nuestras clases:\n",
    "opcion = None\n",
    "while opcion != 4:\n",
    "    try:\n",
    "        print(\" BIBLIOTECA \".center(50, \"=\"))\n",
    "        print(\" Opciones \".center(50, \"-\"))\n",
    "        print(\"   1.- Agregar Libros.\") \n",
    "        print(\"   2.- Ver Libros Disponibles.\")\n",
    "        print(\"   3.- Eliminar Todos los Libros.\")\n",
    "        print(\"   4.- Salir de la Biblioteca.\")\n",
    "        opcion = int(input(\"Elija una opción: \"))\n",
    "\n",
    "        if opcion == 1:\n",
    "            print(\"Opcion 1\")\n",
    "            titulo = input(\"Título: \")\n",
    "            autor = input(\"Autor: \")\n",
    "            libro = Libro(titulo, autor)\n",
    "            catalogo.addLibro(libro)\n",
    "        elif opcion == 2:\n",
    "            print(\"Opcion 2\")\n",
    "            catalogo.listLibros()\n",
    "        elif opcion == 3:\n",
    "            print (\"Opcion 3\")\n",
    "            catalogo.removeLibros()\n",
    "        elif opcion == 4:\n",
    "            print(\"Hasta luego...\")\n",
    "        else:\n",
    "            print(f\"La opción {opcion} no es válida.\")\n",
    "            print(\"Por favor intente de nuevo con una opción válida.\\n\")\n",
    "\n",
    "    except Exception as e:\n",
    "        print(f\"Error → {e}\")\n",
    "        opcion = None"
   ]
  }
 ],
 "metadata": {
  "kernelspec": {
   "display_name": "Python 3",
   "language": "python",
   "name": "python3"
  },
  "language_info": {
   "codemirror_mode": {
    "name": "ipython",
    "version": 3
   },
   "file_extension": ".py",
   "mimetype": "text/x-python",
   "name": "python",
   "nbconvert_exporter": "python",
   "pygments_lexer": "ipython3",
   "version": "3.9.5"
  },
  "orig_nbformat": 4,
  "vscode": {
   "interpreter": {
    "hash": "01d1536ea089b3881e2ad6e5bf1641f0ef71bd243632b26b215d0f3e201af468"
   }
  }
 },
 "nbformat": 4,
 "nbformat_minor": 2
}
