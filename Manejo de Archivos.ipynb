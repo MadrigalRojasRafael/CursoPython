{
 "cells": [
  {
   "cell_type": "markdown",
   "metadata": {},
   "source": [
    "# **Manejo de Archivos del SO mediante Python**\n",
    "\n",
    "---"
   ]
  },
  {
   "cell_type": "markdown",
   "metadata": {},
   "source": [
    "1.\t**Lectura de un Archivo:**"
   ]
  },
  {
   "cell_type": "code",
   "execution_count": 3,
   "metadata": {},
   "outputs": [
    {
     "name": "stdout",
     "output_type": "stream",
     "text": [
      "Contenido del Archivo de Texto. \n"
     ]
    }
   ],
   "source": [
    "with open(\"archivo.txt\", \"r\") as archivo:\n",
    "    contenido = archivo.read()\n",
    "    print(contenido)"
   ]
  },
  {
   "cell_type": "markdown",
   "metadata": {},
   "source": [
    "2.\t**Escritura en un Archivo:**"
   ]
  },
  {
   "cell_type": "code",
   "execution_count": 4,
   "metadata": {},
   "outputs": [],
   "source": [
    "with open(\"nuevo_archivo.txt\", \"w\") as archivo:\n",
    "    archivo.write(\"Hola, este es un nuevo archivo.\")"
   ]
  },
  {
   "cell_type": "markdown",
   "metadata": {},
   "source": [
    "3. **Agregar Contenido a un Archivo Existente:**"
   ]
  },
  {
   "cell_type": "code",
   "execution_count": 5,
   "metadata": {},
   "outputs": [],
   "source": [
    "with open(\"archivo_existente.txt\", \"a\") as archivo:\n",
    "    archivo.write(\"\\n¡Este texto se agregará al final del archivo!\")"
   ]
  },
  {
   "cell_type": "markdown",
   "metadata": {},
   "source": [
    "4.\t**Lectura de Líneas de un Archivo:**"
   ]
  },
  {
   "cell_type": "code",
   "execution_count": 8,
   "metadata": {},
   "outputs": [
    {
     "name": "stdout",
     "output_type": "stream",
     "text": [
      "Contenido del Archivo de Texto.\n",
      "Nueva linea.\n",
      "Linea 1\n",
      "Linea 2\n",
      "Linea 3\n"
     ]
    }
   ],
   "source": [
    "with open(\"archivo.txt\", \"r\") as archivo:\n",
    "    lineas = archivo.readlines()\n",
    "    for linea in lineas:\n",
    "        print(linea.strip())  # strip() elimina los caracteres de nueva línea al final"
   ]
  },
  {
   "cell_type": "markdown",
   "metadata": {},
   "source": [
    "5.\t**Copiar Contenido de un Archivo a Otro:**"
   ]
  },
  {
   "cell_type": "code",
   "execution_count": 10,
   "metadata": {},
   "outputs": [],
   "source": [
    "with open(\"archivo.txt\", \"r\") as origen, open(\"archivo_destino.txt\", \"w\") as destino:\n",
    "    contenido = origen.read()\n",
    "    destino.write(contenido)"
   ]
  },
  {
   "cell_type": "markdown",
   "metadata": {},
   "source": [
    "6.\t**Eliminar un Archivo:**"
   ]
  },
  {
   "cell_type": "code",
   "execution_count": 11,
   "metadata": {},
   "outputs": [
    {
     "name": "stdout",
     "output_type": "stream",
     "text": [
      "El archivo ha sido eliminado.\n"
     ]
    }
   ],
   "source": [
    "import os\n",
    "if os.path.exists(\"archivo.txt\"):\n",
    "    os.remove(\"archivo.txt\")\n",
    "    print(\"El archivo ha sido eliminado.\")\n",
    "else:\n",
    "    print(\"El archivo no existe.\")"
   ]
  },
  {
   "cell_type": "markdown",
   "metadata": {},
   "source": [
    "7.\t**Obtener Información del Archivo (Tamaño, Fecha de Modificación, etc.):**"
   ]
  },
  {
   "cell_type": "code",
   "execution_count": 12,
   "metadata": {},
   "outputs": [
    {
     "name": "stdout",
     "output_type": "stream",
     "text": [
      "El archivo no existe.\n"
     ]
    }
   ],
   "source": [
    "import os\n",
    "import datetime\n",
    "archivo_info = \"archivo.txt\"\n",
    "if os.path.exists(archivo_info):\n",
    "    info = os.stat(archivo_info)\n",
    "    print(f\"Tamaño del archivo: {info.st_size} bytes\")\n",
    "    print(f\"Fecha de modificación: {datetime.datetime.fromtimestamp(info.st_mtime)}\")\n",
    "else:\n",
    "    print(\"El archivo no existe.\")"
   ]
  },
  {
   "cell_type": "markdown",
   "metadata": {},
   "source": [
    "8.\t**Renombrar un Archivo:**"
   ]
  },
  {
   "cell_type": "code",
   "execution_count": 13,
   "metadata": {},
   "outputs": [
    {
     "name": "stdout",
     "output_type": "stream",
     "text": [
      "El archivo no existe.\n"
     ]
    }
   ],
   "source": [
    "import os\n",
    "antiguo_nombre = \"archivo_viejo.txt\"\n",
    "nuevo_nombre = \"archivo_nuevo.txt\"\n",
    "if os.path.exists(antiguo_nombre):\n",
    "    os.rename(antiguo_nombre, nuevo_nombre)\n",
    "    print(f\"El archivo ha sido renombrado a {nuevo_nombre}.\")\n",
    "else:\n",
    "    print(\"El archivo no existe.\")"
   ]
  },
  {
   "cell_type": "markdown",
   "metadata": {},
   "source": [
    "9.\t**Buscar Archivos que Coinciden con un Patrón:**"
   ]
  },
  {
   "cell_type": "code",
   "execution_count": 14,
   "metadata": {},
   "outputs": [
    {
     "name": "stdout",
     "output_type": "stream",
     "text": [
      "Archivos TXT en el directorio actual: ['archivo_destino.txt', 'archivo_existente.txt', 'nuevo_archivo.txt']\n"
     ]
    }
   ],
   "source": [
    "import glob\n",
    "archivos_txt = glob.glob(\"*.txt\")\n",
    "print(\"Archivos TXT en el directorio actual:\", archivos_txt)"
   ]
  },
  {
   "cell_type": "markdown",
   "metadata": {},
   "source": [
    "10.\t**Crear un Directorio:**"
   ]
  },
  {
   "cell_type": "code",
   "execution_count": 15,
   "metadata": {},
   "outputs": [],
   "source": [
    "import os\n",
    "nuevo_directorio = \"nuevo_directorio\"\n",
    "os.mkdir(nuevo_directorio)"
   ]
  },
  {
   "cell_type": "markdown",
   "metadata": {},
   "source": [
    "11.\t**Recorrer un Directorio y Mostrar la Estructura:**"
   ]
  },
  {
   "cell_type": "code",
   "execution_count": 17,
   "metadata": {},
   "outputs": [],
   "source": [
    "import os\n",
    "directorio_raiz = \"directorio_raiz\"\n",
    "for carpeta_actual, subcarpetas, archivos in os.walk(directorio_raiz):\n",
    "    print(f\"Carpeta: {carpeta_actual}\")\n",
    "    if subcarpetas:\n",
    "        print(f\"Subcarpetas: {', '.join(subcarpetas)}\")\n",
    "    if archivos:\n",
    "        print(f\"Archivos: {', '.join(archivos)}\")\n",
    "    print()"
   ]
  },
  {
   "cell_type": "markdown",
   "metadata": {},
   "source": [
    "12.\t**Comprobar si un Archivo Existe:**"
   ]
  },
  {
   "cell_type": "code",
   "execution_count": 18,
   "metadata": {},
   "outputs": [
    {
     "name": "stdout",
     "output_type": "stream",
     "text": [
      "El archivo archivo_existente.txt existe.\n"
     ]
    }
   ],
   "source": [
    "import os\n",
    "archivo_a_verificar = \"archivo_existente.txt\"\n",
    "if os.path.exists(archivo_a_verificar):\n",
    "    print(f\"El archivo {archivo_a_verificar} existe.\")\n",
    "else:\n",
    "    print(f\"El archivo {archivo_a_verificar} no existe.\")"
   ]
  },
  {
   "cell_type": "markdown",
   "metadata": {},
   "source": [
    "13.\t**Obtener la Ruta Absoluta de un Archivo:**"
   ]
  },
  {
   "cell_type": "code",
   "execution_count": 20,
   "metadata": {},
   "outputs": [
    {
     "name": "stdout",
     "output_type": "stream",
     "text": [
      "Ruta absoluta de archivo.txt: c:\\Users\\rafa\\Desktop\\SO\\archivo.txt\n"
     ]
    }
   ],
   "source": [
    "import os\n",
    "archivo_relativo = \"archivo.txt\"\n",
    "ruta_absoluta = os.path.abspath(archivo_relativo)\n",
    "print(f\"Ruta absoluta de {archivo_relativo}: {ruta_absoluta}\")"
   ]
  },
  {
   "cell_type": "markdown",
   "metadata": {},
   "source": [
    "14.\t**Abrir un Archivo con un Programa Externo:**"
   ]
  },
  {
   "cell_type": "code",
   "execution_count": 1,
   "metadata": {},
   "outputs": [
    {
     "data": {
      "text/plain": [
       "CompletedProcess(args=['start', 'notepad.exe', 'archivo.txt'], returncode=0)"
      ]
     },
     "execution_count": 1,
     "metadata": {},
     "output_type": "execute_result"
    }
   ],
   "source": [
    "import subprocess\n",
    "archivo_a_abrir = \"archivo.txt\"\n",
    "subprocess.run([\"start\", \"notepad.exe\", archivo_a_abrir], shell=True)"
   ]
  },
  {
   "cell_type": "markdown",
   "metadata": {},
   "source": [
    "---"
   ]
  }
 ],
 "metadata": {
  "kernelspec": {
   "display_name": "Python 3",
   "language": "python",
   "name": "python3"
  },
  "language_info": {
   "codemirror_mode": {
    "name": "ipython",
    "version": 3
   },
   "file_extension": ".py",
   "mimetype": "text/x-python",
   "name": "python",
   "nbconvert_exporter": "python",
   "pygments_lexer": "ipython3",
   "version": "3.11.3"
  }
 },
 "nbformat": 4,
 "nbformat_minor": 2
}
