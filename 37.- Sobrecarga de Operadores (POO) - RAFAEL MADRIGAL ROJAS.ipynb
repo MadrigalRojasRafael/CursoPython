{
 "cells": [
  {
   "attachments": {},
   "cell_type": "markdown",
   "metadata": {},
   "source": [
    "<center>\n",
    "\n",
    "# **Curso Python** \n",
    "\n",
    "</center>\n",
    "\n",
    "---"
   ]
  },
  {
   "attachments": {},
   "cell_type": "markdown",
   "metadata": {},
   "source": [
    "<center>\n",
    "\n",
    "#### **Sobrecarga de Operadores**\n",
    "\n",
    "</center>\n",
    "\n",
    "~~~\n",
    "La sobrecarga de operadores es cuando un  operador puede adoptar comportamientos distintos al que ya tenía asignado por default, y de esta manera poder realizar acciones particulares para el código.\n",
    "\n",
    "Esto se puede realizar dentro de Clases a través de los siguientes métodos dunder:\n",
    "~~~\n",
    "\n",
    "<center>\n",
    "\n",
    "##### **Operadores Aritméticos**\n",
    "| **Operador** | **Método para Sobrecarga** |\n",
    "| --- | --- |\n",
    "| + | \\_\\_add__(self, other) |\n",
    "| - | \\_\\_sub__(self, other) |\n",
    "| * | \\_\\_mul__(self, other) |\n",
    "| / | \\_\\_truediv__(self, other) |\n",
    "| // | \\_\\_floordiv__(self, other) |\n",
    "| % | \\_\\_mod__(self, other) |\n",
    "| ** | \\_\\_pow__(self, other) |\n",
    "\n",
    "##### **Operadores Lógicos**\n",
    "| **Operador** | **Método para Sobrecarga** |\n",
    "| --- | --- |\n",
    "| + | \\_\\_pos__(self, other) |\n",
    "| - | \\_\\_neg__(self, other) |\n",
    "| ~ | \\_\\_invert__(self, other) |\n",
    "\n",
    "##### **Operadores de Asignación**\n",
    "| **Operador** | **Método para Sobrecarga** |\n",
    "| --- | --- |\n",
    "| += | \\_\\_iadd__(self, other) |\n",
    "| -= | \\_\\_isub__(self, other) |\n",
    "| *= | \\_\\_imul__(self, other) |\n",
    "| /= | \\_\\_itruediv__(self, other) |\n",
    "| //= | \\_\\_ifloordiv__(self, other) |\n",
    "| %= | \\_\\_imod__(self, other) |\n",
    "| **= | \\_\\_ipow__(self, other) |\n",
    "\n",
    "##### **Operadores de Comparación**\n",
    "| **Operador** | **Método para Sobrecarga** |\n",
    "| --- | --- |\n",
    "| < | \\_\\_lt__(self, other) |\n",
    "| > | \\_\\_gt__(self, other) |\n",
    "| <= | \\_\\_le__(self, other) |\n",
    "| >= | \\_\\_ge__(self, other) |\n",
    "| == | \\_\\_eq__(self, other) |\n",
    "| != | \\_\\_ne__(self, other) |\n",
    "\n",
    "\n",
    "\n",
    "\n",
    "</center>"
   ]
  },
  {
   "cell_type": "code",
   "execution_count": null,
   "metadata": {},
   "outputs": [],
   "source": [
    "#Ejemplo de Sobrecarga de Operadores en Python:\n",
    "\n",
    "#Clase para Sobrecargar los Operadores → FlotillaCarros:\n",
    "class FlotillaCarros:\n",
    "\n",
    "    #Método __init__() para crear Objetos:\n",
    "    def __init__(self, año, unidades):\n",
    "        self.año = año\n",
    "        self.unidades = unidades\n",
    "\n",
    "    #Método __add__() para Sobreecribir el Operador → (+):\n",
    "    def __add__(self, other):\n",
    "        return f\"Total de Carros: {self.unidades + other.unidades} unidades.\"\n",
    "\n",
    "    #Método __add__() para Sobreecribir el Operador → (-):\n",
    "    def __sub__(self, other):\n",
    "        return f\"Diferencia de Años: {self.año - other.año} años.\"\n",
    "\n",
    "#Creación de Objetos → carro1, carro2 a través de la Clase → FlotillaCarros:   \n",
    "carro1 = FlotillaCarros(2020, 100)\n",
    "carro2 = FlotillaCarros(2015, 25)\n",
    "\n",
    "#Comprobación deL nuevo funcionamiento de los Operdaores → (+) y (-): \n",
    "print(carro1 + carro2)\n",
    "print(carro1 - carro2)\n",
    "\n",
    "#De esta manera se pueden Sobrecargar los Operadores en Python, y para hacer la \n",
    "# implementación de cualquier otro Operador es neceesario seguir la misma lógica. "
   ]
  },
  {
   "attachments": {},
   "cell_type": "markdown",
   "metadata": {},
   "source": [
    "---"
   ]
  }
 ],
 "metadata": {
  "kernelspec": {
   "display_name": "Python 3",
   "language": "python",
   "name": "python3"
  },
  "language_info": {
   "codemirror_mode": {
    "name": "ipython",
    "version": 3
   },
   "file_extension": ".py",
   "mimetype": "text/x-python",
   "name": "python",
   "nbconvert_exporter": "python",
   "pygments_lexer": "ipython3",
   "version": "3.9.5 (tags/v3.9.5:0a7dcbd, May  3 2021, 17:27:52) [MSC v.1928 64 bit (AMD64)]"
  },
  "orig_nbformat": 4,
  "vscode": {
   "interpreter": {
    "hash": "01d1536ea089b3881e2ad6e5bf1641f0ef71bd243632b26b215d0f3e201af468"
   }
  }
 },
 "nbformat": 4,
 "nbformat_minor": 2
}
