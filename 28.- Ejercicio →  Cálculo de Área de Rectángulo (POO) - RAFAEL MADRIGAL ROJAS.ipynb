{
 "cells": [
  {
   "attachments": {},
   "cell_type": "markdown",
   "metadata": {},
   "source": [
    "<center>\n",
    "\n",
    "# **Curso Python**\n",
    "\n",
    "</center>\n",
    "\n",
    "---"
   ]
  },
  {
   "attachments": {},
   "cell_type": "markdown",
   "metadata": {},
   "source": [
    "\n",
    "<center>\n",
    "\n",
    "#### **Ejercicio de Cálculo de Área de Rectángulo con POO**\n",
    "\n",
    "</center>\n",
    "\n",
    "~~~\n",
    "El ejercicio consiste en hacer una clase que contenga como atributos la base y la altura de un rectángulo y como método contenga el cálculo del área y muestre los resultados.\n",
    "~~~\n"
   ]
  },
  {
   "cell_type": "code",
   "execution_count": null,
   "metadata": {},
   "outputs": [],
   "source": [
    "#Creación de la clase: \n",
    "class Rectangulo:\n",
    "    def __init__(self, base, altura): #Método Inicializador → __init__\n",
    "        self.base = base #Creación de la variable para almacenar la base\n",
    "        self.altura = altura #Creación de la variable para almacenar la altura\n",
    "    \n",
    "    def area(self): #Método para calcular el Área\n",
    "        area = self.base * self.altura\n",
    "        return area\n",
    "\n",
    "#Creación del objeto rectangulo para poder aplicar el método:\n",
    "rectangulo1 = Rectangulo(16, 11)\n",
    "\n",
    "#Llamada el método para obtener el área del rectangulo:\n",
    "print(f\"El área del rectangulo es: {rectangulo1.area()} u²\")"
   ]
  },
  {
   "attachments": {},
   "cell_type": "markdown",
   "metadata": {},
   "source": [
    "---"
   ]
  }
 ],
 "metadata": {
  "kernelspec": {
   "display_name": "Python 3",
   "language": "python",
   "name": "python3"
  },
  "language_info": {
   "name": "python",
   "version": "3.11.0 (main, Oct 24 2022, 18:26:48) [MSC v.1933 64 bit (AMD64)]"
  },
  "orig_nbformat": 4,
  "vscode": {
   "interpreter": {
    "hash": "a0c424b9ebc64511fd63688bf3600ce5b364413e364e3eb1cf584f0476e23d18"
   }
  }
 },
 "nbformat": 4,
 "nbformat_minor": 2
}
