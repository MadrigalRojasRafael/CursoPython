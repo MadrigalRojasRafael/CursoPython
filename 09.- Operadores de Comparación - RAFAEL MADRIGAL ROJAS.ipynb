{
 "cells": [
  {
   "attachments": {},
   "cell_type": "markdown",
   "metadata": {},
   "source": [
    "<center>\n",
    "\n",
    "# **Curso Python**\n",
    "\n",
    "</center>\n",
    "\n",
    "---"
   ]
  },
  {
   "attachments": {},
   "cell_type": "markdown",
   "metadata": {},
   "source": [
    "<center>\n",
    "\n",
    "#### **Operadores de Comparación**\n",
    "\n",
    "</center>\n",
    "\n",
    "~~~\n",
    "Los operadores de comparación como su nombre lo dice, sirven para comparar valores.\n",
    "\n",
    "Los operadores de comparación son: \n",
    "~~~\n",
    "\n",
    "<center>\n",
    "\n",
    "~~~\n",
    "+ Comparación simple(==) \n",
    "+ Mayor/Menor qué(> / <)\n",
    "+ Comparacíon de desigualdad(!=)\n",
    "~~~\n",
    "\n",
    "</center>\n",
    "\n",
    "~~~\n",
    "\n",
    "Los operadores de comparación devuelven como resultado valores booleanos: \n",
    "~~~\n",
    "\n",
    "<center>\n",
    "\n",
    "~~~\n",
    "+ True  \n",
    "+ False.\n",
    "~~~\n",
    "\n",
    "</center>"
   ]
  },
  {
   "cell_type": "code",
   "execution_count": null,
   "metadata": {},
   "outputs": [],
   "source": [
    "#Declaración de variables para trabajar con los operadores de comparación\n",
    "valor1 = int(input(\"Ingrese un número: \"))\n",
    "valor2 = int(input(\"Ingrese otro número: \"))"
   ]
  },
  {
   "attachments": {},
   "cell_type": "markdown",
   "metadata": {},
   "source": [
    "+ **Comparación Simple**\n",
    "    - Se representa con los símbolos **(==)**, a continuación un ejemplo de comparación simple:"
   ]
  },
  {
   "cell_type": "code",
   "execution_count": null,
   "metadata": {},
   "outputs": [],
   "source": [
    "#Ejemplo de Comparación Simple (==) en Python:\n",
    "compSimple = (valor1 == valor2)\n",
    "print(f\"{valor1} == {valor2}: {compSimple}\")"
   ]
  },
  {
   "attachments": {},
   "cell_type": "markdown",
   "metadata": {},
   "source": [
    "+ **Comparación de Desigualdad**\n",
    "    - Se representa con los símbolos **(!=)**, a continuación un ejemplo de comparación de desigualdad:"
   ]
  },
  {
   "cell_type": "code",
   "execution_count": null,
   "metadata": {},
   "outputs": [],
   "source": [
    "#Ejemplo de Comparación de Desigualdad (!=) en Python:\n",
    "compDesequal = (valor1 != valor2)\n",
    "print(f\"{valor1} != {valor2}: {compDesequal}\")"
   ]
  },
  {
   "attachments": {},
   "cell_type": "markdown",
   "metadata": {},
   "source": [
    "+ **Comparación Mayor Qué**\n",
    "    - Se representa con los símbolos **(>)**, a continuación un ejemplo de comparación mayor qué:"
   ]
  },
  {
   "cell_type": "code",
   "execution_count": null,
   "metadata": {},
   "outputs": [],
   "source": [
    "#Ejemplo de Comparación Mayor Qué (>) en Python:\n",
    "mayorQue = (valor1 > valor2)\n",
    "print(f\"{valor1} > {valor2}: {mayorQue}\")"
   ]
  },
  {
   "attachments": {},
   "cell_type": "markdown",
   "metadata": {},
   "source": [
    "+ **Comparación Menor Qué**\n",
    "    - Se representa con los símbolos **(<)**, a continuación un ejemplo de comparación menor qué:"
   ]
  },
  {
   "cell_type": "code",
   "execution_count": null,
   "metadata": {},
   "outputs": [],
   "source": [
    "#Ejemplo de Comparación Menor Qué (<) en Python:\n",
    "menorQue = (valor1 < valor2)\n",
    "print(f\"{valor1} < {valor2}: {menorQue}\")"
   ]
  },
  {
   "attachments": {},
   "cell_type": "markdown",
   "metadata": {},
   "source": [
    "+ **Comparación Mayor Igual Qué**\n",
    "    - Se representa con los símbolos **(>=)**, a continuación un ejemplo de comparación mayor igual qué:"
   ]
  },
  {
   "cell_type": "code",
   "execution_count": null,
   "metadata": {},
   "outputs": [],
   "source": [
    "#Ejemplo de Comparación Mayor Igual Qué (>=) en Python:\n",
    "mayorIgualQue = (valor1 >= valor2)\n",
    "print(f\"{valor1} >= {valor2}: {mayorIgualQue}\")"
   ]
  },
  {
   "attachments": {},
   "cell_type": "markdown",
   "metadata": {},
   "source": [
    "+ **Comparación Menor Igual Qué**\n",
    "    - Se representa con los símbolos **(<=)**, a continuación un ejemplo de comparación menor igual qué:"
   ]
  },
  {
   "cell_type": "code",
   "execution_count": null,
   "metadata": {},
   "outputs": [],
   "source": [
    "#Ejemplo de Comparación Menor Igual Qué (<=) en Python:\n",
    "menorIgualQue = (valor1 <= valor2)\n",
    "print(f\"{valor1} <= {valor2}: {menorIgualQue}\")"
   ]
  },
  {
   "attachments": {},
   "cell_type": "markdown",
   "metadata": {},
   "source": [
    "---"
   ]
  }
 ],
 "metadata": {
  "kernelspec": {
   "display_name": "Python 3",
   "language": "python",
   "name": "python3"
  },
  "language_info": {
   "name": "python",
   "version": "3.11.0 (main, Oct 24 2022, 18:26:48) [MSC v.1933 64 bit (AMD64)]"
  },
  "orig_nbformat": 4,
  "vscode": {
   "interpreter": {
    "hash": "a0c424b9ebc64511fd63688bf3600ce5b364413e364e3eb1cf584f0476e23d18"
   }
  }
 },
 "nbformat": 4,
 "nbformat_minor": 2
}
