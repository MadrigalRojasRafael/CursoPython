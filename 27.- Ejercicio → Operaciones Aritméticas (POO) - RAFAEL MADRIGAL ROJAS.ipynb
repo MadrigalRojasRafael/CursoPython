{
 "cells": [
  {
   "attachments": {},
   "cell_type": "markdown",
   "metadata": {},
   "source": [
    "<center>\n",
    "\n",
    "# **Curso Python**\n",
    "\n",
    "</center>\n",
    "\n",
    "---"
   ]
  },
  {
   "attachments": {},
   "cell_type": "markdown",
   "metadata": {},
   "source": [
    "<center>\n",
    "\n",
    "#### **Ejercicio de Operaciones Aritméticas con POO**\n",
    "\n",
    "</center>\n",
    "\n",
    "~~~\n",
    "El ejercicio consiste en hacer una clase que contenga como atributos los operandos y los métodos para las operaciones aritméticas y muestre los resultados*.\n",
    "~~~\n"
   ]
  },
  {
   "cell_type": "code",
   "execution_count": null,
   "metadata": {},
   "outputs": [],
   "source": [
    "#Creación de la clase:\n",
    "class OpAritm:\n",
    "    def __init__(self, operando1, operando2): #Método Inicializador → __init__\n",
    "        self.operando1 = operando1 #Creación de la variable para almacenar un operando\n",
    "        self.operando2 = operando2 #Creación de la variable para almacenar otro operando\n",
    "\n",
    "    def suma(self): #Creación del Método para la Suma\n",
    "        print(f\"Suma → {self.operando1} + {self.operando2} = {self.operando1 + self.operando2}\")\n",
    "\n",
    "    def resta(self): #Creación del Método para la Resta\n",
    "        print(f\"Resta → {self.operando1} - {self.operando2} = {self.operando1 - self.operando2}\")\n",
    "\n",
    "    def multiplicacion(self): #Creación del Método para la Multiplicación\n",
    "        print(f\"Multiplicación → {self.operando1} X {self.operando2} = {self.operando1 * self.operando2}\")\n",
    "    \n",
    "    def division(self): #Creación del Método para la División\n",
    "        print(f\"División → {self.operando1} / {self.operando2} = {self.operando1 / self.operando2}\")\n",
    "\n",
    "#Creación del Objeto para llamar a los Métodos con las Operaciones Aritméticas:\n",
    "objAritm = OpAritm(10, 10)\n",
    "\n",
    "#Llamada de los Métodos:\n",
    "objAritm.suma()\n",
    "objAritm.resta()\n",
    "objAritm.multiplicacion()\n",
    "objAritm.division()"
   ]
  },
  {
   "attachments": {},
   "cell_type": "markdown",
   "metadata": {},
   "source": [
    "---"
   ]
  }
 ],
 "metadata": {
  "kernelspec": {
   "display_name": "Python 3",
   "language": "python",
   "name": "python3"
  },
  "language_info": {
   "name": "python",
   "version": "3.11.0 (main, Oct 24 2022, 18:26:48) [MSC v.1933 64 bit (AMD64)]"
  },
  "orig_nbformat": 4,
  "vscode": {
   "interpreter": {
    "hash": "a0c424b9ebc64511fd63688bf3600ce5b364413e364e3eb1cf584f0476e23d18"
   }
  }
 },
 "nbformat": 4,
 "nbformat_minor": 2
}
