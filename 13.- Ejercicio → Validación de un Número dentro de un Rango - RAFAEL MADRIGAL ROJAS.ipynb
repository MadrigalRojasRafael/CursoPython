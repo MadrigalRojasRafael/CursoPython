{
 "cells": [
  {
   "attachments": {},
   "cell_type": "markdown",
   "metadata": {},
   "source": [
    "<center>\n",
    "\n",
    "# **Curso Python**\n",
    "\n",
    "</center>\n",
    "\n",
    "---"
   ]
  },
  {
   "attachments": {},
   "cell_type": "markdown",
   "metadata": {},
   "source": [
    "<center>\n",
    "\n",
    "#### **Ejercicio → Validación de un Número dentro de un Rango** \n",
    "\n",
    "</center>\n",
    "\n",
    "~~~\n",
    "El ejercicio consiste en pedirle al usuario que ingrese un número y evaluar si ese número se encuentra dentro de un rango también solicitado al usuario.\n",
    "~~~"
   ]
  },
  {
   "cell_type": "code",
   "execution_count": null,
   "metadata": {},
   "outputs": [],
   "source": [
    "#Declarar variable para almacenar los datos ingresados por el usuario\n",
    "limInf = int(input(\"Ingrese un número para el límite inferior: \"))\n",
    "limSup = int(input(\"Ingrese un número para el límite superior: \"))\n",
    "num = int(input(\"Ingrese un número: \"))\n",
    "\n",
    "#Validación del número dentro del rango:\n",
    "if (num >= limInf) and (num <= limSup):\n",
    "    print(f\"El número {num} está dentro del rango.\")\n",
    "else:\n",
    "    print(f\"El número {num} está fuera del rango.\")"
   ]
  },
  {
   "attachments": {},
   "cell_type": "markdown",
   "metadata": {},
   "source": [
    "---"
   ]
  }
 ],
 "metadata": {
  "kernelspec": {
   "display_name": "Python 3",
   "language": "python",
   "name": "python3"
  },
  "language_info": {
   "name": "python",
   "version": "3.11.0 (main, Oct 24 2022, 18:26:48) [MSC v.1933 64 bit (AMD64)]"
  },
  "orig_nbformat": 4,
  "vscode": {
   "interpreter": {
    "hash": "a0c424b9ebc64511fd63688bf3600ce5b364413e364e3eb1cf584f0476e23d18"
   }
  }
 },
 "nbformat": 4,
 "nbformat_minor": 2
}
