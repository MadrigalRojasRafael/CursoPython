{
 "cells": [
  {
   "attachments": {},
   "cell_type": "markdown",
   "metadata": {},
   "source": [
    "<center>\n",
    "\n",
    "# **Curso Python**\n",
    "\n",
    "</center>\n",
    "\n",
    "---"
   ]
  },
  {
   "attachments": {},
   "cell_type": "markdown",
   "metadata": {},
   "source": [
    "\n",
    "<center>\n",
    "\n",
    "#### **Operadores de Asignación**\n",
    "\n",
    "</center>\n",
    "\n",
    "~~~\n",
    "Los operadores de asignación sirven para asignar algún valor referenciado a una variable en un espacio de memoria, por ejemplo:\n",
    "\n",
    "+ PI → nombre de la variable.\n",
    "+ 3.1416 → valor de la variable.\n",
    "+ id(PI) → dirección de la variable.\n",
    "\n",
    "Para asignar dicho valor a ese nombre de variable y alojarlo en una dirección de memoria se requiere un operador de asignación el cual se representa con el símbolo (=).\n",
    "~~~"
   ]
  },
  {
   "cell_type": "code",
   "execution_count": null,
   "metadata": {},
   "outputs": [],
   "source": [
    "#Ejemplo de operador de asignación (=) en Python:\n",
    "pi = 3.1416\n",
    "print(f\"pi = {pi}\")\n",
    "print(id(pi))"
   ]
  },
  {
   "attachments": {},
   "cell_type": "markdown",
   "metadata": {},
   "source": [
    "+ **Operadores de reasignación**\n",
    "\n",
    "    - El **operador de asignación** se puede **combinar** con los **operadores aritméticos** para generar una **sintáxis más reducida**.\n",
    "    - Este tipo de operadores tambien suelen llamarse **operadores de reasignación** y se utilizan como se muestra a continuación:"
   ]
  },
  {
   "cell_type": "code",
   "execution_count": null,
   "metadata": {},
   "outputs": [],
   "source": [
    "#Declaración de la variable de tipo Int para trabajar con los operadores de reasignación\n",
    "num = int(input(\"Ingrese un número : \"))\n",
    "print(f\"El número es: {num}\")\n",
    "\n",
    "#num = num + 1\n",
    "num += 1\n",
    "print(f\"El número aumentado en 1 es: {num}\")\n",
    "\n",
    "#num = num - 2\n",
    "num -= 2\n",
    "print(f\"El número disminuido en 2 es: {num}\")\n",
    "\n",
    "#num = num  + 1\n",
    "num += 1\n",
    "print(f\"El número original era: {num}\")\n",
    "\n",
    "#num = num * 6\n",
    "num *= 6\n",
    "print(f\"El número multiplicado por 6 es: {num}\")\n",
    "\n",
    "#num = num / 4\n",
    "num /= 4\n",
    "print(f\"El número dividido entre 4 es: {num}\")"
   ]
  },
  {
   "attachments": {},
   "cell_type": "markdown",
   "metadata": {},
   "source": [
    "---"
   ]
  }
 ],
 "metadata": {
  "kernelspec": {
   "display_name": "Python 3",
   "language": "python",
   "name": "python3"
  },
  "language_info": {
   "name": "python",
   "version": "3.11.0 (main, Oct 24 2022, 18:26:48) [MSC v.1933 64 bit (AMD64)]"
  },
  "orig_nbformat": 4,
  "vscode": {
   "interpreter": {
    "hash": "a0c424b9ebc64511fd63688bf3600ce5b364413e364e3eb1cf584f0476e23d18"
   }
  }
 },
 "nbformat": 4,
 "nbformat_minor": 2
}
