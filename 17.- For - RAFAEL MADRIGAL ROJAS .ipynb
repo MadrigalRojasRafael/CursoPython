{
 "cells": [
  {
   "attachments": {},
   "cell_type": "markdown",
   "metadata": {},
   "source": [
    "<center>\n",
    "\n",
    "# **Curso Python**\n",
    "\n",
    "</center>\n",
    "\n",
    "---"
   ]
  },
  {
   "attachments": {},
   "cell_type": "markdown",
   "metadata": {},
   "source": [
    "<center>\n",
    "\n",
    "#### **For**\n",
    "\n",
    "</center>\n",
    "\n",
    "~~~\n",
    "Un ciclo for sirve para recorrer algún arreglo o conjunto de datos desde un índice dado hasta el final de dicho conjunto de datos.\n",
    "~~~"
   ]
  },
  {
   "cell_type": "code",
   "execution_count": null,
   "metadata": {},
   "outputs": [],
   "source": [
    "#Forma de declarar un ciclo for:\n",
    "# for elemento in conjunto:\n",
    "#     instruccion_for → print(elemento)\n",
    "# else:\n",
    "#     instruccion_else\n",
    "\n",
    "#Ejemplos de ciclo for en Python\n",
    "saludoHW = \"Hola Mundo\"\n",
    "print(saludoHW)\n",
    "for letra in saludoHW:\n",
    "    print(letra)\n",
    "else:\n",
    "    print(\"Fin del programa\")\n",
    "\n",
    "arreglo = [\"Elemento 1\", \"ELemento 2\", \"Elemento 3\"]\n",
    "print(arreglo)\n",
    "for elemento in arreglo:\n",
    "    print(elemento)\n",
    "else:\n",
    "    print(\"Fin del programa.\")"
   ]
  },
  {
   "attachments": {},
   "cell_type": "markdown",
   "metadata": {},
   "source": [
    "---"
   ]
  }
 ],
 "metadata": {
  "kernelspec": {
   "display_name": "Python 3",
   "language": "python",
   "name": "python3"
  },
  "language_info": {
   "name": "python",
   "version": "3.11.0 (main, Oct 24 2022, 18:26:48) [MSC v.1933 64 bit (AMD64)]"
  },
  "orig_nbformat": 4,
  "vscode": {
   "interpreter": {
    "hash": "a0c424b9ebc64511fd63688bf3600ce5b364413e364e3eb1cf584f0476e23d18"
   }
  }
 },
 "nbformat": 4,
 "nbformat_minor": 2
}
