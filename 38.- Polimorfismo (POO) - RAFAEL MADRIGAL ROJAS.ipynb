{
 "cells": [
  {
   "attachments": {},
   "cell_type": "markdown",
   "metadata": {},
   "source": [
    "<center>\n",
    "\n",
    "# **Curso Python**\n",
    "\n",
    "</center>\n",
    "\n",
    "---"
   ]
  },
  {
   "attachments": {},
   "cell_type": "markdown",
   "metadata": {},
   "source": [
    "<center>\n",
    "\n",
    "#### **Polimorfismo**\n",
    "\n",
    "</center>\n",
    "\n",
    "~~~\n",
    "Es cuando al invocar un mismo método para distintos objetos, cada objeto responde a dicho método de manera distinta.\n",
    "~~~\n"
   ]
  },
  {
   "cell_type": "code",
   "execution_count": null,
   "metadata": {},
   "outputs": [],
   "source": [
    "#Ejemplo de Polimorfismo en Python: \n",
    "\n",
    "class Empleado: \n",
    "    def __init__(self, nombre, sueldo):\n",
    "        self.nombre = nombre\n",
    "        self.sueldo = sueldo\n",
    "\n",
    "    def __str__(self):\n",
    "        return f\"Nombre: {self.nombre}\\nSueldo: ${self.sueldo}\"\n",
    "\n",
    "    def mostrarDatos(objeto):\n",
    "        print(objeto)\n",
    "\n",
    "class Gerente(Empleado): \n",
    "    def __init__(self, nombre, sueldo, departamento):\n",
    "        super().__init__(nombre, sueldo)\n",
    "        self.departamento = departamento\n",
    "\n",
    "    def __str__(self):\n",
    "        return f\"{super().__str__()}\\nDepartamento: {self.departamento}\"\n",
    "\n",
    "empleado1 = Empleado(\"Juan Alonso Mora\", 18000)\n",
    "\n",
    "#De esta manera no habría Polimorsfismo:\n",
    "#   print(\" Empleado \".center(50, \"-\"))\n",
    "#   print(empleado1) → Podemos llamar al Objeto desde el Método __str__()\n",
    "\n",
    "#Aplicando el Concepto de Polimorfismo, quedaría de la siguiente manera:\n",
    "print(\" Empleado \".center(50, \"-\"))\n",
    "empleado1.mostrarDatos() #El método funciona sin importar de donde proviene el Objeto.\n",
    "print(\" Empleado \".center(50, \"-\"))\n",
    "Empleado.mostrarDatos(empleado1) #El método funciona sin importar de donde proviene el Objeto.\n",
    "print(\" Empleado \".center(50, \"-\"))\n",
    "Gerente.mostrarDatos(empleado1) #El método funciona sin importar de donde proviene el Objeto.\n",
    "\n",
    "gerenteRH = Gerente(\"Marla Rocío Peña\", 32000, \"Recursos Humanos\")\n",
    "#De esta manera no habría Polimorsfismo:\n",
    "#   print(\" Gerente \".center(50, \"-\"))\n",
    "#   print(gerenteRH) → Podemos llamar al Objeto desde el Método __str__()\n",
    "\n",
    "print(\" Gerente \".center(50, \"-\"))\n",
    "gerenteRH.mostrarDatos() #El método funciona sin importar de donde proviene el Objeto.\n",
    "print(\" Gerente \".center(50, \"-\"))\n",
    "Gerente.mostrarDatos(gerenteRH) #El método funciona sin importar de donde proviene el Objeto.\n",
    "print(\" Gerente \".center(50, \"-\"))\n",
    "Empleado.mostrarDatos(gerenteRH) #El método funciona sin importar de donde proviene el Objeto."
   ]
  },
  {
   "attachments": {},
   "cell_type": "markdown",
   "metadata": {},
   "source": [
    "---"
   ]
  }
 ],
 "metadata": {
  "kernelspec": {
   "display_name": "Python 3",
   "language": "python",
   "name": "python3"
  },
  "language_info": {
   "codemirror_mode": {
    "name": "ipython",
    "version": 3
   },
   "file_extension": ".py",
   "mimetype": "text/x-python",
   "name": "python",
   "nbconvert_exporter": "python",
   "pygments_lexer": "ipython3",
   "version": "3.9.5 (tags/v3.9.5:0a7dcbd, May  3 2021, 17:27:52) [MSC v.1928 64 bit (AMD64)]"
  },
  "orig_nbformat": 4,
  "vscode": {
   "interpreter": {
    "hash": "01d1536ea089b3881e2ad6e5bf1641f0ef71bd243632b26b215d0f3e201af468"
   }
  }
 },
 "nbformat": 4,
 "nbformat_minor": 2
}
