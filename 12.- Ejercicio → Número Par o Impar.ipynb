{
 "cells": [
  {
   "attachments": {},
   "cell_type": "markdown",
   "metadata": {},
   "source": [
    "<center>\n",
    "\n",
    "# **Curso Python**\n",
    "\n",
    "</center>\n",
    "\n",
    "---"
   ]
  },
  {
   "attachments": {},
   "cell_type": "markdown",
   "metadata": {},
   "source": [
    "\n",
    "<center>\n",
    "\n",
    "#### **Ejercicio → Número Par o Impar**\n",
    "\n",
    "</center>\n",
    "\n",
    "~~~\n",
    "El ejercicio consiste en pedirle al usuario que ingrese un número y evaluar si ese número es par o impar.\n",
    "~~~"
   ]
  },
  {
   "cell_type": "code",
   "execution_count": null,
   "metadata": {},
   "outputs": [],
   "source": [
    "#Declarar variable para almacenar el número ingresado por el usuario\n",
    "numero = int(input(\"Ingrese un número: \"))\n",
    "\n",
    "#Declarar condicional que evalúe si el usuario es mayor o menor de edad\n",
    "if (numero%2) == 0:\n",
    "    print(f\"El número {numero} es par.\")\n",
    "else:\n",
    "    print(f\"El número {numero} es impar.\")"
   ]
  },
  {
   "attachments": {},
   "cell_type": "markdown",
   "metadata": {},
   "source": [
    "---"
   ]
  }
 ],
 "metadata": {
  "kernelspec": {
   "display_name": "Python 3",
   "language": "python",
   "name": "python3"
  },
  "language_info": {
   "codemirror_mode": {
    "name": "ipython",
    "version": 3
   },
   "file_extension": ".py",
   "mimetype": "text/x-python",
   "name": "python",
   "nbconvert_exporter": "python",
   "pygments_lexer": "ipython3",
   "version": "3.11.0 (main, Oct 24 2022, 18:26:48) [MSC v.1933 64 bit (AMD64)]"
  },
  "orig_nbformat": 4,
  "vscode": {
   "interpreter": {
    "hash": "a0c424b9ebc64511fd63688bf3600ce5b364413e364e3eb1cf584f0476e23d18"
   }
  }
 },
 "nbformat": 4,
 "nbformat_minor": 2
}
