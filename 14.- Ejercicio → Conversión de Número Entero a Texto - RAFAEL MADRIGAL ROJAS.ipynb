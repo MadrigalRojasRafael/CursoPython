{
 "cells": [
  {
   "attachments": {},
   "cell_type": "markdown",
   "metadata": {},
   "source": [
    "<center>\n",
    "\n",
    "# **Curso Python**\n",
    "\n",
    "</center>\n",
    "\n",
    "---"
   ]
  },
  {
   "attachments": {},
   "cell_type": "markdown",
   "metadata": {},
   "source": [
    "<center>\n",
    "\n",
    "#### **Ejercicio → Conversión de Número Entero a Texto**\n",
    "\n",
    "</center>\n",
    "\n",
    "~~~\n",
    "El ejercicio consiste en solicitar un número al usuario entre el 1 y el 3 y dado este número convertirlo al texto equivalente.\n",
    "~~~"
   ]
  },
  {
   "cell_type": "code",
   "execution_count": null,
   "metadata": {},
   "outputs": [],
   "source": [
    "#Declaramos la variable para almacenar el número dado por el usuario\n",
    "num = int(input(\"Ingrese un número del 1 al 3: \"))\n",
    "\n",
    "#Declaramos las condicionales anidadas para posteriormente reasignar los valores de la variable\n",
    "#ingresada y así convertirla de número a texto.\n",
    "\n",
    "if (num == 1):\n",
    "    num = \"Uno\"\n",
    "    print(num)\n",
    "elif (num == 2):\n",
    "    num = \"Dos\"\n",
    "    print(num)\n",
    "elif (num == 3):\n",
    "    num = \"Tres\"\n",
    "    print(num)\n",
    "else:\n",
    "    print(f\"El número {num} no es válido.\")"
   ]
  },
  {
   "attachments": {},
   "cell_type": "markdown",
   "metadata": {},
   "source": [
    "---"
   ]
  }
 ],
 "metadata": {
  "kernelspec": {
   "display_name": "Python 3",
   "language": "python",
   "name": "python3"
  },
  "language_info": {
   "name": "python",
   "version": "3.11.0 (main, Oct 24 2022, 18:26:48) [MSC v.1933 64 bit (AMD64)]"
  },
  "orig_nbformat": 4,
  "vscode": {
   "interpreter": {
    "hash": "a0c424b9ebc64511fd63688bf3600ce5b364413e364e3eb1cf584f0476e23d18"
   }
  }
 },
 "nbformat": 4,
 "nbformat_minor": 2
}
