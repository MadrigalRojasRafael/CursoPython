{
 "cells": [
  {
   "attachments": {},
   "cell_type": "markdown",
   "metadata": {},
   "source": [
    "<center>\n",
    "\n",
    "# **Curso Python**\n",
    "\n",
    "</center>\n",
    "\n",
    "---"
   ]
  },
  {
   "attachments": {},
   "cell_type": "markdown",
   "metadata": {},
   "source": [
    "<center>\n",
    "\n",
    "#### **Ejercicio → Taquería con POO**\n",
    "\n",
    "</center>\n",
    "\n",
    "~~~\n",
    "EL ejercicio consiste en realizar la lógica de una Taquería con POO, utilizando los conceptos pertenecientes a POO en Python.\n",
    "~~~\n"
   ]
  },
  {
   "cell_type": "code",
   "execution_count": 1,
   "metadata": {},
   "outputs": [
    {
     "name": "stdout",
     "output_type": "stream",
     "text": [
      "------------------------- Orden 01 -------------------------\n",
      "------------------------- Mesa 03 --------------------------\n",
      "Tacos:\n",
      "\n",
      "    N° Taco: 1\n",
      "        Taco: Tripa\n",
      "        Cebolla: Si\n",
      "        Cilantro: Si\n",
      "        Salsa Verde: No\n",
      "        Salsa Roja: Si\n",
      "        Limón: Si\n",
      "    Precio: $30.0\n",
      "        \n",
      "\n",
      "    N° Taco: 2\n",
      "        Taco: Suadero\n",
      "        Cebolla: Si\n",
      "        Cilantro: Si\n",
      "        Salsa Verde: Si\n",
      "        Salsa Roja: No\n",
      "        Limón: Si\n",
      "    Precio: $30.0\n",
      "        \n",
      "\n",
      "    N° Taco: 3\n",
      "        Taco: Longaniza\n",
      "        Cebolla: Si\n",
      "        Cilantro: Si\n",
      "        Salsa Verde: No\n",
      "        Salsa Roja: No\n",
      "        Limón: Si\n",
      "    Precio: $30.0\n",
      "        \n",
      "\n",
      "    N° Taco: 4\n",
      "        Taco: Bisteck\n",
      "        Cebolla: Si\n",
      "        Cilantro: Si\n",
      "        Salsa Verde: Si\n",
      "        Salsa Roja: No\n",
      "        Limón: Si\n",
      "    Precio: $30.0\n",
      "        \n",
      "\n",
      "    N° Taco: 5\n",
      "        Taco: Pastor\n",
      "        Cebolla: Si\n",
      "        Cilantro: Si\n",
      "        Salsa Verde: No\n",
      "        Salsa Roja: Si\n",
      "        Limón: Si\n",
      "    Precio: $30.0\n",
      "        \n",
      "\n",
      "    N° Taco: 6\n",
      "        Taco: Pastor\n",
      "        Cebolla: Si\n",
      "        Cilantro: Si\n",
      "        Salsa Verde: Si\n",
      "        Salsa Roja: No\n",
      "        Limón: Si\n",
      "    Precio: $30.0\n",
      "        \n",
      "\n",
      "Bebidas:\n",
      "\n",
      "    N° Bebida: 1\n",
      "        Bebida: Coca Cola\n",
      "    Precio: $25.0\n",
      "    \n",
      "\n",
      "    N° Bebida: 2\n",
      "        Bebida: Pepsi Cola\n",
      "    Precio: $25.0\n",
      "    \n",
      "\n",
      "    N° Bebida: 3\n",
      "        Bebida: Boing Mango\n",
      "    Precio: $25.0\n",
      "    \n",
      "\n",
      "    N° Bebida: 4\n",
      "        Bebida: Boing Fresa\n",
      "    Precio: $25.0\n",
      "    \n",
      "\n",
      "Total: $280.0\n"
     ]
    }
   ],
   "source": [
    "#Importamos los módulos de los documentos correspondientes: \n",
    "from OrdenTacos import *\n",
    "from Tacos import *\n",
    "from Bebidas import *\n",
    "\n",
    "taco1 = Tacos(\"Tripa\", \"Si\", \"Si\", \"No\", \"Si\", \"Si\")\n",
    "taco2 = Tacos(\"Suadero\", \"Si\", \"Si\", \"Si\", \"No\", \"Si\")\n",
    "taco3 = Tacos(\"Longaniza\", \"Si\", \"Si\", \"No\", \"No\", \"Si\")\n",
    "taco4 = Tacos(\"Bisteck\", \"Si\", \"Si\", \"Si\", \"No\", \"Si\")\n",
    "taco5 = Tacos(\"Pastor\", \"Si\", \"Si\", \"No\", \"Si\", \"Si\")\n",
    "taco6 = Tacos(\"Pastor\", \"Si\", \"Si\", \"Si\", \"No\", \"Si\")\n",
    "\n",
    "tacos = [taco1, taco2, taco3, taco4, taco5, taco6]\n",
    "\n",
    "bebida1 = Bebidas(\"Coca Cola\")\n",
    "bebida2 = Bebidas(\"Pepsi Cola\")\n",
    "bebida3 = Bebidas(\"Boing Mango\")\n",
    "bebida4 = Bebidas(\"Boing Fresa\")\n",
    "\n",
    "bebidas = [bebida1, bebida2, bebida3, bebida4]\n",
    "\n",
    "orden1 = OrdenTacos(tacos, bebidas, 3)\n",
    "print(orden1)\n",
    "\n"
   ]
  },
  {
   "attachments": {},
   "cell_type": "markdown",
   "metadata": {},
   "source": [
    "---"
   ]
  }
 ],
 "metadata": {
  "kernelspec": {
   "display_name": "Python 3",
   "language": "python",
   "name": "python3"
  },
  "language_info": {
   "codemirror_mode": {
    "name": "ipython",
    "version": 3
   },
   "file_extension": ".py",
   "mimetype": "text/x-python",
   "name": "python",
   "nbconvert_exporter": "python",
   "pygments_lexer": "ipython3",
   "version": "3.9.5"
  },
  "orig_nbformat": 4,
  "vscode": {
   "interpreter": {
    "hash": "01d1536ea089b3881e2ad6e5bf1641f0ef71bd243632b26b215d0f3e201af468"
   }
  }
 },
 "nbformat": 4,
 "nbformat_minor": 2
}
