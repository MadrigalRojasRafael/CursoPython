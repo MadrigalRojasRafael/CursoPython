{
 "cells": [
  {
   "attachments": {},
   "cell_type": "markdown",
   "metadata": {},
   "source": [
    "<center>\n",
    "\n",
    "# **Curso Python**\n",
    "\n",
    "</center>\n",
    "\n",
    "---"
   ]
  },
  {
   "attachments": {},
   "cell_type": "markdown",
   "metadata": {},
   "source": [
    "<center>\n",
    "\n",
    "#### **Manejo de Errores**\n",
    "\n",
    "</center>\n",
    "\n",
    "~~~\n",
    "Los Errores o Excepciones se presentan cuando un programa falla de manera abrupta por diversos motivos, para ello es necesario hacer uso de la clase BaseException, la cual contiene los diversos Errores que se pueden presentar en Python, y a través de ella y sus Clases Hijas es posible dar una solución personalizada a estos errores.\n",
    "\n",
    "Para poder manejar los errores es necesario hacer los siguiente:\n",
    "\n",
    "try:\n",
    "    código\n",
    "exception ClaseExcepcion as e:\n",
    "    Acción para la excepción\n",
    "\n",
    "~~~\n",
    "\n",
    "\n",
    "<center>\n",
    "\n",
    "![BaseException Class in Python](img\\BaseExceptionClass.png \"Clase → BaseException\")\n",
    "\n",
    "</center>\n"
   ]
  },
  {
   "cell_type": "code",
   "execution_count": null,
   "metadata": {},
   "outputs": [],
   "source": [
    "#Forma de manejar errores en Python:\n",
    "try: \n",
    "    15/0 \n",
    "except Exception as e: \n",
    "    print(f\"La operación no puede ser efectuada.\\nError → {e}\")\n",
    "\n",
    "#Otra forma de manejar errores en Python es la siguiente:\n",
    "div = None\n",
    "\n",
    "dividendo = 15\n",
    "divisor = 0\n",
    "\n",
    "try: \n",
    "    div = dividendo / divisor\n",
    "except Exception as e:\n",
    "    print(f\"Resultado = {div}\")\n",
    "    print(f\"La operación no puede ser efectuada.\\nError → {e}\")\n",
    "\n",
    "dividendo = 15\n",
    "divisor = \"0\"\n",
    "\n",
    "try: \n",
    "    div = dividendo / divisor\n",
    "except Exception as e:\n",
    "    print(f\"Resultado = {div}\")\n",
    "    print(f\"La operación no puede ser efectuada.\\nError → {e}\")\n",
    "\n",
    "#NOTA: \n",
    "# Una excepción que forma parte de una Clase Hija puede llamarse desde la Clase Padre,\n",
    "# pero una excepción que forma parte de una Clase Padre no puede llamarse desde la Clase Hija.\n",
    "\n",
    "#Para evitar esto podemos utilizar la capacidad de admitir más de un except para un try:\n",
    "dividendo = 15\n",
    "divisor = \"0\"\n",
    "\n",
    "try: \n",
    "    div = dividendo / divisor\n",
    "# Según el caso al que corresponda el Error se aplicará el except correspondiente. \n",
    "except ZeroDivisionError as e:\n",
    "    print(f\"Resultado = {div}\")\n",
    "    print(f\"La operación no puede ser efectuada.\\nError → {e}\")\n",
    "except TypeError as e:\n",
    "    print(f\"Resultado = {div}\")\n",
    "    print(f\"La operación no puede ser efectuada.\\nError → {e}\")\n",
    "except NameError as e:\n",
    "    print(f\"Resultado = {div}\")\n",
    "    print(f\"La operación no puede ser efectuada.\\nError → {e}\")\n",
    "\n",
    "#except tambien admite las palabras reservadas else y finally:\n",
    "# - else → se ejecuta cuando no se encontró ninguna excepción.\n",
    "# - finally → se ejecuta siempre al final, sin importar si se enconntró o no una excepción.\n",
    "dividendo = 15\n",
    "divisor = 2\n",
    "\n",
    "try: \n",
    "    div = dividendo / divisor\n",
    "# Según el caso al que corresponda el Error se aplicará el except correspondiente. \n",
    "except ZeroDivisionError as e:\n",
    "    print(f\"La operación no puede ser efectuada.\\nError → {e}\")\n",
    "except TypeError as e:\n",
    "    print(f\"La operación no puede ser efectuada.\\nError → {e}\")\n",
    "except NameError as e:\n",
    "    print(f\"La operación no puede ser efectuada.\\nError → {e}\")\n",
    "except Exception as e:\n",
    "    print(f\"La operación no puede ser efectuada.\\nError → {e}\")\n",
    "else:\n",
    "    print(f\"{dividendo} / {divisor} = {div}\")\n",
    "finally:\n",
    "    print(\"Fin del programa.\")"
   ]
  },
  {
   "attachments": {},
   "cell_type": "markdown",
   "metadata": {},
   "source": [
    "+ **Creación de Clases de Excepciones**\n",
    "\n",
    "    - Se puede **crear excepciones específicas** según las necesidades que se tengan, esto se realiza de la siguiente manera:"
   ]
  },
  {
   "cell_type": "code",
   "execution_count": null,
   "metadata": {},
   "outputs": [],
   "source": [
    "#Creación de la Clase que almacenará la(s) excepcion(es):\n",
    "# - Esta clase siempre deberá heredar de la clase Exception.\n",
    "class EqualNumbersException(Exception):\n",
    "\n",
    "    def __init__(self, msg):\n",
    "        self.message = msg\n",
    "\n",
    "div = None\n",
    "\n",
    "try: \n",
    "    dividendo = int(input(\"Ingrese un Dividendo: \"))\n",
    "    divisor = int(input(\"Ingrese un Divisor: \"))\n",
    "    if dividendo == divisor:\n",
    "        #Para lanzar una excepción desde una Clase Creada se hace uso de la palabra reservada raise:\n",
    "        raise EqualNumbersException(\"Los números son iguales.\")\n",
    "    div = dividendo / divisor\n",
    "# Según el caso al que corresponda el Error se aplicará el except correspondiente. \n",
    "except ZeroDivisionError as e:\n",
    "    print(f\"La operación no puede ser efectuada.\\nError → {e}\")\n",
    "except TypeError as e:\n",
    "    print(f\"La operación no puede ser efectuada.\\nError → {e}\")\n",
    "except NameError as e:\n",
    "    print(f\"La operación no puede ser efectuada.\\nError → {e}\")\n",
    "except Exception as e:\n",
    "    print(f\"La operación no puede ser efectuada.\\nError → {e}\")\n",
    "else:\n",
    "    print(f\"{dividendo} / {divisor} = {div}\")\n",
    "finally:\n",
    "    print(\"Fin del programa.\")"
   ]
  },
  {
   "attachments": {},
   "cell_type": "markdown",
   "metadata": {},
   "source": [
    "---"
   ]
  }
 ],
 "metadata": {
  "kernelspec": {
   "display_name": "Python 3",
   "language": "python",
   "name": "python3"
  },
  "language_info": {
   "codemirror_mode": {
    "name": "ipython",
    "version": 3
   },
   "file_extension": ".py",
   "mimetype": "text/x-python",
   "name": "python",
   "nbconvert_exporter": "python",
   "pygments_lexer": "ipython3",
   "version": "3.9.5 (tags/v3.9.5:0a7dcbd, May  3 2021, 17:27:52) [MSC v.1928 64 bit (AMD64)]"
  },
  "orig_nbformat": 4,
  "vscode": {
   "interpreter": {
    "hash": "01d1536ea089b3881e2ad6e5bf1641f0ef71bd243632b26b215d0f3e201af468"
   }
  }
 },
 "nbformat": 4,
 "nbformat_minor": 2
}
