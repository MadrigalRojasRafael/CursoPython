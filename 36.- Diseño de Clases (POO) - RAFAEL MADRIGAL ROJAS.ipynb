{
 "cells": [
  {
   "attachments": {},
   "cell_type": "markdown",
   "metadata": {},
   "source": [
    "<center>\n",
    "\n",
    "# **Curso Python**\n",
    "\n",
    "</center>\n",
    "\n",
    "---"
   ]
  },
  {
   "attachments": {},
   "cell_type": "markdown",
   "metadata": {},
   "source": [
    "<center>\n",
    "\n",
    "#### **Diseño de Clases**\n",
    "\n",
    "</center>\n",
    "\n",
    "    El diseño de clases se refiere a la planeación previa de más de una clase para que trabajen conjuntamente, dando como resultado un código más limpio y funcional.\n"
   ]
  },
  {
   "attachments": {},
   "cell_type": "markdown",
   "metadata": {},
   "source": [
    "#### **Ejemplo de Diseño de Clases**\n",
    "+ Para **ejemplificar** el **diseño de clases** se harán **2 clases** que **trabajarán conjuntamente**, una **clase** es para **Productos** y otra para **Ordenes**, aprovechando la **Modularidad** en **Python** haremos un **código más legible**."
   ]
  },
  {
   "cell_type": "code",
   "execution_count": null,
   "metadata": {},
   "outputs": [],
   "source": [
    "#Importamos todos los Módulos de los documentos → Productos, Ordenes\n",
    "from Productos import *\n",
    "from Ordenes import *\n",
    "\n",
    "#Creamos los Objetos mediante la Clase Productos:\n",
    "producto1 = Productos(\"Shampoo\", 95)\n",
    "producto2 = Productos(\"Jabón\", 25)\n",
    "producto3 = Productos(\"Desodorante\", 62)\n",
    "producto4 = Productos(\"Cera\", 63)\n",
    "producto5 = Productos(\"Crema\", 84)\n",
    "producto6 = Productos(\"Pasta de Dientes\", 58)\n",
    "producto7 = Productos(\"Serum\", 255)\n",
    "producto8 = Productos(\"Bloqueador Facial\", 306)\n",
    "producto9 = Productos(\"Bloqueador Corporal\", 411)\n",
    "\n",
    "#Creamos la lista para pasarla como Argumento al Método __init__() de la Clase Ordenes:\n",
    "productos1 = [producto1, producto2, producto3, producto4]\n",
    "\n",
    "#Creamos el Objeto orden1 a través de la Clase Ordenes: \n",
    "orden1 = Ordenes(productos1)\n",
    "\n",
    "#Llamamos a los métodos __str__() y totalOrden de la Clase Ordenes para el Objeto → orden1:\n",
    "print(\" ✰ \".center(100, \"-\"))\n",
    "print(orden1)\n",
    "print(orden1.totalOrden())\n",
    "\n",
    "#Creamos otra lista para pasarla como Argumento al Método __init__() de la Clase Ordenes:\n",
    "productos2 = [producto5, producto6, producto7, producto8, producto9]\n",
    "\n",
    "#Creamos el Objeto orden2 a través de la Clase Ordenes:\n",
    "orden2 = Ordenes(productos2)\n",
    "\n",
    "#Llamamos a los métodos __str__() y totalOrden de la Clase Ordenes para el Objeto → orden2: \n",
    "print(\" ✰ \".center(100, \"-\"))\n",
    "print(orden2)\n",
    "print(orden2.totalOrden())\n",
    "\n",
    "##Creamos un Objeto mediante la Clase Productos:\n",
    "producto10 = Productos(\"Cepillo de Dientes\", 55.50)\n",
    "\n",
    "#Llamamos al método addProductos para el Objeto orden2 y le pasamos como argumento el Objeto producto10:\n",
    "orden2.addProductos(producto10)\n",
    "\n",
    "#Verificamos que se haya agregado el Objeto producto10 a la lista del Objeto orden2:  \n",
    "print(\" ✰ \".center(100, \"-\"))\n",
    "print(orden2)\n",
    "print(orden2.totalOrden())"
   ]
  },
  {
   "attachments": {},
   "cell_type": "markdown",
   "metadata": {},
   "source": [
    "---"
   ]
  }
 ],
 "metadata": {
  "kernelspec": {
   "display_name": "Python 3",
   "language": "python",
   "name": "python3"
  },
  "language_info": {
   "codemirror_mode": {
    "name": "ipython",
    "version": 3
   },
   "file_extension": ".py",
   "mimetype": "text/x-python",
   "name": "python",
   "nbconvert_exporter": "python",
   "pygments_lexer": "ipython3",
   "version": "3.9.5 (tags/v3.9.5:0a7dcbd, May  3 2021, 17:27:52) [MSC v.1928 64 bit (AMD64)]"
  },
  "orig_nbformat": 4,
  "vscode": {
   "interpreter": {
    "hash": "01d1536ea089b3881e2ad6e5bf1641f0ef71bd243632b26b215d0f3e201af468"
   }
  }
 },
 "nbformat": 4,
 "nbformat_minor": 2
}
