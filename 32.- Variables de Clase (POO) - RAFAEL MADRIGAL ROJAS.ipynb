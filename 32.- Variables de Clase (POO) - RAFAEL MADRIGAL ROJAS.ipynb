{
 "cells": [
  {
   "attachments": {},
   "cell_type": "markdown",
   "metadata": {},
   "source": [
    "<center>\n",
    "\n",
    "# **Curso Python**\n",
    "\n",
    "</center>\n",
    "\n",
    "---"
   ]
  },
  {
   "attachments": {},
   "cell_type": "markdown",
   "metadata": {},
   "source": [
    "<center>\n",
    "\n",
    "#### **Variables de Clase**\n",
    "\n",
    "</center>\n",
    "\n",
    "~~~\n",
    "Una variable de clase es una variable contraria a las variables de instancia, pertenece a la clase que la contiene y no a las instancias de dicha clase, es decir, que todos los objetos que se creen a partir de esta clase compartirán su valor.\n",
    "~~~\n"
   ]
  },
  {
   "cell_type": "code",
   "execution_count": null,
   "metadata": {},
   "outputs": [],
   "source": [
    "#Ejemplo de variables de clase y variables de instancia en Python:\n",
    "\n",
    "#Creación de la Clase → Mexicano:\n",
    "class Mexicano: \n",
    "\n",
    "    #Creación de la Variable de Clase → paisNacimiento:\n",
    "    paisNacimiento = \"México\"\n",
    "\n",
    "    #Creación del método __init()__ con las Variables de Instancia → marca, nombre, modelo:\n",
    "    def __init__(self, nombre, apellidoPaterno, apellidoMaterno):\n",
    "        self.nombre = nombre\n",
    "        self.apellidoPaterno = apellidoPaterno\n",
    "        self.apellidoMaterno = apellidoMaterno\n",
    "\n",
    "#Creación de Objetos para demostar las Variables de Clase y Variables de Instancia:\n",
    "#Creación del Objeto → mexicano1:\n",
    "mexicano1 = Mexicano(\"Juan\", \"López\", \"Robles\")\n",
    "print(\" Datos → mexicano1 \".center(50, \"-\"))\n",
    "#Variables de Instancia del Objeto mexicano1: \n",
    "print(f\"Nombre: {mexicano1.nombre}\")\n",
    "print(f\"Apellido Paterno: {mexicano1.apellidoPaterno}\")\n",
    "print(f\"Apellido Materno: {mexicano1.apellidoMaterno}\")\n",
    "#Variable de Clase de la Clase Mexicano:\n",
    "print(f\"País de Nacimiento: {mexicano1.paisNacimiento}\")\n",
    "\n",
    "#Creación del Objeto → mexicano2:\n",
    "mexicano2 = Mexicano(\"Julia\", \"Márquez\", \"Suárez\")\n",
    "print(\" Datos → mexicano2 \".center(50, \"-\"))\n",
    "#Variables de Instancia del Objeto mexicano2:\n",
    "print(f\"Nombre: {mexicano2.nombre}\")\n",
    "print(f\"Apellido Paterno: {mexicano2.apellidoPaterno}\")\n",
    "print(f\"Apellido Materno: {mexicano2.apellidoMaterno}\")\n",
    "#Variable de Clase de la Clase Mexicano:\n",
    "print(f\"País de Nacimiento: {mexicano2.paisNacimiento}\")\n",
    "\n",
    "#Python permite añadir Variables de Clase fuera de la Clase de la siguiente manera:\n",
    "Mexicano.nacionalidad = \"Mexican@\"\n",
    "\n",
    "#Ejemplo de la Creación de otra variable de Clase creada fuera de la Clase:\n",
    "print(\" Datos → mexicano1 \".center(50, \"-\"))\n",
    "#Variables de Instancia del Objeto mexicano1: \n",
    "print(f\"Nombre: {mexicano1.nombre}\")\n",
    "print(f\"Apellido Paterno: {mexicano1.apellidoPaterno}\")\n",
    "print(f\"Apellido Materno: {mexicano1.apellidoMaterno}\")\n",
    "#Variables de Clase de la Clase Mexicano:\n",
    "print(f\"País de Nacimiento: {mexicano1.paisNacimiento}\")\n",
    "print(f\"Nacionalidad: {mexicano1.nacionalidad}\")\n",
    "\n",
    "print(\" Datos → mexicano2 \".center(50, \"-\"))\n",
    "#Variables de Instancia del Objeto mexicano2:\n",
    "print(f\"Nombre: {mexicano2.nombre}\")\n",
    "print(f\"Apellido Paterno: {mexicano2.apellidoPaterno}\")\n",
    "print(f\"Apellido Materno: {mexicano2.apellidoMaterno}\")\n",
    "#Variables de Clase de la Clase Mexicano:\n",
    "print(f\"País de Nacimiento: {mexicano2.paisNacimiento}\")\n",
    "print(f\"Nacionalidad: {mexicano2.nacionalidad}\")"
   ]
  },
  {
   "attachments": {},
   "cell_type": "markdown",
   "metadata": {},
   "source": [
    "---"
   ]
  }
 ],
 "metadata": {
  "kernelspec": {
   "display_name": "Python 3",
   "language": "python",
   "name": "python3"
  },
  "language_info": {
   "codemirror_mode": {
    "name": "ipython",
    "version": 3
   },
   "file_extension": ".py",
   "mimetype": "text/x-python",
   "name": "python",
   "nbconvert_exporter": "python",
   "pygments_lexer": "ipython3",
   "version": "3.11.0 (main, Oct 24 2022, 18:26:48) [MSC v.1933 64 bit (AMD64)]"
  },
  "orig_nbformat": 4,
  "vscode": {
   "interpreter": {
    "hash": "a0c424b9ebc64511fd63688bf3600ce5b364413e364e3eb1cf584f0476e23d18"
   }
  }
 },
 "nbformat": 4,
 "nbformat_minor": 2
}
