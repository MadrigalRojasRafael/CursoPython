{
 "cells": [
  {
   "attachments": {},
   "cell_type": "markdown",
   "metadata": {},
   "source": [
    "<center>\n",
    "\n",
    "# **Curso Python**\n",
    "\n",
    "</center>\n",
    "\n",
    "---"
   ]
  },
  {
   "attachments": {},
   "cell_type": "markdown",
   "metadata": {},
   "source": [
    "<center>\n",
    "\n",
    "#### **Clases Abstractas**\n",
    "\n",
    "</center>\n",
    "\n",
    "~~~\n",
    "\n",
    "Una Clase Abstracta es una Clase que contiene Atributos y Métodos que no sirven para Heredar a otras Clases, por lo general sólo se utilizan para Heredar.\n",
    "\n",
    "Para hacer una Clase Abstracta debemos heredar de otra Clase a nuestra Clase que deseamos volver Abstracta, lo cual se hace de la siguiente manera:\n",
    "\n",
    "        #ABC = Abstract Base Class\n",
    "        from abc import ABC, abstractmethod\n",
    "\n",
    "        class NombreClase(ABC)\n",
    "            ...\n",
    "\n",
    "Un método abstracto debe estar dentro de una Clase Abstracta y se implementa de la siguiente manera:\n",
    "\n",
    "        @abstractmethod\n",
    "        def nombreClase(self):\n",
    "            pass\n",
    "\n",
    "Para que el Método funcione se debe agregar la implementación necesaria de Código en la Clase que heredaS.  \n",
    "~~~"
   ]
  },
  {
   "cell_type": "code",
   "execution_count": null,
   "metadata": {},
   "outputs": [],
   "source": [
    "#Ejemplo de Clase Abstracta en Python:\n",
    "from abc import ABC, abstractmethod\n",
    "\n",
    "class Poligonos:\n",
    "    def __init__(self, nLados):\n",
    "        self._nLados = nLados\n",
    "\n",
    "    @abstractmethod\n",
    "    def angulosInternos(self):\n",
    "        pass\n",
    "\n",
    "class EjmPoligono(Poligonos):\n",
    "    def __init__(self, nLados):\n",
    "        super().__init__(nLados)\n",
    "\n",
    "    def angulosInternos(self):\n",
    "        return f\"Ángulo: {360/self._nLados}°\\nNúmero de Ángulos: {self._nLados}\"\n",
    "\n",
    "ejm1 = EjmPoligono(6)\n",
    "print(ejm1.angulosInternos())"
   ]
  },
  {
   "attachments": {},
   "cell_type": "markdown",
   "metadata": {},
   "source": [
    "---"
   ]
  }
 ],
 "metadata": {
  "kernelspec": {
   "display_name": "Python 3",
   "language": "python",
   "name": "python3"
  },
  "language_info": {
   "codemirror_mode": {
    "name": "ipython",
    "version": 3
   },
   "file_extension": ".py",
   "mimetype": "text/x-python",
   "name": "python",
   "nbconvert_exporter": "python",
   "pygments_lexer": "ipython3",
   "version": "3.11.0 (main, Oct 24 2022, 18:26:48) [MSC v.1933 64 bit (AMD64)]"
  },
  "orig_nbformat": 4,
  "vscode": {
   "interpreter": {
    "hash": "a0c424b9ebc64511fd63688bf3600ce5b364413e364e3eb1cf584f0476e23d18"
   }
  }
 },
 "nbformat": 4,
 "nbformat_minor": 2
}
