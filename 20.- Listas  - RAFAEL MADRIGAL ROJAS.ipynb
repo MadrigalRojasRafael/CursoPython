{
 "cells": [
  {
   "attachments": {},
   "cell_type": "markdown",
   "metadata": {},
   "source": [
    "<center>\n",
    "\n",
    "# **Curso Python**\n",
    "\n",
    "</center>\n",
    "\n",
    "--- "
   ]
  },
  {
   "attachments": {},
   "cell_type": "markdown",
   "metadata": {},
   "source": [
    "<center>\n",
    "\n",
    "#### **Listas**\n",
    "\n",
    "</center>\n",
    "\n",
    "~~~\n",
    "Las listas sirven para agrupar varios datos en una sola variable y pueden almacenar distintos tipos de datos (numéricos, cadena de texto, booleanos y demás), una lista es una colección de datos ordenados y mutables, la forma de declarar una lista es la siguiente: \n",
    "~~~\n",
    "\n",
    "<center>\n",
    "\n",
    "~~~\n",
    "nombreLista = [elementosLista]\n",
    "~~~\n",
    "\n",
    "</center>"
   ]
  },
  {
   "cell_type": "code",
   "execution_count": null,
   "metadata": {},
   "outputs": [],
   "source": [
    "#Forma de declarar una lista → lista = [elemento1, elemento2, elemento3, ...]\n",
    "\n",
    "#Ejemplo de lista que contiene nombres de frutas con Python:\n",
    "lista = [\"Manzana\", \"Durazno\", \"Sandía\", \"Melón\", \"Kiwi\", \"Naranja\", \"Mango\", \"Mandarina\"]\n",
    "print(f\"La lista de frutas contiene: {lista}\")\n",
    "print(f\"La lista es un tipo de dato {type(lista)}\")\n",
    "\n",
    "#Saber el largo de una lista\n",
    "#Para saber el largo de una lista en Python hacemos uso de la función len(nombreLista) como se muestra a continuación:\n",
    "print(f\"La lista contiene {len(lista)} elementos.\")"
   ]
  },
  {
   "attachments": {},
   "cell_type": "markdown",
   "metadata": {},
   "source": [
    "+ **Acceder a elemento(s) de una lista por su índice → lista[índice]**\n",
    "    - Las **listas** permiten acciones como **acceder a los elementos**, lo cual se puede hacer de la siguiente manera:"
   ]
  },
  {
   "cell_type": "code",
   "execution_count": null,
   "metadata": {},
   "outputs": [],
   "source": [
    "#Forma de acceder a los elementos por índice → print(lista[índice])\n",
    "#La primera posición en una lista se indica a través del índice [0] y así sucesivamente, o sea, van \"desfasados\" en 1\n",
    "#Ejemplo de como acceder a los elementos por su índice en Python:\n",
    "print(lista[0])"
   ]
  },
  {
   "attachments": {},
   "cell_type": "markdown",
   "metadata": {},
   "source": [
    "+ **Acceder a elemento(s) de una lista por un rango de índices → lista[índiceInicial:índiceFinal]**\n",
    "    - Las **listas** permiten acciones como **acceder a los elementos po un rango de índices**, lo cual se puede hacer de la siguiente manera:"
   ]
  },
  {
   "cell_type": "code",
   "execution_count": null,
   "metadata": {},
   "outputs": [],
   "source": [
    "#Forma de acceder a los elementos por un rango de índices → print(lista[índiceInicial:índiceFinal])\n",
    "#Al acceder de esta manera a los elementos no se tomará en cuenta el elemento correspondiente al índiceFinal.\n",
    "#Ejemplo de como acceder a los elementos por un rango de índices en Python:\n",
    "print(lista[1:4])\n",
    "\n",
    "#Para acceder desde el primer índice de una lista hasta determinado índice de dicha lista se hace de la siguiente forma:\n",
    "# print(lista[ :índiceFinal])\n",
    "print(lista[ :4])\n",
    "\n",
    "#Para acceder desde algún ídice de una lista hasta el último ídice de dicha lista se hace de la siguiente forma:\n",
    "# print(lista[índiceIncial: ])\n",
    "print(lista[4: ])"
   ]
  },
  {
   "attachments": {},
   "cell_type": "markdown",
   "metadata": {},
   "source": [
    "+ **Imprimir elemento por elemento de una lista → for elemento in lista**\n",
    "    - Para **imprimir cada elemento** de una **lista** podemos utilizar un **ciclo for** como en el siguiente ejemplo:"
   ]
  },
  {
   "cell_type": "code",
   "execution_count": null,
   "metadata": {},
   "outputs": [],
   "source": [
    "#Forma de acceder a cada elemento de una lista con un ciclo for con Python:\n",
    "# for elemento in lista:\n",
    "#     print(elemento)\n",
    "for elemento in lista:\n",
    "    print(elemento)"
   ]
  },
  {
   "attachments": {},
   "cell_type": "markdown",
   "metadata": {},
   "source": [
    "+ **Cambiar el valor de algún elemento a través del índice en una lista → lista[índice] = nuevoValor**\n",
    "    - Para **cambiar** el **valor** de un **elemento** a través de su **índice** se debe hacer hacer de la siguiente manera:"
   ]
  },
  {
   "cell_type": "code",
   "execution_count": null,
   "metadata": {},
   "outputs": [],
   "source": [
    "#Forma de cambiar el valor de algún elemento a través del índice en una lista con Python:\n",
    "# lista[índice] = nuevoValor\n",
    "#Ejemplo de como cambiar el valor de algún elemento a través del índice en una lista con Python:\n",
    "lista[0] = \"Frambuesa\"\n",
    "print(f\"La lista de frutas contiene: {lista}\")"
   ]
  },
  {
   "attachments": {},
   "cell_type": "markdown",
   "metadata": {},
   "source": [
    "+ **Agregar elementos a una lista → append(nuevoElemento)**\n",
    "    - Para **agregar** un **elemento** a una **lista** debemos hacer uso de la **función** para listas **append(nuevoElemento)**, esta función sólo **agrega** los **elementos** al **final** de la **lista**."
   ]
  },
  {
   "cell_type": "code",
   "execution_count": null,
   "metadata": {},
   "outputs": [],
   "source": [
    "#Forma de agregar un nuevo elemento a una lista con append(nuevoElemento) en Python:\n",
    "# lista.append(nuevoElemento)\n",
    "# print(lista)\n",
    "\n",
    "#Ejemplo de como agregar elementos a una lista con append(nuevoElemento) en Python:\n",
    "lista.append(\"Guayaba\")\n",
    "print(f\"La lista de frutas contiene: {lista}\")"
   ]
  },
  {
   "attachments": {},
   "cell_type": "markdown",
   "metadata": {},
   "source": [
    "+ **Agregar elementos en un índice específico de una lista → insert(índice, nuevoElemento)**\n",
    "    - Para **agregar elementos** en un **índice específico** de una **lista** se debe hacer uso de la **función** para listas **insert(índice, nuevoElemento)**, la cual a través de los **parámetros** dados puede **agregar elementos** en una **posición específica** dentro de una **lista**."
   ]
  },
  {
   "cell_type": "code",
   "execution_count": null,
   "metadata": {},
   "outputs": [],
   "source": [
    "#Forma de agregar un nuevo elemento a una lista con insert(índice, nuevoElemento) en Python:\n",
    "# lista.insert(índice, nuevoElemento)\n",
    "# print(lista)\n",
    "\n",
    "#Ejemplo de como agregar elementos a una lista con insert(índice, nuevoElemento) en Python:\n",
    "lista.insert(4, \"Uva\")\n",
    "print(f\"La lista de frutas contiene: {lista}\")"
   ]
  },
  {
   "attachments": {},
   "cell_type": "markdown",
   "metadata": {},
   "source": [
    "+ **Remover el último elemento de una lista → pop()**\n",
    "    - Para **remover** el **último elemento** de una **lista** debemos hacer uso de la **función** para listas **pop()**, la cual sirve para **eliminar** el **último elemento** de la **lista**."
   ]
  },
  {
   "cell_type": "code",
   "execution_count": null,
   "metadata": {},
   "outputs": [],
   "source": [
    "#Forma de remover el último elemento de una lista con pop() en Python:\n",
    "# lista.pop()\n",
    "# print(lista)\n",
    "\n",
    "#Ejemplo de como remover un elemento a una lista con pop() en Python:\n",
    "lista.pop()\n",
    "print(f\"La lista de frutas contiene: {lista}\")"
   ]
  },
  {
   "attachments": {},
   "cell_type": "markdown",
   "metadata": {},
   "source": [
    "+ **Remover un elemento por índice de una lista → del lista[índice]**\n",
    "    - Para **remover** un  **elemento por su índice** de una **lista** debemos hacer uso de la **palabra reservada del** de la siguiente manera **del lista[índice]**, la cual sirve para **eliminar** el **elemento por su índice** de la **lista**."
   ]
  },
  {
   "cell_type": "code",
   "execution_count": null,
   "metadata": {},
   "outputs": [],
   "source": [
    "#Forma de remover un elemento por su índice de una lista con del lista[índice] en Python:\n",
    "# del lista[índice]\n",
    "# print(lista)\n",
    "\n",
    "#Ejemplo de como remover un elemento por su índice de una lista con del lista[índice] en Python:\n",
    "del lista[5]\n",
    "print(f\"La lista de frutas contiene: {lista}\")"
   ]
  },
  {
   "attachments": {},
   "cell_type": "markdown",
   "metadata": {},
   "source": [
    "+ **Remover un elemento de una lista por su valor → remove(valorElemento)**\n",
    "    - Para **remover** un **elemento** de una **lista** por su **valor** debemos hacer uso de la **función** para listas **remove(valorElemento)**, la cual sirve para **eliminar** un **elemento** según su **valor**."
   ]
  },
  {
   "cell_type": "code",
   "execution_count": null,
   "metadata": {},
   "outputs": [],
   "source": [
    "#Forma de remover un elemento a una lista con remove(valorElemento) en Python:\n",
    "# lista.remove(valorElemento)\n",
    "# print(lista)\n",
    "\n",
    "#Ejemplo de como remover un elemento a una lista con remove(valorElemento) en Python:\n",
    "lista.remove(\"Manzana\")\n",
    "print(f\"La lista de frutas contiene: {lista}\")"
   ]
  },
  {
   "attachments": {},
   "cell_type": "markdown",
   "metadata": {},
   "source": [
    "+ **Remover todos los elementos de una lista → clear()**\n",
    "    - Para **remover todos los elementos** de una **lista** debemos hacer uso de la **función** para listas **clear()**, la cual sirve para **eliminar todos los elementos** de una **lista**."
   ]
  },
  {
   "cell_type": "code",
   "execution_count": null,
   "metadata": {},
   "outputs": [],
   "source": [
    "#Forma de remover todos los elementos de una lista con clear() en Python:\n",
    "# lista.clear()\n",
    "# print(lista)\n",
    "\n",
    "#Ejemplo de como remover todos los elementos de una lista con clear() en Python:\n",
    "lista.clear()\n",
    "print(f\"La lista de frutas contiene: {lista}\")"
   ]
  },
  {
   "attachments": {},
   "cell_type": "markdown",
   "metadata": {},
   "source": [
    "+ **Eliminar la lista → del lista**\n",
    "    - Para **eliminar**  una **lista** debemos hacer uso de la **palabra reservada del** de la siguiente manera **del lista**, la cual sirve para **eliminar** por completo la **variable** que **almacena** la **lista**."
   ]
  },
  {
   "cell_type": "code",
   "execution_count": null,
   "metadata": {},
   "outputs": [],
   "source": [
    "#Forma de eliminar una lista en Python:\n",
    "# del lista\n",
    "# print(lista)\n",
    "\n",
    "#Ejemplo de como eliminar una variable que almacena los datos de una lista en Python:\n",
    "del lista\n",
    "print(lista) #Error → NameError: name 'lista' is not defined, ya que la lista ha sido eliminada."
   ]
  },
  {
   "attachments": {},
   "cell_type": "markdown",
   "metadata": {},
   "source": [
    "---"
   ]
  }
 ],
 "metadata": {
  "kernelspec": {
   "display_name": "Python 3",
   "language": "python",
   "name": "python3"
  },
  "language_info": {
   "name": "python",
   "version": "3.11.0 (main, Oct 24 2022, 18:26:48) [MSC v.1933 64 bit (AMD64)]"
  },
  "orig_nbformat": 4,
  "vscode": {
   "interpreter": {
    "hash": "a0c424b9ebc64511fd63688bf3600ce5b364413e364e3eb1cf584f0476e23d18"
   }
  }
 },
 "nbformat": 4,
 "nbformat_minor": 2
}
