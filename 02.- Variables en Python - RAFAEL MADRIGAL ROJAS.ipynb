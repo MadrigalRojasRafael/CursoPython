{
 "cells": [
  {
   "attachments": {},
   "cell_type": "markdown",
   "metadata": {},
   "source": [
    "<center>\n",
    "\n",
    "# **Curso Python**\n",
    "\n",
    "</center>\n",
    "\n",
    "---"
   ]
  },
  {
   "attachments": {},
   "cell_type": "markdown",
   "metadata": {},
   "source": [
    "<center>\n",
    "\n",
    "#### **Variables en Python**\n",
    "\n",
    "</center>\n",
    "\n",
    "~~~\n",
    "Las variables en Python sirven para identificar determinado dato almacenado en memoria, estos datos pueden tener ser de distintos tipos de datos y la manera de declarar una variable es la siguiente: \n",
    "~~~"
   ]
  },
  {
   "cell_type": "code",
   "execution_count": null,
   "metadata": {},
   "outputs": [],
   "source": [
    "# Forma para declarar variables en Python → nombreVariable = valorDato\n",
    "\n",
    "# - Variable de tipo String\n",
    "varStr = \"Variable String en Python\"\n",
    "\n",
    "# - Variable de tipo Int \n",
    "varInt = 14\n",
    "\n",
    "# - Variable de tipo FLoat\n",
    "varFloat = 15.25\n",
    "\n",
    "# - Variable de tipo Boolean\n",
    "varBoolean = True\n",
    "\n",
    "# - Variable de tipo Complex\n",
    "varComplex1 = 14+3j\n",
    "varComplex2 = complex(21,-21)\n",
    "\n",
    "# - Variable de tipo Dictionary\n",
    "varDict = {\n",
    "    \"Nombre\": \"Rafael\",\n",
    "    \"Edad\": 20,\n",
    "    \"CURP\": \"MARR021205HDFJFA8\"\n",
    "}\n",
    "\n",
    "# - Variable de tipo List\n",
    "varList = [1, 2, 3, 4, 5]\n",
    "\n",
    "# - Variable de tipo Tuple\n",
    "varTuple = (5, \"Rafael\", \"Diciembre\", 2002)"
   ]
  },
  {
   "attachments": {},
   "cell_type": "markdown",
   "metadata": {},
   "source": [
    "+ **Variable mostrada en consola**\n",
    "\n",
    "    - Para **visualizar** una **variable mediante terminal** se hace de la siguiente manera:"
   ]
  },
  {
   "cell_type": "code",
   "execution_count": null,
   "metadata": {},
   "outputs": [],
   "source": [
    "# Forma para mostrar variables en terminal con Python → print(nombreVariable)\n",
    "\n",
    "# - Variable de tipo String\n",
    "print(varStr)\n",
    "\n",
    "# - Variable de tipo Int \n",
    "print(varInt)\n",
    "\n",
    "# - Variable de tipo FLoat\n",
    "print(varFloat)\n",
    "\n",
    "# - Variable de tipo Boolean\n",
    "print(varBoolean)\n",
    "\n",
    "# - Variable de tipo Complex\n",
    "print(varComplex1)\n",
    "print(varComplex2)\n",
    "\n",
    "\n",
    "# - Variable de tipo Dictionary\n",
    "print(varDict)\n",
    "\n",
    "# - Variable de tipo List\n",
    "print(varList)\n",
    "\n",
    "# - Variable de tipo Tuple\n",
    "print(varTuple)"
   ]
  },
  {
   "attachments": {},
   "cell_type": "markdown",
   "metadata": {},
   "source": [
    "+ **Reescritura de variables**\n",
    "\n",
    "    - **Python permite reescribir variables**, y para ello solo requerimos **volver a declarar la variable con el nuevo valor**, como se muestra a continuación:"
   ]
  },
  {
   "cell_type": "code",
   "execution_count": null,
   "metadata": {},
   "outputs": [],
   "source": [
    "# - Variable de tipo String\n",
    "varStr = \"Nueva variable\"\n",
    "\n",
    "# - Variable de tipo Int \n",
    "varInt = 25\n",
    "\n",
    "# - Variable de tipo FLoat\n",
    "varFloat = 7.21\n",
    "\n",
    "# - Variable de tipo Boolean\n",
    "varBoolean = False\n",
    "\n",
    "# - Variable de tipo Complex\n",
    "varComplex1 = 2+5j\n",
    "varComplex2 = complex(45,-2)\n",
    "\n",
    "# - Variable de tipo Dictionary\n",
    "varDict = {\n",
    "    \"Nombre\": \"Daniel\",\n",
    "    \"Edad\": 25,\n",
    "    \"CURP\": \"MARD001003HDFJFA8\"\n",
    "}\n",
    "\n",
    "# - Variable de tipo List\n",
    "varList = [6, 8, 10, 12, 14]\n",
    "\n",
    "# - Variable de tipo Tuple\n",
    "varTuple = (6, \"Daniel\", \"Octubre\", 2000)"
   ]
  },
  {
   "attachments": {},
   "cell_type": "markdown",
   "metadata": {},
   "source": [
    "+ **Operaciones con variables**\n",
    "\n",
    "    - **Python permite** hacer **diferentes operaciones con las variables**, algunos de los ejemplos de las operaciones de variables son los siguientes:"
   ]
  },
  {
   "cell_type": "code",
   "execution_count": null,
   "metadata": {},
   "outputs": [],
   "source": [
    "#Declaración de variables de tipo Numérico\n",
    "num1 = 12\n",
    "num2 = 12\n",
    "\n",
    "#Operaciones de variables con variables de tipo Numérico\n",
    "# - Suma\n",
    "suma = num1+num2    \n",
    "print(suma)\n",
    "\n",
    "# - Resta\n",
    "resta = num1-num2    \n",
    "print(resta)\n",
    "\n",
    "# - Multiplicación\n",
    "mult = num1*num2\n",
    "print(mult)\n",
    "\n",
    "# - División\n",
    "div = num1/num2\n",
    "print(div)"
   ]
  },
  {
   "attachments": {},
   "cell_type": "markdown",
   "metadata": {},
   "source": [
    "+ **Direcciones de memoria**\n",
    "\n",
    "    - Las **direcciones de memoria** se **almacenan en la memoria RAM** (memoria volátil), por lo tanto **siempre están cambiando**.\n",
    "    - En **cada ejecución** tendrán **dirección de memoria diferente** las variables.\n",
    "    - Podemos conocer las direcciones de memoria de nuestras variables de la siguiente manera:"
   ]
  },
  {
   "cell_type": "code",
   "execution_count": null,
   "metadata": {},
   "outputs": [],
   "source": [
    "#Función para conocer la dirección de memoria de una variable → print(id(nombreVariable))\n",
    "\n",
    "# - Dirección de memoria de la variable de tipo String\n",
    "print(id(varStr))\n",
    "\n",
    "# - Dirección de memoria de la variable de tipo Int\n",
    "print(id(varInt))\n",
    "\n",
    "# - Dirección de memoria de la variable de tipo Float\n",
    "print(id(varFloat))\n",
    "\n",
    "# - Dirección de memoria de la variable de tipo Boolean\n",
    "print(id(varBoolean))\n",
    "\n",
    "# - Dirección de memoria de las variables de tipo Complex\n",
    "print(id(varComplex1))\n",
    "print(id(varComplex2))\n",
    "\n",
    "# - Dirección de memoria de la variable de tipo Dictionary\n",
    "print(id(varDict))\n",
    "\n",
    "# - Dirección de memoria de la variable de tipo List\n",
    "print(id(varList))\n",
    "\n",
    "# - Dirección de memoria de la variable de tipo Tuple\n",
    "print(id(varTuple))"
   ]
  },
  {
   "attachments": {},
   "cell_type": "markdown",
   "metadata": {},
   "source": [
    "---"
   ]
  }
 ],
 "metadata": {
  "kernelspec": {
   "display_name": "Python 3",
   "language": "python",
   "name": "python3"
  },
  "language_info": {
   "codemirror_mode": {
    "name": "ipython",
    "version": 3
   },
   "file_extension": ".py",
   "mimetype": "text/x-python",
   "name": "python",
   "nbconvert_exporter": "python",
   "pygments_lexer": "ipython3",
   "version": "3.11.0 (main, Oct 24 2022, 18:26:48) [MSC v.1933 64 bit (AMD64)]"
  },
  "orig_nbformat": 4,
  "vscode": {
   "interpreter": {
    "hash": "a0c424b9ebc64511fd63688bf3600ce5b364413e364e3eb1cf584f0476e23d18"
   }
  }
 },
 "nbformat": 4,
 "nbformat_minor": 2
}
