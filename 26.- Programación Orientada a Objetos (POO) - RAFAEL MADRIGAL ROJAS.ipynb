{
 "cells": [
  {
   "attachments": {},
   "cell_type": "markdown",
   "metadata": {},
   "source": [
    "<center>\n",
    "\n",
    "# **Curso Python**\n",
    "\n",
    "</center>\n",
    "\n",
    "---"
   ]
  },
  {
   "attachments": {},
   "cell_type": "markdown",
   "metadata": {},
   "source": [
    "+ **Clases**\n",
    "    - Una **clase** es una **plantilla** que tiene como fin la **creación de objetos** que contengan ciertos datos **según un modelo predefinido** en dicha clase y para **declarar** una **clase** es necesario hacer uso de la **palabra reservada class**. \n",
    "    - Una **clase** puede contener **atributos** y **métodos**, los **atributos** son las **características** que debe poseer la clase para poder crear un **objeto**, y un **método** son las **acciones** que se pueden **realizar** con dicho **objeto** (una vez creado a partir de los atributos). \n"
   ]
  },
  {
   "cell_type": "code",
   "execution_count": null,
   "metadata": {},
   "outputs": [],
   "source": [
    "#Para crear una clase con Python se acostumbra hacerlo de la siguiente manera:\n",
    "# class NombreMayus:\n",
    "#     pass\n",
    "#La palabra reservada pass sirve para indicar que no se agregará nada en determinada sección de código, pero no marcará error. \n",
    "\n",
    "#Ejemplo de clase Carro sin atributos en Python:\n",
    "class EjemploClase:\n",
    "    pass\n",
    "\n",
    "#Podemos verificar el tipo de dato de la clase:\n",
    "print(f\"Las clases son un tipo de dato: {type(EjemploClase)}\")\n",
    "\n",
    "#Para declarar un atributo en una clase con Python se hace de la siguiente manera:\n",
    "# class NombreMayus:\n",
    "#     def __init__(self): → Método init (método inicializador), __init__ debido al doble guión bajo se dice que es dunder.\n",
    "#     self.atributo1 = valorAtributo1\n",
    "#     self.atributo2 = valorAtributo2\n",
    "#     ...\n",
    "\n",
    "#Ejemplo de clase Carro con con Python:\n",
    "class Carro:\n",
    "    def __init__(self):\n",
    "        self.marca = \"Chrysler\"\n",
    "        self.nombre = \"Crossfire\"\n",
    "        self.modelo = 2005"
   ]
  },
  {
   "attachments": {},
   "cell_type": "markdown",
   "metadata": {},
   "source": [
    "+ **Objetos**\n",
    "    - Un **objeto** es una **serie de datos instaciados** a una **clase**.\n"
   ]
  },
  {
   "cell_type": "code",
   "execution_count": null,
   "metadata": {},
   "outputs": [],
   "source": [
    "#Creación de un Objeto a partir de una Clase en Python:\n",
    "# nombreObjeto = NombreClase()\n",
    "\n",
    "#Ejemplo de la Creación de un Objeto con Python:\n",
    "carro1 = Carro()\n",
    "\n",
    "#Acceso a los Atributos de un Objeto en Python:\n",
    "# NombreClase.nombreAtributo → Se puede mostrar el Atributo a través de un print()\n",
    "\n",
    "#Ejemplo de Acceso a los Atributos de un Objeto con Python:\n",
    "print(\"Acceso a los Atributos de un Carro:\")\n",
    "print(f\"Marca: {carro1.marca}\")\n",
    "print(f\"Nombre: {carro1.nombre}\")\n",
    "print(f\"Modelo: {carro1.modelo}\")"
   ]
  },
  {
   "attachments": {},
   "cell_type": "markdown",
   "metadata": {},
   "source": [
    "+ **Creación de Objetos con Argumentos**\n",
    "    - Se puede **crear objetos** con **valores** dados a través de la **creación** de un **objeto**."
   ]
  },
  {
   "cell_type": "code",
   "execution_count": null,
   "metadata": {},
   "outputs": [],
   "source": [
    "#Creación de un Objeto con valores personalizados en Python:\n",
    "# class NombreMayus:\n",
    "#     def __init__(self, nombreAtributo1, nombreAtributo2, ...): \n",
    "#         self.atributo1 = nombreAtributo1\n",
    "#         self.atributo2 = nombreAtributo2\n",
    "#         ...\n",
    "\n",
    "#Ejemplo de una Clase que permite crear Obejtos con Atributos Personalizables con Python:\n",
    "class Carro:\n",
    "    def __init__(self, marca, nombre, modelo):\n",
    "        self.marca = marca\n",
    "        self.nombre = nombre\n",
    "        self.modelo = modelo\n",
    "\n",
    "#Creación de un Objeto con Atributos Personalizables con Python:\n",
    "carro2 = Carro(\"Ford\", \"Mustang\", 2015)\n",
    "\n",
    "print(\"Acceso a los Atributos de un Carro con Atributos Personalizados:\")\n",
    "print(f\"Marca: {carro2.marca}\")\n",
    "print(f\"Nombre: {carro2.nombre}\")\n",
    "print(f\"Marca: {carro2.modelo}\")\n",
    "\n",
    "#De esta manera podemos crear n cantidad de objetos, siempre y cuando su nombre sea diferente."
   ]
  },
  {
   "attachments": {},
   "cell_type": "markdown",
   "metadata": {},
   "source": [
    "+ **Modificar Atributos de Objetos**\n",
    "    - Se puede **modificar** los **atributos** de un **objeto**, solamente debemos **volver a declarar** dicho **objeto** con los **nuevos valores** para los **atributos**, se puede hacer con **todos** los **atributos** del **objeto** o **sólo algunos atributos** en **particular**."
   ]
  },
  {
   "cell_type": "code",
   "execution_count": null,
   "metadata": {},
   "outputs": [],
   "source": [
    "print(\"Datos anteriores del objeto → carro2\")\n",
    "print(f\"Marca: {carro2.marca}\")\n",
    "print(f\"Nombre: {carro2.nombre}\")\n",
    "print(f\"Marca: {carro2.modelo}\")\n",
    "\n",
    "#Ejemplo de como modificar algunos los atributos de un objeto con Python:\n",
    "carro2.nombre = \"Mustang Fastback\"\n",
    "carro2.modelo = 1969\n",
    "\n",
    "print(\"Datos modificados del objeto → carro2\")\n",
    "print(f\"Marca: {carro2.marca}\")\n",
    "print(f\"Nombre: {carro2.nombre}\")\n",
    "print(f\"Marca: {carro2.modelo}\")\n",
    "\n",
    "\n",
    "#Ejemplo de como modificar todos los atributos de un objeto con Python:\n",
    "carro2 = Carro(\"BMW\", \"330i\", 2003)\n",
    "print(\"Datos nuevos del Objeto → carro2\")\n",
    "print(f\"Marca: {carro2.marca}\")\n",
    "print(f\"Nombre: {carro2.nombre}\")\n",
    "print(f\"Marca: {carro2.modelo}\")\n",
    "\n",
    "#Modificar y obtener los atributos de forma directa no es la mejor manera de hacerlo.\n",
    "#Mediante el encapsulamiento podemos hacerlo a través de Setters y Getters"
   ]
  },
  {
   "attachments": {},
   "cell_type": "markdown",
   "metadata": {},
   "source": [
    "+ **Métodos de instancia de una clase**\n",
    "    - Un **método** es el **equivalente** a una **función**, pero **instanciado** a una **clase** y **aplicable** a un **objeto**."
   ]
  },
  {
   "cell_type": "code",
   "execution_count": null,
   "metadata": {},
   "outputs": [],
   "source": [
    "#Creación de un Método en una Clase en Python:\n",
    "# class NombreMayus:\n",
    "#     def __init__(self, nombreAtributo1, nombreAtributo2, ...): \n",
    "#         self.atributo1 = nombreAtributo1\n",
    "#         self.atributo2 = nombreAtributo2\n",
    "#         ...\n",
    "#\n",
    "#     def nombreMetodo(self):\n",
    "#         Bloque de Código()\n",
    "\n",
    "#Ejemplo de Creación de un Método en una Clase con Python:\n",
    "class Carro:\n",
    "    def __init__(self, marca, nombre, modelo):\n",
    "        self.marca = marca\n",
    "        self.nombre = nombre\n",
    "        self.modelo = modelo\n",
    "\n",
    "    def mostrarDatos(self):\n",
    "        print(f\"Marca: {self.marca}\")\n",
    "        print(f\"Nombre: {self.nombre}\")\n",
    "        print(f\"Modelo: {self.modelo}\")\n",
    "\n",
    "\n",
    "#Para acceder a un Método es necesario llamar al Objeto y aplicarle el Método de la siguiente manera:\n",
    "# nombreObjeto.nombreMetodo()\n",
    "#Ejemplo de llamada al Método de un Objeto con Python:\n",
    "carro1 = Carro(\"Chrysler\", \"Crossfire\", 2005)\n",
    "carro1.mostrarDatos()\n",
    "\n",
    "carro2 = Carro(\"Ford\", \"Mustang Fastback\", 1969)\n",
    "carro2.mostrarDatos()\n",
    "\n",
    "carro3 = Carro(\"BMW\", \"330i\", 2003)\n",
    "carro3.mostrarDatos()\n",
    "\n",
    "#Otra forma de llamar un Método es llamar a la Clase, aplicarle el Método y pasarle como argumento el Objeto:\n",
    "Carro.mostrarDatos(carro1)\n",
    "Carro.mostrarDatos(carro2)\n",
    "Carro.mostrarDatos(carro3)\n",
    "\n",
    "#De las 2 maneras posibles de llamar un Método la primera es la más común y aceptada."
   ]
  },
  {
   "attachments": {},
   "cell_type": "markdown",
   "metadata": {},
   "source": [
    "+ **Encapsulamiento**\n",
    "    - El **Encapsulamiento** sirve para **limitar** el **acceso** que se tiene para **obtener** y/o **modificar** los **Atributos** de un **Objeto** dentro de una **Clase**."
   ]
  },
  {
   "cell_type": "code",
   "execution_count": null,
   "metadata": {},
   "outputs": [],
   "source": [
    "#Forma de declarar un Objeto Encapsulado en Python:\n",
    "# class NombreClase:\n",
    "#      def __init__(self, atributo1, *atributo2, **atributo3, ...): \n",
    "#         self._atributo1 = atributo1\n",
    "#         self._atributo2 = (elemento1, elemento2, ...)\n",
    "#         self._atributo3 = [clave1=valor1, clave2=valor2, ...]\n",
    "#         ...\n",
    "#El guión bajo antes del atributo no limita el acceso a la modificación del atributo, \n",
    "# sin embargo, indica al programador que ese atributo no debería ser modificado fuera de la clase.\n",
    "class Perro:\n",
    "    def __init__(self, nombre, raza, color, tamaño):\n",
    "        self._nombre = nombre\n",
    "        self._raza = raza\n",
    "        self._color = color\n",
    "        self._tamaño = tamaño\n",
    "\n",
    "#Ejemplo de que si se puede modificar atributos fuera de una clase con Python:\n",
    "perro1 = Perro(\"Hassha\", \"Carlino\", \"Cervato\", \"Pequeño\")\n",
    "print(f\"Color del perro: {perro1._color}\")\n",
    "perro1._color = \"Plata\"\n",
    "print(f\"Color del perro: {perro1._color}\")\n",
    "\n",
    "#Si se desea ser más restrictivo en cuanto este aspecto, podemos hacerlo de la siguiente forma:\n",
    "# class NombreClase:\n",
    "#      def __init__(self, atributo1, *atributo2, **atributo3, ...): \n",
    "#         self.__atributo1 = atributo1\n",
    "#         self.__atributo2 = (elemento1, elemento2, ...)\n",
    "#         self.__atributo3 = [clave1=valor1, clave2=valor2, ...]\n",
    "#         ...\n",
    "class Perro:\n",
    "    def __init__(self, nombre, raza, color, tamaño):\n",
    "        self.__nombre = nombre\n",
    "        self.__raza = raza\n",
    "        self.__color = color\n",
    "        self.__tamaño = tamaño\n",
    "\n",
    "perro2 = Perro(\"Max\", \"Roottweiler\", \"Negro\", \"Grande\")\n",
    "print(f\"Nombre del perro: {perro2.__nombre}\") #Error → AttributeError: 'Perro' object has no attribute '__nombre'\n",
    "perro2.__nombre = \"Slinky\" #Error → No indica error alguno pero no modifica el valor del atributo\n",
    "\n",
    "#No es muy común ver estas prácticas para el encapsulamiento, pero es una manera de hacerlo."
   ]
  },
  {
   "attachments": {},
   "cell_type": "markdown",
   "metadata": {},
   "source": [
    "+ **Get y Set**\n",
    "    - Los **Get** se utilizan para **pedir valores** de los **Atributos** a través de **Métodos**.\n",
    "    - Los **Set** se utilizan para **modificar valores** de los **Atributos** a través de **Métodos**."
   ]
  },
  {
   "cell_type": "code",
   "execution_count": null,
   "metadata": {},
   "outputs": [],
   "source": [
    "class Perro:\n",
    "    def __init__(self, nombre, raza, color, tamaño):\n",
    "        self._nombre = nombre\n",
    "        self._raza = raza\n",
    "        self._color = color\n",
    "        self._tamaño = tamaño\n",
    "\n",
    "#Forma de declarar Métodos Set en Python:\n",
    "# class NombreClase:\n",
    "#      def __init__(self, atributo1, ...): \n",
    "#         self.__atributo1 = atributo1\n",
    "#         ...\n",
    "#      \n",
    "#      @property → Es un decorador y sirve para omitir el uso de () para llamar al Método\n",
    "#      def getAtributo(self):\n",
    "#          return self.__atributo\n",
    "#Ejemplo de Método Get con Python:\n",
    "    @property\n",
    "    def Nombre(self):\n",
    "        return self._nombre\n",
    "\n",
    "    @property\n",
    "    def Raza(self):\n",
    "        return self._raza\n",
    "\n",
    "    @property\n",
    "    def Color(self):\n",
    "        return self._color\n",
    "\n",
    "    @property\n",
    "    def Tamaño(self):\n",
    "        return self._tamaño\n",
    "\n",
    "#Forma de declarar Métodos Set en Python:\n",
    "# class NombreClase:\n",
    "#      def __init__(self, atributo1, ...): \n",
    "#         self.__atributo1 = atributo1\n",
    "#         ...\n",
    "#      \n",
    "#      @atributo.setter → Es un decorador y sirve para omitir el uso de () para llamar al Método\n",
    "#      def setAtributo(self, nuevoValorAtributo):\n",
    "#          self.__atributo = nuevoValorAtributo\n",
    "#Ejemplo de Método Set con Python:\n",
    "    @Nombre.setter\n",
    "    def Nombre(self, nombre):\n",
    "        self._nombre = nombre\n",
    "\n",
    "    @Raza.setter\n",
    "    def Raza(self, raza):\n",
    "        self._raza = raza\n",
    "\n",
    "    @Color.setter\n",
    "    def Color(self, color):\n",
    "        self._color = color\n",
    "\n",
    "    @Tamaño.setter\n",
    "    def Tamaño(self, tamaño):\n",
    "        self._tamaño = tamaño\n",
    "\n",
    "#Creación de un Objeto para poder aplicarle los Métodos Set y Get con Python:\n",
    "perro3 = Perro(\"Otis\", \"Pitbull\", \"Leonado\", \"Grande\")\n",
    "\n",
    "#Llamada a los Métodos Get:\n",
    "print(\"Ejemplo de Métodos Get:\")\n",
    "print(f\" - Nombre del perro: {perro3.Nombre}\")\n",
    "print(f\" - Raza del perro: {perro3.Raza}\")\n",
    "print(f\" - Color del perro: {perro3.Color}\")\n",
    "print(f\" - Tamaño del perro: {perro3.Tamaño}\")\n",
    "\n",
    "#Llamada a los Métodos Set:\n",
    "perro3.Nombre = \"Coco\"\n",
    "perro3.Raza = \"Shih Tzu\"\n",
    "perro3.Color = \"Blanco\"\n",
    "perro3.Tamaño = \"Pequeño\"\n",
    "\n",
    "#Verificación de los cambios hechos con los Métodos Set y acceso a los atributos con los Métodos Get:\n",
    "print(\"Ejemplo de Métodos Set y Get:\")\n",
    "print(f\" - Nombre del perro: {perro3.Nombre}\")\n",
    "print(f\" - Raza del perro: {perro3.Raza}\")\n",
    "print(f\" - Color del perro: {perro3.Color}\")\n",
    "print(f\" - Tamaño del perro: {perro3.Tamaño}\")\n",
    "\n",
    "#Cuando un Atributo cuenta solo con su Método Get se dice que es un Atributo Read-Only (sólo lectura), \n",
    "# ya que, sólo permite acceder al Atributo, pero no permite modificarlo"
   ]
  },
  {
   "attachments": {},
   "cell_type": "markdown",
   "metadata": {},
   "source": [
    "+ **Módulos y Librerías**\n",
    "    - **Modularidad:**\n",
    "        * La **modularidad** es **subdividir** un **programa** en **sub-programas** llamados **módulos**, los cuales deben ser **independientes** del **programa original**, pero que alojan **código independiente** con una **determinada funcionalidad** que puede ser **reutilizada**.\n",
    "    - **Módulo:**\n",
    "        * En **programación** un **módulo** se define como la **porción de un programa**.\n",
    "    - **Librería:**\n",
    "        * En **programación** una **librería** es un **conjunto** de **implementaciones** funcionales, **codificadas** en un **lenguaje de programación**, que ofrece una **interfaz** bien definida para la **funcionalidad** que se invoca."
   ]
  },
  {
   "cell_type": "code",
   "execution_count": null,
   "metadata": {},
   "outputs": [],
   "source": [
    "#Forma de declarar que estamos importando un módulo de una librería en Python: \n",
    "# from nombreLibreria import nombreModulo → Para importar un módulo específico\n",
    "# from nombreLibreria import * → Para importar todos los módulos\n",
    "#Ejemplo de como importar un Módulo con Python:\n",
    "from math import (sqrt) \n",
    "radicando = int(input(\"Ingrese un número para calcular su raíz: \"))\n",
    "raiz = print(f\"La raíz es: {sqrt(radicando)}\")\n",
    "\n",
    "#Para saber que módulos hay en una librería en Python debemos hacer lo siguiente:\n",
    "import math #Importamos la librería con la palabra reservada import\n",
    "print(\"Módulos de la Librería math: \")\n",
    "print(dir(math)) #print(dir(nombreLibrería)) → Para ver el directorio de una librería"
   ]
  },
  {
   "attachments": {},
   "cell_type": "markdown",
   "metadata": {},
   "source": [
    "+ **Destructores**\n",
    "    - Una vez creado un un **objeto**, dicho **objeto** puede ser **eliminado** cuando ya **no sea útil**, y eso se hace a través de **destructures**."
   ]
  },
  {
   "cell_type": "code",
   "execution_count": null,
   "metadata": {},
   "outputs": [],
   "source": [
    "class Perro:\n",
    "    def __init__(self, nombre, raza, color, tamaño):\n",
    "        self._nombre = nombre\n",
    "        self._raza = raza\n",
    "        self._color = color\n",
    "        self._tamaño = tamaño\n",
    "\n",
    "    @property\n",
    "    def Nombre(self):\n",
    "        return self._nombre\n",
    "\n",
    "#Para eliminar un objeto se a través de un método en Python se hace de la siguiente manera:\n",
    "# def __del__(self):\n",
    "#     Bloque de Código\n",
    "#Con el Método def __del__(self):, lo que hacemos es sobreescribir la funcionalidad de la \n",
    "# palabra reservada del, pero solo para los objetos que se encuentran dentro de la clase, \n",
    "# si no está definido este Método solamente se elimina el Objeto sin realizar ninguna acción específica. \n",
    "#Ejemplo de Método para Eliminar un Objeto con Python: \n",
    "    def __del__(self):\n",
    "        print(f\" - El objeto {self._nombre} ha sido eliminado.\")\n",
    "\n",
    "#Ejemplo de Creación de un Objeto con Python:\n",
    "print(\"Creación del Objeto\".center(30, \"-\"))\n",
    "perro4 = Perro(\"Chispa\", \"Bulldog Francés\", \"Gris\", \"Pequeño\")\n",
    "print(f\" - El objeto {perro4.Nombre} ha sido creado.\")\n",
    "\n",
    "#Ejemplo de la Eliminación de un Objeto con Python:\n",
    "print(\"Eliminación del Objeto\".center(30, \"-\"))\n",
    "del perro4 #Eliminar un Objeto en Python → del nombreObjeto"
   ]
  },
  {
   "attachments": {},
   "cell_type": "markdown",
   "metadata": {},
   "source": [
    "+ **Herencia**\n",
    "    - Es el **mecanismo** por el cual **una clase** permite **heredar atributos** y **métodos** de **otra clase**."
   ]
  },
  {
   "cell_type": "code",
   "execution_count": null,
   "metadata": {},
   "outputs": [],
   "source": [
    "#Utilizamos la Modularidad en Python y llamamos a la Clase y los Métodos desde este documento:\n",
    "from Persona import *\n",
    "\n",
    "#Creamos un Objeto para ejemplificar la Herencia con Python:\n",
    "persona1 = Persona(\"Hernán\", \"Herrero Mora\", 28)\n",
    "print(\"Datos persona1\".center(30, \"-\"))\n",
    "print(f\"Nombre: {persona1.Nombre}\")\n",
    "print(f\"Apellidos: {persona1.Apellidos}\")\n",
    "print(f\"Edad: {persona1.Edad}\")\n",
    "\n",
    "empleado1 = Empleado(\"Pamela\", \"Rubio Sevilla\", 28, \"Directora de Ingeniería\", 50000)\n",
    "print(\"Datos empleado1\".center(30, \"-\"))\n",
    "print(f\"Nombre: {empleado1.Nombre}\")\n",
    "print(f\"Apellidos: {empleado1.Apellidos}\")\n",
    "print(f\"Edad: {empleado1.Edad}\")\n",
    "print(f\"Puesto: {empleado1.Puesto}\")\n",
    "print(f\"Sueldo: {empleado1.Sueldo}\")"
   ]
  },
  {
   "attachments": {},
   "cell_type": "markdown",
   "metadata": {},
   "source": [
    "+ **Método \\_\\_str__( )**\n",
    "    - Se puede **utilizar** a este **método** para poder **imprimir** la **información** de un **Objeto sólo llamando a dicho Objeto**, si no utilizamos este método al llamar al Objeto nos devolverá su dirección de Memoria."
   ]
  },
  {
   "cell_type": "code",
   "execution_count": null,
   "metadata": {},
   "outputs": [],
   "source": [
    "#Forma de declarar el método __str()__ para Clases en Python:\n",
    "#    def __str__(self):\n",
    "#        return f\"{self._atributo1ClasePadre} {self._atributo2ClasePadre} {...}\"\n",
    "#Este método ya fue declarado en el archivo Persona.py en la Clase Persona.\n",
    "\n",
    "#Utilizamos la Modularidad en Python y llamamos a la Clase y los Métodos desde este documento:\n",
    "from Persona import *\n",
    "\n",
    "#Creamos un Objeto a partir de la Clase Persona y comprobamos que se aplique el método __str__():\n",
    "persona2 = Persona(\"Alejandro\", \"Hierro Morales\", 35)\n",
    "print(persona2)\n",
    "\n",
    "#Podemos utilizar la Herencia para poder reutilizar este método en otro Clase, \n",
    "# se puede hacer de la siguiente manera en Python:\n",
    "#    def __str__(self):\n",
    "#        return f\"{super().__str__()} {self._atributo1ClaseHija} {self._atributo2ClaseHija} {...}\"\n",
    "#Este método ya fue declarado en el archivo Persona.py en la Clase Empleado.\n",
    "\n",
    "#Creamos un Objeto a partir de la Clase Empleado y comprobamos que se aplique el método __str__():\n",
    "empleado1 = Empleado(\"Mariano\", \"Pérez Díaz\", 40, \"Administrador de Proyectos\", 60000)\n",
    "print(empleado1)"
   ]
  },
  {
   "attachments": {},
   "cell_type": "markdown",
   "metadata": {},
   "source": [
    "+ **Herencia Múltiple**\n",
    "    - La **Herencia Simple** es cuando una **Clase sólo** puede **Heredar Métodos y Atributos** de **sólo una Superclase**, en la **Herencia Múltiple** una **Clase** puede **Heredar Métodos y Atributos de más de una Superclase**."
   ]
  },
  {
   "cell_type": "code",
   "execution_count": null,
   "metadata": {},
   "outputs": [],
   "source": [
    "#Para que una Clase pueda Heredar Métodos y Atributos de más de una Clase en Pyhton, es necesario\n",
    "# declarar ambas Clases y pasar esas Clases como argumentos para la Clase que hereda.\n",
    "\n",
    "#Creamos una Clase Padre FiguraGeometrica que heredará sus Atributos a la Clase Hija Cuadrado: \n",
    "class FiguraGeometrica:\n",
    "    def __init__(self, ancho, alto):\n",
    "        self.ancho = ancho\n",
    "        self.alto = alto\n",
    "\n",
    "#Creamos una Clase Padre Color que heredará su Atributo a la Clase Hija Cuadrado:\n",
    "class Color:\n",
    "    def __init__(self, color):\n",
    "        self.color = color\n",
    "\n",
    "#Creamos la Clase Hija Cuadrado que heredará los Atributos de las Clases Padre FiguraGeometrica y Color:\n",
    "class Cuadrado(FiguraGeometrica, Color):\n",
    "    def __init__(self, lado, color):\n",
    "        FiguraGeometrica.__init__(self, lado, lado) #Inicializamos Atributos de la Clase FiguraGeometrica\n",
    "        Color.__init__(self, color) #Inicializamos Atributo de la Clase Color\n",
    "\n",
    "#Creamos Método para Calcular el Área de un Cuadrado para la Clase Cuadrado:\n",
    "    def area(self):\n",
    "        return f\"Área: {self.ancho * self.alto} u²\"\n",
    "\n",
    "#Creamos un Objeto a partir de la Clase Cuadrado:\n",
    "cuadrado1 = Cuadrado(12, \"Rojo\")\n",
    "#Llamamos el Método para Calcular el Área de un Cuadrado para el Objeto cuadrado1:\n",
    "print(cuadrado1.area())"
   ]
  },
  {
   "attachments": {},
   "cell_type": "markdown",
   "metadata": {},
   "source": [
    "+ **Method Resolution Order - MRO**\n",
    "    - Es un **Método** que **sirve** para **saber** en qué **Orden Jerárquico** se **van a llamar** los **Métodos** en una **Clase**."
   ]
  },
  {
   "cell_type": "code",
   "execution_count": null,
   "metadata": {},
   "outputs": [],
   "source": [
    "#Forma de declarar el Método MRO en Python → NombreClase.mro()\n",
    "#Ejemplo de como utilizar el Método MRO con Python:\n",
    "print(FiguraGeometrica.mro())\n",
    "print(Color.mro())\n",
    "print(Cuadrado.mro())\n",
    "#La primer Clase mostrada será donde se iniciarán a resolver primero los Métodos."
   ]
  },
  {
   "attachments": {},
   "cell_type": "markdown",
   "metadata": {},
   "source": [
    "---"
   ]
  }
 ],
 "metadata": {
  "kernelspec": {
   "display_name": "Python 3",
   "language": "python",
   "name": "python3"
  },
  "language_info": {
   "codemirror_mode": {
    "name": "ipython",
    "version": 3
   },
   "file_extension": ".py",
   "mimetype": "text/x-python",
   "name": "python",
   "nbconvert_exporter": "python",
   "pygments_lexer": "ipython3",
   "version": "3.11.0 (main, Oct 24 2022, 18:26:48) [MSC v.1933 64 bit (AMD64)]"
  },
  "orig_nbformat": 4,
  "vscode": {
   "interpreter": {
    "hash": "a0c424b9ebc64511fd63688bf3600ce5b364413e364e3eb1cf584f0476e23d18"
   }
  }
 },
 "nbformat": 4,
 "nbformat_minor": 2
}
