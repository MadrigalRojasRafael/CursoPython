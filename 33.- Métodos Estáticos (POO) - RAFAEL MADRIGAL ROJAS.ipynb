{
 "cells": [
  {
   "attachments": {},
   "cell_type": "markdown",
   "metadata": {},
   "source": [
    "<center>\n",
    "\n",
    "# **Curso Python**\n",
    "\n",
    "</center>\n",
    "\n",
    "---"
   ]
  },
  {
   "attachments": {},
   "cell_type": "markdown",
   "metadata": {},
   "source": [
    "<center>\n",
    "\n",
    "#### **Métodos Estáticos**\n",
    "\n",
    "</center>\n",
    "\n",
    "~~~\n",
    "Los métodos estáticos son aquellos métodos que pertenecen a la clase, pero no dependen ni de la clase ni de una instancia de esta.\n",
    "Para declarar un método estático en Python es necesario hacer uso del decorador @staticmethod dentro de una clase. \n",
    "~~~"
   ]
  },
  {
   "cell_type": "code",
   "execution_count": null,
   "metadata": {},
   "outputs": [],
   "source": [
    "#Ejemplo de Método Estático en Python:\n",
    "\n",
    "class CocheBlanco:\n",
    "    color = \"Blanco\"\n",
    "\n",
    "    def __init__(self, marca, nombre, modelo):\n",
    "        self.marca = marca\n",
    "        self.nombre = nombre\n",
    "        self.modelo = modelo\n",
    "\n",
    "    @staticmethod\n",
    "    def ColorCoche():\n",
    "        print(f\"Color: {CocheBlanco.color}\")\n",
    "\n",
    "CocheBlanco.ColorCoche()"
   ]
  },
  {
   "attachments": {},
   "cell_type": "markdown",
   "metadata": {},
   "source": [
    "---"
   ]
  }
 ],
 "metadata": {
  "kernelspec": {
   "display_name": "Python 3",
   "language": "python",
   "name": "python3"
  },
  "language_info": {
   "codemirror_mode": {
    "name": "ipython",
    "version": 3
   },
   "file_extension": ".py",
   "mimetype": "text/x-python",
   "name": "python",
   "nbconvert_exporter": "python",
   "pygments_lexer": "ipython3",
   "version": "3.11.0 (main, Oct 24 2022, 18:26:48) [MSC v.1933 64 bit (AMD64)]"
  },
  "orig_nbformat": 4,
  "vscode": {
   "interpreter": {
    "hash": "a0c424b9ebc64511fd63688bf3600ce5b364413e364e3eb1cf584f0476e23d18"
   }
  }
 },
 "nbformat": 4,
 "nbformat_minor": 2
}
