{
 "cells": [
  {
   "attachments": {},
   "cell_type": "markdown",
   "metadata": {},
   "source": [
    "<center>\n",
    "\n",
    "# **Curso Python**\n",
    "\n",
    "</center>\n",
    "\n",
    "---"
   ]
  },
  {
   "attachments": {},
   "cell_type": "markdown",
   "metadata": {},
   "source": [
    "<center>\n",
    "\n",
    "#### **Tuplas**\n",
    "\n",
    "</center>\n",
    "\n",
    "~~~\n",
    "Las tuplas son inmutables (a diferencia de las listas), una tupla es una colección de datos ordenados e inmutables, se dice que son inmutables debido a que sus elementos no pueden modificarse, ya sea para agregar, cambiar valores o remover elementos dentro de las tuplas, la forma de declarar una lista es la siguiente: \n",
    "~~~\n",
    "\n",
    "<center>\n",
    "\n",
    "~~~\n",
    "nombreTupla = (elementosTupla)\n",
    "~~~\n",
    "\n",
    "</center>"
   ]
  },
  {
   "cell_type": "code",
   "execution_count": null,
   "metadata": {},
   "outputs": [],
   "source": [
    "#Forma de declarar una tupla → tupla = [elemento1, elemento2, elemento3, ...]\n",
    "\n",
    "#Ejemplo de tupla que contiene nombres de marcas de autos con Python:\n",
    "tupla = (\"Audi\", \"Mazda\", \"Nissan\", \"Chevrolet\", \"Ford\", \"Toyota\", \"Chirey\", \"Renault\")\n",
    "print(f\"La tupla con marcas de autos contiene: {tupla}\")\n",
    "print(f\"La tupla es un tipo de dato {type(tupla)}\")\n",
    "\n",
    "#Saber el largo de una tupla\n",
    "#Para saber el largo de una tupla en Python hacemos uso de la función len(nombreTupla) como se muestra a continuación:\n",
    "print(f\"La tupla contiene {len(tupla)} elementos.\")"
   ]
  },
  {
   "attachments": {},
   "cell_type": "markdown",
   "metadata": {},
   "source": [
    "+ **Acceder a un elemento de una tupla por su índice → tupla[índice]**\n",
    "    - Para **acceder** a un **elemento** de una **tupla** por su **índice** se debe hacer de la siguiente manera: "
   ]
  },
  {
   "cell_type": "code",
   "execution_count": null,
   "metadata": {},
   "outputs": [],
   "source": [
    "#Forma de acceder a un elemento de un tupla por su índice en Python → print(tupla[índice])\n",
    "#Ejemplo de como acceder a un elemento de un tupla por su índice en Python:\n",
    "print(tupla[4])"
   ]
  },
  {
   "attachments": {},
   "cell_type": "markdown",
   "metadata": {},
   "source": [
    "+ **Acceder a elemento(s) de una tupla por un rango de índices → tupla[índiceInicial:índiceFinal]**\n",
    "    - Las **tuplas** permiten acciones como **acceder a los elementos por un rango de índices**, lo cual se puede hacer de la siguiente manera:"
   ]
  },
  {
   "cell_type": "code",
   "execution_count": null,
   "metadata": {},
   "outputs": [],
   "source": [
    "#Forma de acceder a los elementos por un rango de índices → print(tupla[índiceInicial:índiceFinal])\n",
    "#Al acceder de esta manera a los elementos no se tomará en cuenta el elemento correspondiente al índiceFinal.\n",
    "#Ejemplo de como acceder a los elementos por un rango de índices en Python:\n",
    "print(tupla[1:4])\n",
    "\n",
    "#Para acceder desde el primer índice de una tupla hasta determinado índice de dicha lista se hace de la siguiente forma:\n",
    "# print(tupla[ :índiceFinal])\n",
    "print(tupla[ :4])\n",
    "\n",
    "#Para acceder desde algún índice de una tupla hasta el último ídice de dicha lista se hace de la siguiente forma:\n",
    "# print(tupla[índiceIncial: ])\n",
    "print(tupla[4: ])"
   ]
  },
  {
   "attachments": {},
   "cell_type": "markdown",
   "metadata": {},
   "source": [
    "+ **Imprimir elemento por elemento de una tupla → for elemento in tupla**\n",
    "    - Para **imprimir cada elemento** de una **tupla** podemos utilizar un **ciclo for** como en el siguiente ejemplo:"
   ]
  },
  {
   "cell_type": "code",
   "execution_count": null,
   "metadata": {},
   "outputs": [],
   "source": [
    "#Forma de acceder a cada elemento de una tupla con un ciclo for con Python:\n",
    "# for elemento in tupla:\n",
    "#     print(elemento)\n",
    "for elemento in tupla:\n",
    "    print(elemento)"
   ]
  },
  {
   "attachments": {},
   "cell_type": "markdown",
   "metadata": {},
   "source": [
    "+ **Convertir tupla en lista (para hacerla mutable) → nombreLista = list(tupla)**\n",
    "    - Para **convertir** una **lista** a una **tupla** debemos usar la función **list()** a través de la sintáxis incluida en el ejemplo siguiente:"
   ]
  },
  {
   "cell_type": "code",
   "execution_count": null,
   "metadata": {},
   "outputs": [],
   "source": [
    "#Forma de convertir una tupla a una lista con Python:\n",
    "# nombreLista = list(nombreLista)\n",
    "# print(nombreLista)\n",
    "# print(type(nombreLista))\n",
    "\n",
    "#Ejemplo de como convertir una tupla a una lista con Python:\n",
    "print(f\"La tupla contiene los siguientes elementos: {tupla}\")\n",
    "print(f\"El tipo de dato de la tupla es: {type(tupla)}\")\n",
    "nuevaLista = list(tupla)\n",
    "print(f\"La lista con los elementos de la tupla son: {nuevaLista}\")\n",
    "print(f\"El tipo de dato de la lista es: {type(nuevaLista)}\")"
   ]
  },
  {
   "attachments": {},
   "cell_type": "markdown",
   "metadata": {},
   "source": [
    "+ **Convertir lista en tupla → nombreTupla = tuple(lista)**\n",
    "    - Para **convertir** una **tupla** a una **lista** debemos usar la función **tuple()** a través de la sintáxis incluida en el ejemplo siguiente:"
   ]
  },
  {
   "cell_type": "code",
   "execution_count": null,
   "metadata": {},
   "outputs": [],
   "source": [
    "#Forma de convertir una lista a una tupla con Python:\n",
    "# nombreTupla = tuple(nombreLista)\n",
    "# print(type(nombreLista))\n",
    "\n",
    "#Ejemplo de como convertir una lista a una tupla con Python:\n",
    "print(f\"La lista contiene los siguientes elementos: {nuevaLista}\")\n",
    "print(f\"El tipo de dato de la lista es: {type(nuevaLista)}\")\n",
    "nuevaTupla = tuple(nuevaLista)\n",
    "print(f\"La tupla con los elementos de la lista son: {nuevaTupla}\")\n",
    "print(f\"El tipo de dato de la tupla es: {type(nuevaTupla)}\")"
   ]
  },
  {
   "attachments": {},
   "cell_type": "markdown",
   "metadata": {},
   "source": [
    "+ **Eliminar la tupla → del tupla**\n",
    "    - Para **eliminar**  una **tupla** debemos hacer uso de la **palabra reservada del** de la siguiente manera **del tupla**, la cual sirve para **eliminar** por completo la **variable** que **almacena** la **tupla**."
   ]
  },
  {
   "cell_type": "code",
   "execution_count": null,
   "metadata": {},
   "outputs": [],
   "source": [
    "#Forma de eliminar una tupla en Python:\n",
    "# del tupla\n",
    "# print(tupla)\n",
    "\n",
    "#Ejemplo de como eliminar una variable que almacena los datos de una tupla en Python:\n",
    "del tupla\n",
    "print(tupla) #Error → NameError: name 'tupla' is not defined, ya que la tupla ha sido eliminada."
   ]
  },
  {
   "attachments": {},
   "cell_type": "markdown",
   "metadata": {},
   "source": [
    "---"
   ]
  }
 ],
 "metadata": {
  "kernelspec": {
   "display_name": "Python 3",
   "language": "python",
   "name": "python3"
  },
  "language_info": {
   "name": "python",
   "version": "3.11.0 (main, Oct 24 2022, 18:26:48) [MSC v.1933 64 bit (AMD64)]"
  },
  "orig_nbformat": 4,
  "vscode": {
   "interpreter": {
    "hash": "a0c424b9ebc64511fd63688bf3600ce5b364413e364e3eb1cf584f0476e23d18"
   }
  }
 },
 "nbformat": 4,
 "nbformat_minor": 2
}
