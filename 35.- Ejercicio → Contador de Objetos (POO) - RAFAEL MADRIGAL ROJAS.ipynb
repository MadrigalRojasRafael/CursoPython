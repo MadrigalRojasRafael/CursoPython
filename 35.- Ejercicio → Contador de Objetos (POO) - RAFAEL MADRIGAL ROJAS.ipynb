{
 "cells": [
  {
   "attachments": {},
   "cell_type": "markdown",
   "metadata": {},
   "source": [
    "<center>\n",
    "\n",
    "# **Curso Python**\n",
    "\n",
    "</center>\n",
    "\n",
    "---"
   ]
  },
  {
   "attachments": {},
   "cell_type": "markdown",
   "metadata": {},
   "source": [
    "<center>\n",
    "\n",
    "#### **Ejercicio → Contador de Objetos**\n",
    "\n",
    "</center>\n",
    "\n",
    "~~~\n",
    "El ejercicio consiste en realizar un código que cada que se cree un objeto dentro de una clase contabilice esta creación de objetos.\n",
    "~~~"
   ]
  },
  {
   "cell_type": "code",
   "execution_count": 3,
   "metadata": {},
   "outputs": [
    {
     "name": "stdout",
     "output_type": "stream",
     "text": [
      "-------------------- Datos del Carro 1 ---------------------\n",
      "Marca: Ford\n",
      "Nombre: Focus\n",
      "Modelo: 2011\n",
      "-------------------- Datos del Carro 2 ---------------------\n",
      "Marca: Toyota\n",
      "Nombre: Yaris\n",
      "Modelo: 2019\n",
      "-------------------- Datos del Carro 3 ---------------------\n",
      "Marca: Chevolet\n",
      "Nombre: Cruze\n",
      "Modelo: 2014\n",
      "-------------------- Datos del Carro 4 ---------------------\n",
      "Marca: Hyundai\n",
      "Nombre: Elantra\n",
      "Modelo: 2018\n",
      "-------------------- Datos del Carro 5 ---------------------\n",
      "Marca: Honda\n",
      "Nombre: CR-V\n",
      "Modelo: 2012\n",
      "-------------------- Datos del Carro 6 ---------------------\n",
      "Marca: Dodge\n",
      "Nombre: Avenger\n",
      "Modelo: 2009\n",
      "-------------------- Contador de Carros --------------------\n",
      "Total de Carros: 6\n"
     ]
    }
   ],
   "source": [
    "#Creamos la clase → Carro:\n",
    "class Carro:\n",
    "\n",
    "    #Creamos la Variable para el Contador → contadorCarros:\n",
    "    contador_carros = 0\n",
    "\n",
    "    #Creamos el método __init__() para la clase → Carros:\n",
    "    def __init__(self, marca, nombre, modelo):\n",
    "        #Creamos la validación para el Contador:\n",
    "        Carro.contador_carros += 1\n",
    "        self.num_carro = Carro.contador_carros\n",
    "        self.marca = marca\n",
    "        self.nombre = nombre\n",
    "        self.modelo = modelo\n",
    "\n",
    "    def mostrarDatos(self):\n",
    "        print(f\" Datos del Carro {self.num_carro} \".center(60, \"-\"))\n",
    "        print(f\"Marca: {self.marca}\\nNombre: {self.nombre}\\nModelo: {self.modelo}\")\n",
    "\n",
    "    @staticmethod\n",
    "    def contadorCarros():\n",
    "        print(\" Contador de Carros \".center(60, \"-\"))\n",
    "        print(f\"Total de Carros: {Carro.contador_carros}\")\n",
    "\n",
    "#Creamos objetos para verificar el funcionamiento del Contador:\n",
    "carro1 = Carro(\"Ford\", \"Focus\", 2011)\n",
    "carro1.mostrarDatos()\n",
    "carro2 = Carro(\"Toyota\", \"Yaris\", 2019)\n",
    "carro2.mostrarDatos()\n",
    "carro3 = Carro(\"Chevolet\", \"Cruze\", 2014)\n",
    "carro3.mostrarDatos()\n",
    "carro4 = Carro(\"Hyundai\", \"Elantra\", 2018)\n",
    "carro4.mostrarDatos()\n",
    "carro5 = Carro(\"Honda\", \"CR-V\", 2012)\n",
    "carro5.mostrarDatos()\n",
    "carro6 = Carro(\"Dodge\", \"Avenger\", 2009)\n",
    "carro6.mostrarDatos()\n",
    "\n",
    "#Llamamos al método de clase del contador → contadorCarros():\n",
    "Carro.contadorCarros()"
   ]
  },
  {
   "attachments": {},
   "cell_type": "markdown",
   "metadata": {},
   "source": [
    "---"
   ]
  }
 ],
 "metadata": {
  "kernelspec": {
   "display_name": "Python 3",
   "language": "python",
   "name": "python3"
  },
  "language_info": {
   "codemirror_mode": {
    "name": "ipython",
    "version": 3
   },
   "file_extension": ".py",
   "mimetype": "text/x-python",
   "name": "python",
   "nbconvert_exporter": "python",
   "pygments_lexer": "ipython3",
   "version": "3.11.0 (main, Oct 24 2022, 18:26:48) [MSC v.1933 64 bit (AMD64)]"
  },
  "orig_nbformat": 4,
  "vscode": {
   "interpreter": {
    "hash": "a0c424b9ebc64511fd63688bf3600ce5b364413e364e3eb1cf584f0476e23d18"
   }
  }
 },
 "nbformat": 4,
 "nbformat_minor": 2
}
