{
 "cells": [
  {
   "attachments": {},
   "cell_type": "markdown",
   "metadata": {},
   "source": [
    "<center>\n",
    "\n",
    "# **Curso Python**\n",
    "\n",
    "</center>\n",
    "\n",
    "---"
   ]
  },
  {
   "attachments": {},
   "cell_type": "markdown",
   "metadata": {},
   "source": [
    "<center>\n",
    "\n",
    "#### **Hola Mundo con Python**\n",
    "\n",
    "</center>\n",
    "\n",
    "~~~\n",
    "Para poder hacer un Hola Mundo con Python, debido a que es un lenguaje de tipado dinamico y fácil sintáxis es muy sencillo hacer un Hola Mundo en Python, el ejemplo se muestra a continuación:\n",
    "~~~"
   ]
  },
  {
   "cell_type": "code",
   "execution_count": 1,
   "metadata": {},
   "outputs": [
    {
     "name": "stdout",
     "output_type": "stream",
     "text": [
      "Hola Mundo!!!\n"
     ]
    }
   ],
   "source": [
    "print(\"Hola Mundo!!!\")"
   ]
  },
  {
   "attachments": {},
   "cell_type": "markdown",
   "metadata": {},
   "source": [
    "---"
   ]
  }
 ],
 "metadata": {
  "kernelspec": {
   "display_name": "Python 3",
   "language": "python",
   "name": "python3"
  },
  "language_info": {
   "codemirror_mode": {
    "name": "ipython",
    "version": 3
   },
   "file_extension": ".py",
   "mimetype": "text/x-python",
   "name": "python",
   "nbconvert_exporter": "python",
   "pygments_lexer": "ipython3",
   "version": "3.11.0 (main, Oct 24 2022, 18:26:48) [MSC v.1933 64 bit (AMD64)]"
  },
  "orig_nbformat": 4,
  "vscode": {
   "interpreter": {
    "hash": "a0c424b9ebc64511fd63688bf3600ce5b364413e364e3eb1cf584f0476e23d18"
   }
  }
 },
 "nbformat": 4,
 "nbformat_minor": 2
}
