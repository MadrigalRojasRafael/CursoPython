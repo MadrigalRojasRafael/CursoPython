{
 "cells": [
  {
   "attachments": {},
   "cell_type": "markdown",
   "metadata": {},
   "source": [
    "<center>\n",
    "\n",
    "# **Curso Python**\n",
    "\n",
    "</center>\n",
    "\n",
    "--- "
   ]
  },
  {
   "attachments": {},
   "cell_type": "markdown",
   "metadata": {},
   "source": [
    "<center>\n",
    "\n",
    "#### **Funciones en Python**\n",
    "\n",
    "</center>\n",
    "\n",
    "~~~\n",
    "Una función es un bloque de código que se puede llamar n cantidad de veces para realizar lo que se haya incluido en dicho código, para implementar una función debemos hacer uso de la palabra reservada def y la manera de declarar una función es la siguiente: \n",
    "~~~  \n",
    "\n",
    "<center>\n",
    "\n",
    "~~~\n",
    "def nombreFuncion:\n",
    "            instruccciones_funcion\n",
    "~~~\n",
    "\n",
    "</center>"
   ]
  },
  {
   "cell_type": "code",
   "execution_count": null,
   "metadata": {},
   "outputs": [],
   "source": [
    "#Forma de declarar una función en Python:\n",
    "# def nombreFuncion:\n",
    "#     bloque de código\n",
    "\n",
    "#Ejemplo de función en Python:\n",
    "def saludo():\n",
    "    print(\"Hola mundo\")\n",
    "\n",
    "#Para que una función se ejecute es necesario llamar a dicha función, lo cual se hace la siguiente manera → nombreFuncion()\n",
    "saludo()"
   ]
  },
  {
   "attachments": {},
   "cell_type": "markdown",
   "metadata": {},
   "source": [
    "+ **Parámetros y Arguementos de una Función**\n",
    "    - **Parámetros:**\n",
    "        * Los **parámetros** son las **variables** que alojan los datos que **permiten** el **funcionamiento** de una **función**.\n",
    "    - **Argumentos:**\n",
    "        * Los **argumentos** son los **datos** que **dan a una función** para que se **almacenen** y posteriormente se **procesen** para dar una **salida de información**."
   ]
  },
  {
   "cell_type": "code",
   "execution_count": null,
   "metadata": {},
   "outputs": [],
   "source": [
    "#Ejemplo de parámetros y argumentos en una función en Python:\n",
    "nombre = input(\"Ingrese su nombre: \") #Parámetro → nombre\n",
    "apellidoPaterno = input(\"Ingrese su apellido materno: \") #Parámetro → apellidoPaterno\n",
    "apellidoMaterno = input(\"Ingrese su apellido materno: \") #Parámetro → apellidoMaterno\n",
    "\n",
    "def miNombreCompleto(nombre, apellidoPaterno, apellidoMaterno): #Argumentos → nombre, apellidoPaterno, apellidoMaterno\n",
    "    print(f\"Mi nombre completo es: {nombre} {apellidoPaterno} {apellidoMaterno}\")\n",
    "\n",
    "miNombreCompleto(nombre, apellidoPaterno, apellidoMaterno) #Llamada a la función con sus respectivos argumentos"
   ]
  },
  {
   "attachments": {},
   "cell_type": "markdown",
   "metadata": {},
   "source": [
    "+ **Valores por Default para los Parámetros de una Función**\n",
    "    - Para poder **inicializar** una **función** es necesario tener **parámetros válidos** para dicha **función**, por lo que podemos **asignar Valores por Default** a nuestros parámetros para que la **función** tenga un **correcto funcionamiento** aunque el **usuario no de los valores** para los **argumentos**, **evitando** así los **errores**."
   ]
  },
  {
   "cell_type": "code",
   "execution_count": null,
   "metadata": {},
   "outputs": [],
   "source": [
    "float1=0 #Valor por Default\n",
    "float2=0 #Valor por Default\n",
    "\n",
    "#Función\n",
    "def suma2Float(float1, float2):\n",
    "    return float1 + float2\n",
    "\n",
    "print(f\"Resultado Default = {suma2Float(float1, float2)}\") #Resultado que utiliza los Valores por Default para una función\n",
    "\n",
    "float1 = float(input(\"Ingrese un sumando que sea un número decimal: \")) #Valor dado por el usuario\n",
    "float2 = float(input(\"Ingrese otro sumando que sea un número decimal: \")) #Valor dado por el usuario\n",
    "\n",
    "print(f\"Resultado = {suma2Float(float1, float2)}\") #Resultado que utiliza los valores dados por el usuario para una función"
   ]
  },
  {
   "attachments": {},
   "cell_type": "markdown",
   "metadata": {},
   "source": [
    "+ **Funciones con Listas como Argumento**\n",
    "    - Una **función** puede **recibir** un **argumento de tipo lista** para **funcionar**, para ello se debe **crear** una **variable** con **tipo de dato lista** que **almacene** la **colección de datos** dada a la **función** para que **posteriormente** esos **datos** sean tomados como **argumento** para la **función**."
   ]
  },
  {
   "cell_type": "code",
   "execution_count": null,
   "metadata": {},
   "outputs": [],
   "source": [
    "#Declaramos la variable que almacene un tipo de dato lista:\n",
    "listaSuper = [\"Leche\", \"Cereal\", \"Pollo\", \"Fruta\", \"Jabón\"]\n",
    "\n",
    "#Ejemplo de función con lista como argumento con Python:\n",
    "def supermercado(listaSuper):\n",
    "    print(\"Lista del Supermercado:\")\n",
    "    for elemento in listaSuper:\n",
    "        print(f\" -  {elemento}\")\n",
    "\n",
    "#Llamado a la función con una lista como argumento en Python:\n",
    "supermercado(listaSuper)\n",
    "\n",
    "#Otra forma de darle datos de tipo lista o tupla como argumento a una función es declarando el argumento entre () o []:\n",
    "supermercado([\"Huevos\", \"Pan\", \"Tortilla\", \"Queso\", \"Verdura\"]) #Dato de tipo lista como argumento de la función\n",
    "supermercado((\"Cerdo\", \"Suavizante\", \"Desodorante\", \"Pasta de Dientes\")) #Dato de tipo tupla como argumento de la función"
   ]
  },
  {
   "attachments": {},
   "cell_type": "markdown",
   "metadata": {},
   "source": [
    "+ **Funciones con Argumentos Variables → tupla como argumento**\n",
    "    - Una **función** puede **recibir** una **cantidad** de **argumentos variables** para **funcionar**, para ello se debe hacer uso del **símbolo \\*** en el **argumento** de una **función** y así **crear** una **tupla** que **almacene** la **colección de datos** dada a la **función**, para lograr esto se debe utilizar la siguiente sintáxis: \n",
    "        * **def nombreFuncion(\\*argumentos, ...)**"
   ]
  },
  {
   "cell_type": "code",
   "execution_count": null,
   "metadata": {},
   "outputs": [],
   "source": [
    "#Ejemplo de función con argumentos variables con Python (tupla como argumento) → def nombreFuncion(*argumentos, ...)\n",
    "def asistencia(*asistentes):\n",
    "    print(\"Lista de asisitencia:\")\n",
    "    for asistente in asistentes:\n",
    "        print(f\"{asistente} ✓.\")\n",
    "\n",
    "#Llamado a una función con argumentos variables (* tupla) en Python:\n",
    "asistencia(\"Juan\", \"Andrés\", \"Renata\", \"Álvaro\", \"Paula\", \"Ana\", \"Tomás\", \"Marlen\", \"Darla\", \"Karina\", \"Patricio\", \"Rogelio\")"
   ]
  },
  {
   "attachments": {},
   "cell_type": "markdown",
   "metadata": {},
   "source": [
    "+ **Funciones con Argumentos Variables → diccionario como argumento**\n",
    "    - Una **función** puede **recibir** una **cantidad** de **argumentos variables** para **funcionar**, para ello se debe hacer uso del **símbolo \\**** en el **argumento** de una **función** y así **crear** un **diccionario** que **almacene** la **colección de datos** dada a la **función**, para lograr esto se debe utilizar la siguiente sintáxis: \n",
    "        * **def nombreFuncion(\\*\\*clave : valor, ...)**"
   ]
  },
  {
   "cell_type": "code",
   "execution_count": null,
   "metadata": {},
   "outputs": [],
   "source": [
    "#Ejemplo de función con argumentos variables con Python (diccionario como argumento) → def nombreFuncion(**clave: valor, ...)\n",
    "def numeros(**numeros):\n",
    "    print(\"Texto  →  Símbolo\")\n",
    "    for textNum, symbolNum in numeros.items():\n",
    "        print(f\"{textNum}   →   {symbolNum}\")\n",
    "\n",
    "#Llamado a una función con argumentos variables (** diccionario) en Python:\n",
    "numeros(Uno=1, Dos=2, Tres=3, Cuatro=4, Cinco=5, Seis=6, Siete=7, Ocho=8, Nueve=9, Diez=10)"
   ]
  },
  {
   "attachments": {},
   "cell_type": "markdown",
   "metadata": {},
   "source": [
    "+ **Funciones Recursivas**\n",
    "    - Estas **funciones** sirven para **volverse** a **ejecutar dentro de sí mismas**, y son **utilizadas** cuando se requiere **hacer** determinadas series de **acciones** de **manera repetida**."
   ]
  },
  {
   "cell_type": "code",
   "execution_count": null,
   "metadata": {},
   "outputs": [],
   "source": [
    "#Una aplicación muy común de las funciones recursivas es el cálculo de un factorial.\n",
    "#Ejemplo de una función recursiva en Python:\n",
    "def factorial(num):\n",
    "    if num == 1:\n",
    "        return 1\n",
    "    else:\n",
    "        return num * factorial(num-1)\n",
    "\n",
    "factorial6 = factorial(6)\n",
    "print(f\"El factorial de 6 es: {factorial6}\")"
   ]
  },
  {
   "attachments": {},
   "cell_type": "markdown",
   "metadata": {},
   "source": [
    "---"
   ]
  }
 ],
 "metadata": {
  "kernelspec": {
   "display_name": "Python 3",
   "language": "python",
   "name": "python3"
  },
  "language_info": {
   "name": "python",
   "version": "3.11.0 (main, Oct 24 2022, 18:26:48) [MSC v.1933 64 bit (AMD64)]"
  },
  "orig_nbformat": 4,
  "vscode": {
   "interpreter": {
    "hash": "a0c424b9ebc64511fd63688bf3600ce5b364413e364e3eb1cf584f0476e23d18"
   }
  }
 },
 "nbformat": 4,
 "nbformat_minor": 2
}
