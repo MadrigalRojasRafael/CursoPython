{
 "cells": [
  {
   "attachments": {},
   "cell_type": "markdown",
   "metadata": {},
   "source": [
    "<center>\n",
    "\n",
    "# **Curso Python**\n",
    "\n",
    "</center>\n",
    "\n",
    "--- "
   ]
  },
  {
   "attachments": {},
   "cell_type": "markdown",
   "metadata": {},
   "source": [
    "<center>\n",
    "\n",
    "#### **Break**\n",
    "\n",
    "</center>\n",
    "\n",
    "~~~\n",
    "La palabra reservada break sirve para romper por completo un ciclo for una vez se haya cumplido determinada condición.\n",
    "~~~"
   ]
  },
  {
   "cell_type": "code",
   "execution_count": null,
   "metadata": {},
   "outputs": [],
   "source": [
    "#Programa que encuentre un Mango en una lista de frutas\n",
    "#Ejemplo de break en Python\n",
    "lista = [\"Manzana\", \"Sandía\", \"Durazno\", \"Fresa\", \"Mango\", \"Kiwi\", \"Plátano\"]\n",
    "\n",
    "for fruta in lista:\n",
    "    if fruta == \"Mango\":\n",
    "        print(f\"Se ha encontrado el {fruta} está en la posición {lista.index(fruta)}.\")\n",
    "        break\n",
    "else: \n",
    "    print(\"No se encontró el {fruta}.\")"
   ]
  },
  {
   "attachments": {},
   "cell_type": "markdown",
   "metadata": {},
   "source": [
    "---"
   ]
  }
 ],
 "metadata": {
  "kernelspec": {
   "display_name": "Python 3",
   "language": "python",
   "name": "python3"
  },
  "language_info": {
   "name": "python",
   "version": "3.11.0 (main, Oct 24 2022, 18:26:48) [MSC v.1933 64 bit (AMD64)]"
  },
  "orig_nbformat": 4,
  "vscode": {
   "interpreter": {
    "hash": "a0c424b9ebc64511fd63688bf3600ce5b364413e364e3eb1cf584f0476e23d18"
   }
  }
 },
 "nbformat": 4,
 "nbformat_minor": 2
}
