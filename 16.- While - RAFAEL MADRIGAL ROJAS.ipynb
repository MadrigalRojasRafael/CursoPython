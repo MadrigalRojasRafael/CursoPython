{
 "cells": [
  {
   "attachments": {},
   "cell_type": "markdown",
   "metadata": {},
   "source": [
    "<center>\n",
    "\n",
    "# **Curso Python**\n",
    "\n",
    "</center>\n",
    "\n",
    "---"
   ]
  },
  {
   "attachments": {},
   "cell_type": "markdown",
   "metadata": {},
   "source": [
    "\n",
    "<center>\n",
    "\n",
    "#### **While**\n",
    "\n",
    "</center>\n",
    "\n",
    "~~~\n",
    "Un ciclo While permite repetir cuantas veces sea necesario algún pedazo de código mientras determinada condición sea verdadera. \n",
    "Se declara a través de la palabra reservada while, a continuación se muestra un ejemplo:\n",
    "~~~"
   ]
  },
  {
   "cell_type": "code",
   "execution_count": null,
   "metadata": {},
   "outputs": [],
   "source": [
    "#Forma de declarar While:\n",
    "# while condición:\n",
    "#   instrucción_while\n",
    "# else:\n",
    "#   instruccion_else\n",
    "\n",
    "#Declaramos un contador y un limite para poder aplicar una condición al ciclo while\n",
    "contador = 0\n",
    "limite = int(input(\"Ingrese un número hasta el que desee que cuente: \"))\n",
    "\n",
    "#Ejemplo de ciclo while en Python\n",
    "while contador < limite:\n",
    "    contador += 1\n",
    "    print(f\"- {contador}\")\n",
    "else:\n",
    "    print(\"Fin del programa.\")"
   ]
  },
  {
   "attachments": {},
   "cell_type": "markdown",
   "metadata": {},
   "source": [
    "---"
   ]
  }
 ],
 "metadata": {
  "kernelspec": {
   "display_name": "Python 3",
   "language": "python",
   "name": "python3"
  },
  "language_info": {
   "name": "python",
   "version": "3.11.0 (main, Oct 24 2022, 18:26:48) [MSC v.1933 64 bit (AMD64)]"
  },
  "orig_nbformat": 4,
  "vscode": {
   "interpreter": {
    "hash": "a0c424b9ebc64511fd63688bf3600ce5b364413e364e3eb1cf584f0476e23d18"
   }
  }
 },
 "nbformat": 4,
 "nbformat_minor": 2
}
