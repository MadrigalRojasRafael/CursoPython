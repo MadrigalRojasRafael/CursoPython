{
 "cells": [
  {
   "attachments": {},
   "cell_type": "markdown",
   "metadata": {},
   "source": [
    "<center>\n",
    "\n",
    "# **Curso Python**\n",
    "\n",
    "</center>\n",
    "\n",
    "---"
   ]
  },
  {
   "attachments": {},
   "cell_type": "markdown",
   "metadata": {},
   "source": [
    "<center>\n",
    "\n",
    "#### **If - Elif - IfElse**\n",
    "\n",
    "</center>\n",
    "\n",
    "~~~\n",
    "Los condicionales sirven para evaluar determinadas condiciones dadas en en código, algunas de las condiciones más utilizadas son: \n",
    "~~~\n",
    "\n",
    "<center>\n",
    "\n",
    "~~~\n",
    "+ If \n",
    "+ Elif \n",
    "+ If - Else\n",
    "~~~\n",
    "\n",
    "</center>"
   ]
  },
  {
   "attachments": {},
   "cell_type": "markdown",
   "metadata": {},
   "source": [
    "+ **If**\n",
    "    - Es el **condicional** que **solamente evalúa** si **una condición** es **verdadera**, a continuación un ejemplo:"
   ]
  },
  {
   "cell_type": "code",
   "execution_count": null,
   "metadata": {},
   "outputs": [],
   "source": [
    "#Forma de declarar un if:\n",
    "# if condición:\n",
    "#    instrucción \n",
    "\n",
    "if 4>3:\n",
    "    print(\"La condición es verdadera.\")"
   ]
  },
  {
   "attachments": {},
   "cell_type": "markdown",
   "metadata": {},
   "source": [
    "+ **Elif**\n",
    "    - Es el **condicional** que va **despúes** de algún **otro condicional** y **evalúa alguna condición particular** si el **caso anterior** fue **falso**, a continuación un ejemplo:"
   ]
  },
  {
   "cell_type": "code",
   "execution_count": null,
   "metadata": {},
   "outputs": [],
   "source": [
    "#Forma de declarar un elif:\n",
    "# if condición:\n",
    "#    instrucción_if \n",
    "# elif condición:\n",
    "#    instrucción_elif\n",
    "\n",
    "if 1>2:\n",
    "    print(\"5 es mayor que 2\")\n",
    "elif 4<6:\n",
    "    print(\"4 es menor que 6\")"
   ]
  },
  {
   "attachments": {},
   "cell_type": "markdown",
   "metadata": {},
   "source": [
    "+ **If - Else**\n",
    "    - Es el **condicional** que si la **primer condición (if)** es **verdadera** se **ejecutará** la **instrucción (if)**, y en el caso de que la **condición** sea **falsa** solo **ejecutará** la **instrucción (else) sin evaluar ninguna condición**.   "
   ]
  },
  {
   "cell_type": "code",
   "execution_count": null,
   "metadata": {},
   "outputs": [],
   "source": [
    "#Forma de declarar un if - else:\n",
    "# if condición:\n",
    "#    instrucción_if \n",
    "# else:\n",
    "#    instrucción_else\n",
    "\n",
    "if 1>2:\n",
    "    print(\"1 es mayor que 2\")\n",
    "else:\n",
    "    print(\"2 es mayor que 1\")"
   ]
  },
  {
   "attachments": {},
   "cell_type": "markdown",
   "metadata": {},
   "source": [
    "---"
   ]
  }
 ],
 "metadata": {
  "kernelspec": {
   "display_name": "Python 3",
   "language": "python",
   "name": "python3"
  },
  "language_info": {
   "name": "python",
   "version": "3.11.0 (main, Oct 24 2022, 18:26:48) [MSC v.1933 64 bit (AMD64)]"
  },
  "orig_nbformat": 4,
  "vscode": {
   "interpreter": {
    "hash": "a0c424b9ebc64511fd63688bf3600ce5b364413e364e3eb1cf584f0476e23d18"
   }
  }
 },
 "nbformat": 4,
 "nbformat_minor": 2
}
