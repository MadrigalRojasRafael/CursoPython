{
 "cells": [
  {
   "attachments": {},
   "cell_type": "markdown",
   "metadata": {},
   "source": [
    "<center>\n",
    "\n",
    "# **Curso Python**\n",
    "\n",
    "</center>\n",
    "\n",
    "---"
   ]
  },
  {
   "attachments": {},
   "cell_type": "markdown",
   "metadata": {},
   "source": [
    "<center>\n",
    "\n",
    "#### **Manejo de Archivos**\n",
    "\n",
    "</center>\n",
    "\n",
    "~~~\n",
    "Python permite el manejo de archivos de diversos tipos, ya sean archivos multimedia hasta documentos de texto, hojas de cáclculo e incluso documentos HTML.\n",
    "\n",
    "2 de los métodos para crear/abrir y cerrar un archivo son open y close respectivamente, y son uttilazados en un try - except.\n",
    "~~~"
   ]
  },
  {
   "cell_type": "code",
   "execution_count": null,
   "metadata": {},
   "outputs": [],
   "source": [
    "#Para cada archivo es neceesario conocer la sintaxis correspondiente,\n",
    "# pero en este caso se utilizará un documento .txt para ejemplificar\n",
    "# la estructura básica de como manejar archivos en Python.\n",
    "\n",
    "#Creación de un archivo .txt en Python:\n",
    "try:\n",
    "    # - \"EjemploTextoPython.txt\" → sirve para nombrar o invocar el archivo.\n",
    "    # - \"w\" → sirve para escribir, en este caso crear el archivo.\n",
    "    # - encoding=\"utf8\" → es el conjunto de caractéres en que se codificará el documento.\n",
    "    archivo = open(\"EjemploTextoPython.txt\", \"w\", encoding=\"utf8\") \n",
    "    #El método NombreArchivo.write() sirve para escribir sobre el documento al cual se le aplique.\n",
    "    archivo.write(\"Texto a un archivo desde Python.\\n\")\n",
    "    archivo.write(\"Más texto a un archivo desde Python.\\n\")\n",
    "    archivo.write(\"Fin del archivo.\")\n",
    "    # - \"EjemploTextoPython.txt\" → sirve para nombrar o invocar el archivo.\n",
    "    # - \"r\" → sirve para leer el archivo.\n",
    "    archivo = open(\"EjemploTextoPython.txt\", \"r\") \n",
    "    #El método NombreArchivo.read() sirve para leer lo que contiene en documento al cual se le aplique.\n",
    "    print(archivo.read())\n",
    "    #Tambien se pueden leer líneas completas o parciales o número de caractéres → NombreArchivo.readline(): \n",
    "    #Leer línea completa:\n",
    "    archivo = open(\"EjemploTextoPython.txt\", \"r\", encoding=\"utf8\") \n",
    "    for line in archivo:\n",
    "        print(line)\n",
    "    #Leer una línea en específico:\n",
    "    archivo = open(\"EjemploTextoPython.txt\", \"r\") \n",
    "    print(archivo.readlines(2))\n",
    "    #Leer solamente cierta cantidad de caractéres:\n",
    "    print(archivo.readline(18))\n",
    "except Exception as e:\n",
    "    print(f\"Error → {e}\")\n",
    "finally:\n",
    "    archivo.close()\n",
    "\n",
    "#La información contenida en se puede copiar a otro documento de la siguiente manera:\n",
    "# - \"a\" → siginifica append y sirve para insertar el contenido de un documento en otro.\n",
    "# - \"w\" → se puede usar tambien, sólo que reescribiría el contenido del documento. \n",
    "try:\n",
    "    archivoCopia = open(\"EjemploTextoPythonCopia.txt\", \"a\", encoding=\"utf8\")\n",
    "    archivo = open(\"EjemploTextoPython.txt\", \"r\", encoding=\"utf8\") \n",
    "    archivoCopia.write(archivo.read())\n",
    "except Exception as e:\n",
    "    print(f\"Error → {e}\")\n",
    "finally:\n",
    "    archivo.close()\n",
    "    archivoCopia.close()\n",
    "    print(\" Copia terminada \".center(60, \"-\"))"
   ]
  },
  {
   "attachments": {},
   "cell_type": "markdown",
   "metadata": {},
   "source": [
    "+ **Manejo de Archivos con with**\n",
    "    - La **palabra reservada with** sirve para **sintetizar** el **try - finally**, **simplificando** así la escritura de **código**."
   ]
  },
  {
   "cell_type": "code",
   "execution_count": null,
   "metadata": {},
   "outputs": [],
   "source": [
    "with open(\"ArchivoWith.txt\", \"w\", encoding=\"utf8\") as archivo:\n",
    "    archivo.write(\"Archivo creado con el uso de la palabra reservada with.\\n\")\n",
    "    archivo.write(\"Línea escrita con el uso de la palabra reservada with.\\n\")\n",
    "    archivo.write(\"Otra línea más escrita con el uso de la palabra reservada with.\")\n",
    "\n",
    "with open(\"ArchivoWith.txt\", \"r\", encoding=\"utf8\") as archivo:\n",
    "    print(archivo.read())\n",
    "    print(\" Fin de lectura del archivo \".center(60, \"-\"))"
   ]
  },
  {
   "attachments": {},
   "cell_type": "markdown",
   "metadata": {},
   "source": [
    "+ **Creación de Clases para Manejo de Archivos**\n",
    "    - Se pueden **crear Clases** que satisfagan las necesidades para **manejar** los **archivos** con **acciones personalizadas** de la siguiente manera: "
   ]
  },
  {
   "cell_type": "code",
   "execution_count": null,
   "metadata": {},
   "outputs": [],
   "source": [
    "#Otra manera de referirse a la Creación de Clases para el Manejo de Archivos es Context Manager.\n",
    "class ManejoArchivos:\n",
    "\n",
    "    def __init__(self, nombreArchivo):\n",
    "        self.nombreArchivo = nombreArchivo\n",
    "\n",
    "    #El método __enter__() sirve para abrir o crear el documento.\n",
    "    def __enter__(self):\n",
    "        print(\" Recurso abierto \".center(60, \"-\"))\n",
    "        self.nombreArchivo = open(self.nombreArchivo, \"r\", encoding=\"utf8\")\n",
    "\n",
    "    #El método __exit__() sirve para cerrar el documento.\n",
    "    #Los argumentos sólo se utilizan cuando se invoca directamente el método.\n",
    "    # - typeExcepcion → tipo de excepción.\n",
    "    # - valueExcepcion → valor de la excepción.\n",
    "    # - traceback → lista de errores ocurridos.\n",
    "    def __exit__(self, typeException, valueExcepcion, traceback):\n",
    "        print(\" Recurso cerrado \".center(60, \"-\"))\n",
    "        if self.nombreArchivo: \n",
    "            self.nombreArchivo.close()\n",
    "\n",
    "with open(\"ArchivoWith.txt\", encoding=\"utf8\") as archivoPrueba:\n",
    "    print(archivoPrueba.read())"
   ]
  },
  {
   "attachments": {},
   "cell_type": "markdown",
   "metadata": {},
   "source": [
    "---"
   ]
  }
 ],
 "metadata": {
  "kernelspec": {
   "display_name": "Python 3",
   "language": "python",
   "name": "python3"
  },
  "language_info": {
   "codemirror_mode": {
    "name": "ipython",
    "version": 3
   },
   "file_extension": ".py",
   "mimetype": "text/x-python",
   "name": "python",
   "nbconvert_exporter": "python",
   "pygments_lexer": "ipython3",
   "version": "3.9.5 (tags/v3.9.5:0a7dcbd, May  3 2021, 17:27:52) [MSC v.1928 64 bit (AMD64)]"
  },
  "orig_nbformat": 4,
  "vscode": {
   "interpreter": {
    "hash": "01d1536ea089b3881e2ad6e5bf1641f0ef71bd243632b26b215d0f3e201af468"
   }
  }
 },
 "nbformat": 4,
 "nbformat_minor": 2
}
