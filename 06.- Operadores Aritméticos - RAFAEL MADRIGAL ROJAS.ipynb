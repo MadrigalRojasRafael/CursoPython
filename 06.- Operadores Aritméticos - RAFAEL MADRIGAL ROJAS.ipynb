{
 "cells": [
  {
   "attachments": {},
   "cell_type": "markdown",
   "metadata": {},
   "source": [
    "<center>\n",
    "\n",
    "# **Curso Python**\n",
    "\n",
    "</center>\n",
    "\n",
    "---"
   ]
  },
  {
   "attachments": {},
   "cell_type": "markdown",
   "metadata": {},
   "source": [
    "<center>\n",
    "\n",
    "#### **Operadores Aritméticos**\n",
    "\n",
    "</center>\n",
    "\n",
    "~~~\n",
    "Los operadores aritmeticos como bien lo dice su nombre sirve para realizar operaciones aritméticas y los  más comunes permitidos en Python son +, -, /, //, *, ** y %:\n",
    "~~~"
   ]
  },
  {
   "cell_type": "code",
   "execution_count": null,
   "metadata": {},
   "outputs": [],
   "source": [
    "#Solicitar los operaandos al usuario\n",
    "operandoA = int(input(\"Ingrese un número: \"))\n",
    "operandoB = int(input(\"Ingrese otro número: \"))\n",
    "\n",
    "#Forma de visualizar los datos mediante la consola → print(f\"Cadena {variable}\")\n",
    "#Esta forma de visualizar los datos tiene ventajas como el manejo de más de una variable y más de una línea."
   ]
  },
  {
   "attachments": {},
   "cell_type": "markdown",
   "metadata": {},
   "source": [
    "+ **Suma**\n",
    "    - Se representa con el símbolo **(+)**, a continuación un ejemplo de este operador aritmético:"
   ]
  },
  {
   "cell_type": "code",
   "execution_count": null,
   "metadata": {},
   "outputs": [],
   "source": [
    "#Ejemplo de Suma (+) en Python:\n",
    "suma = operandoA + operandoB\n",
    "print(f\"{operandoA} + {operandoB} = {suma}\")"
   ]
  },
  {
   "attachments": {},
   "cell_type": "markdown",
   "metadata": {},
   "source": [
    "+ **Resta**\n",
    "    - Se representa con el símbolo **(-)**, a continuación un ejemplo de este operador aritmético:"
   ]
  },
  {
   "cell_type": "code",
   "execution_count": null,
   "metadata": {},
   "outputs": [],
   "source": [
    "#Ejemplo de Resta (-) en Python:\n",
    "resta = operandoA - operandoB\n",
    "print(f\"{operandoA} - {operandoB} = {resta}\")"
   ]
  },
  {
   "attachments": {},
   "cell_type": "markdown",
   "metadata": {},
   "source": [
    "+ **Multiplicación**\n",
    "    - Se representa con el símbolo **(*)**, a continuación un ejemplo de este operador aritmético:"
   ]
  },
  {
   "cell_type": "code",
   "execution_count": null,
   "metadata": {},
   "outputs": [],
   "source": [
    "#Ejemplo de Multiplicación (*) en Python:\n",
    "multiplicacion = operandoA * operandoB\n",
    "print(f\"{operandoA} * {operandoB} = {multiplicacion}\")"
   ]
  },
  {
   "attachments": {},
   "cell_type": "markdown",
   "metadata": {},
   "source": [
    "+ **División**\n",
    "    - Se representa con los símbolos **(/ o //)**.\n",
    "        * La **división (/)** devuelve un **resultado** en un **tipo de dato float**. \n",
    "        * La **división (//)** devuelve un **resultado** en un **tipo de dato int**.\n",
    "    - A continuación un ejemplo de estos operadores aritméticos:"
   ]
  },
  {
   "cell_type": "code",
   "execution_count": null,
   "metadata": {},
   "outputs": [],
   "source": [
    "#Ejemplo de división (/) con Python:\n",
    "division1 = operandoA / operandoB\n",
    "print(f\"{operandoA} / {operandoB} = {division1}\")\n",
    "print(type(division1))\n",
    "\n",
    "#Ejemplo de división (//) con Python:\n",
    "division2 = operandoA // operandoB\n",
    "print(f\"{operandoA} // {operandoB} = {division2}\")\n",
    "print(type(division2))"
   ]
  },
  {
   "attachments": {},
   "cell_type": "markdown",
   "metadata": {},
   "source": [
    "+ **Módulo**\n",
    "    - Se representa con el símbolo **(%)**, el **resultado** del **módulo** es la **cantidad restante** que hay en una **división**.\n",
    "    - A continuación un ejemplo de este operador aritmético:"
   ]
  },
  {
   "cell_type": "code",
   "execution_count": null,
   "metadata": {},
   "outputs": [],
   "source": [
    "#Ejemplo de módulo (%) en Python:\n",
    "modulo = operandoA % operandoB\n",
    "print(f\"{operandoA} % {operandoB} = {modulo}\")"
   ]
  },
  {
   "attachments": {},
   "cell_type": "markdown",
   "metadata": {},
   "source": [
    "+ **Exponente**\n",
    "    - Se representa con el símbolo **(\\**)**, a continuación un ejemplo de este operador aritmético:"
   ]
  },
  {
   "cell_type": "code",
   "execution_count": null,
   "metadata": {},
   "outputs": [],
   "source": [
    "#Ejemplo de exponente (**) en Python:\n",
    "exponente = operandoA ** operandoB\n",
    "print(f\"{operandoA} ** {operandoB} = {exponente}\")"
   ]
  },
  {
   "attachments": {},
   "cell_type": "markdown",
   "metadata": {},
   "source": [
    "---"
   ]
  }
 ],
 "metadata": {
  "kernelspec": {
   "display_name": "Python 3",
   "language": "python",
   "name": "python3"
  },
  "language_info": {
   "name": "python",
   "version": "3.11.0 (main, Oct 24 2022, 18:26:48) [MSC v.1933 64 bit (AMD64)]"
  },
  "orig_nbformat": 4,
  "vscode": {
   "interpreter": {
    "hash": "a0c424b9ebc64511fd63688bf3600ce5b364413e364e3eb1cf584f0476e23d18"
   }
  }
 },
 "nbformat": 4,
 "nbformat_minor": 2
}
