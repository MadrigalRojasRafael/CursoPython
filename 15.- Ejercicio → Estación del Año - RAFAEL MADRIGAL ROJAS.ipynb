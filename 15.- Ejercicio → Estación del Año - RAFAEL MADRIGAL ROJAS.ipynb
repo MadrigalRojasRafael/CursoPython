{
 "cells": [
  {
   "attachments": {},
   "cell_type": "markdown",
   "metadata": {},
   "source": [
    "<center>\n",
    "\n",
    "# **Curso Python**\n",
    "\n",
    "</center>\n",
    "\n",
    "---"
   ]
  },
  {
   "attachments": {},
   "cell_type": "markdown",
   "metadata": {},
   "source": [
    "<center>\n",
    "\n",
    "#### **Ejercicio → Estación del Año**\n",
    "\n",
    "</center>\n",
    "\n",
    "~~~\n",
    "El ejercicio consiste en hacer un programa que según el número de mes que ingrese el usuario le indique en que estación del año se encuentra.\n",
    "~~~"
   ]
  },
  {
   "cell_type": "code",
   "execution_count": null,
   "metadata": {},
   "outputs": [],
   "source": [
    "#Declaramos la variable para almacenar el número del mes ingresado por el usuario\n",
    "mes = int(input(\"Ingrese el número del mes en el que se encuentra: \"))\n",
    "\n",
    "#Declaramos las condicionales para indicarle al usuario en que estación del año se encuentra.\n",
    "if (mes >= 1) and (mes <= 3):\n",
    "    print(\"Usted se encuentra en Primavera.\")\n",
    "elif (mes >= 4) and (mes <= 6):\n",
    "    print(\"Usted se encuentra en Verano.\")\n",
    "elif (mes >= 7) and (mes <= 9):\n",
    "    print(\"Usted se encuentra en Otoño.\")\n",
    "elif (mes >= 10) and (mes <= 12):\n",
    "    print(\"Usted se encuentra en Invierno.\")\n",
    "else:\n",
    "    print(\"El mes ingresado no es válido.\")"
   ]
  },
  {
   "attachments": {},
   "cell_type": "markdown",
   "metadata": {},
   "source": [
    "---"
   ]
  }
 ],
 "metadata": {
  "kernelspec": {
   "display_name": "Python 3",
   "language": "python",
   "name": "python3"
  },
  "language_info": {
   "name": "python",
   "version": "3.11.0 (main, Oct 24 2022, 18:26:48) [MSC v.1933 64 bit (AMD64)]"
  },
  "orig_nbformat": 4,
  "vscode": {
   "interpreter": {
    "hash": "a0c424b9ebc64511fd63688bf3600ce5b364413e364e3eb1cf584f0476e23d18"
   }
  }
 },
 "nbformat": 4,
 "nbformat_minor": 2
}
