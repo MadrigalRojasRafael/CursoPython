{
 "cells": [
  {
   "attachments": {},
   "cell_type": "markdown",
   "metadata": {},
   "source": [
    "\n",
    "<center>\n",
    "\n",
    "# **Curso Python**\n",
    "\n",
    "</center>\n",
    "\n",
    "---"
   ]
  },
  {
   "attachments": {},
   "cell_type": "markdown",
   "metadata": {},
   "source": [
    "<center>\n",
    "\n",
    "#### **Ejercicio de Cálculo de Área de Rectángulo con POO**\n",
    "\n",
    "</center>\n",
    "\n",
    "~~~\n",
    "El ejercicio consiste en hacer una clase que contenga como atributos las medidas de un cubo y como método contenga el cálculo del volumen y muestre los resultados.\n",
    "~~~"
   ]
  },
  {
   "cell_type": "code",
   "execution_count": null,
   "metadata": {},
   "outputs": [],
   "source": [
    "#Creación de la clase: \n",
    "class Cubo:\n",
    "    def __init__(self, lado): #Método Inicializador → __init__\n",
    "        self.lado = lado #Creación de la variable para almacenar el lado\n",
    "    \n",
    "    def vol(self): #Método para calcular el Volumen\n",
    "        volumen = self.lado ** 3\n",
    "        return volumen\n",
    "\n",
    "#Creación del objeto cubo1 para poder aplicar el método:\n",
    "cubo1 = Cubo(11)\n",
    "\n",
    "#Llamada el método para obtener el volumen del cubo:\n",
    "print(f\"El volumen del cubo es: {cubo1.vol()} u³\")\n",
    "\n",
    "#Se puede añadir más Atributos a un Objeto (no se añadirán a la clase) de la siguiente manera:\n",
    "cubo1.color = \"Azul Cobalto\"\n",
    "print(f\"El color del cubo es: {cubo1.color}\")\n",
    "\n",
    "#Además podemos agregar Argumentos Variables para la creación de un Objeto, utilizando la siguiente sintáxis:\n",
    "# class NombreClase:\n",
    "#      def __init__(self, atributo1, *atributo2, **atributo3, ...): \n",
    "#         self.atributo1 = atributo1\n",
    "#         self.atributo2 = (elemento1, elemento2, ...)\n",
    "#         self.atributo3 = [clave1=valor1, clave2=valor2, ...]\n",
    "#         ..."
   ]
  },
  {
   "attachments": {},
   "cell_type": "markdown",
   "metadata": {},
   "source": [
    "---"
   ]
  }
 ],
 "metadata": {
  "kernelspec": {
   "display_name": "Python 3",
   "language": "python",
   "name": "python3"
  },
  "language_info": {
   "name": "python",
   "version": "3.11.0 (main, Oct 24 2022, 18:26:48) [MSC v.1933 64 bit (AMD64)]"
  },
  "orig_nbformat": 4,
  "vscode": {
   "interpreter": {
    "hash": "a0c424b9ebc64511fd63688bf3600ce5b364413e364e3eb1cf584f0476e23d18"
   }
  }
 },
 "nbformat": 4,
 "nbformat_minor": 2
}
