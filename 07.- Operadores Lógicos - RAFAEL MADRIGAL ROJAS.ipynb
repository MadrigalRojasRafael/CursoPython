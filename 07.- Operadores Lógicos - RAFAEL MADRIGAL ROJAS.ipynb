{
 "cells": [
  {
   "attachments": {},
   "cell_type": "markdown",
   "metadata": {},
   "source": [
    "<center>\n",
    "\n",
    "# **Curso Python**\n",
    "\n",
    "</center>\n",
    "\n",
    "---"
   ]
  },
  {
   "attachments": {},
   "cell_type": "markdown",
   "metadata": {},
   "source": [
    "<center>\n",
    "\n",
    "#### **Operadores Lógicos**\n",
    "\n",
    "</center>\n",
    "\n",
    "~~~\n",
    "Los operadores lógicos siguen el mismo funcionamiento que las compuertas lógicas, por lo que en Python existen 3 operadores: and, or y not.\n",
    "Los operadores lógicos trabajan sólo con valores booleanos y devuelven valores booleanos como resultado.\n",
    "~~~"
   ]
  },
  {
   "cell_type": "code",
   "execution_count": null,
   "metadata": {},
   "outputs": [],
   "source": [
    "#Declaración de valores booleanos para trabajar con los operadores lógicos\n",
    "valorTrue = True\n",
    "valorFalse = False"
   ]
  },
  {
   "attachments": {},
   "cell_type": "markdown",
   "metadata": {},
   "source": [
    "+ **AND**\n",
    "    - Para hacer uso de este operador lógico hay que usar la palabra reservada **and**.  "
   ]
  },
  {
   "cell_type": "code",
   "execution_count": null,
   "metadata": {},
   "outputs": [],
   "source": [
    "#AND → Se declara de la siguiente manera: var1 and var2\n",
    "print(\"Tabla de verdad AND\")\n",
    "print(f\"{valorTrue} and {valorTrue} = {valorTrue and valorTrue}\")\n",
    "print(f\"{valorTrue} and {valorFalse} = {valorTrue and valorFalse}\")\n",
    "print(f\"{valorFalse} and {valorTrue} = {valorFalse and valorTrue}\")\n",
    "print(f\"{valorFalse} and {valorFalse} = {valorFalse and valorFalse}\")"
   ]
  },
  {
   "attachments": {},
   "cell_type": "markdown",
   "metadata": {},
   "source": [
    "+ **OR**\n",
    "    - Para hacer uso de este operador lógico hay que usar la palabra reservada **or**.  "
   ]
  },
  {
   "cell_type": "code",
   "execution_count": null,
   "metadata": {},
   "outputs": [],
   "source": [
    "#OR → Se declara de la siguiente manera: var1 or var2\n",
    "print(\"Tabla de verdad OR\")\n",
    "print(f\"{valorTrue} or {valorTrue} = {valorTrue or valorTrue}\")\n",
    "print(f\"{valorTrue} or {valorFalse} = {valorTrue or valorFalse}\")\n",
    "print(f\"{valorFalse} or {valorTrue} = {valorFalse or valorTrue}\")\n",
    "print(f\"{valorFalse} or {valorFalse} = {valorFalse or valorFalse}\")"
   ]
  },
  {
   "attachments": {},
   "cell_type": "markdown",
   "metadata": {},
   "source": [
    "+ **NOT**\n",
    "    - Para hacer uso de este operador lógico hay que usar la palabra reservada **not**.  "
   ]
  },
  {
   "cell_type": "code",
   "execution_count": null,
   "metadata": {},
   "outputs": [],
   "source": [
    "print(\"Tabla de verdad NOT\")\n",
    "print(f\"not {valorTrue} = {not valorTrue}\")\n",
    "print(f\"not {valorFalse} = {not valorFalse}\")"
   ]
  },
  {
   "attachments": {},
   "cell_type": "markdown",
   "metadata": {},
   "source": [
    "---"
   ]
  }
 ],
 "metadata": {
  "kernelspec": {
   "display_name": "Python 3",
   "language": "python",
   "name": "python3"
  },
  "language_info": {
   "name": "python",
   "version": "3.11.0 (main, Oct 24 2022, 18:26:48) [MSC v.1933 64 bit (AMD64)]"
  },
  "orig_nbformat": 4,
  "vscode": {
   "interpreter": {
    "hash": "a0c424b9ebc64511fd63688bf3600ce5b364413e364e3eb1cf584f0476e23d18"
   }
  }
 },
 "nbformat": 4,
 "nbformat_minor": 2
}
