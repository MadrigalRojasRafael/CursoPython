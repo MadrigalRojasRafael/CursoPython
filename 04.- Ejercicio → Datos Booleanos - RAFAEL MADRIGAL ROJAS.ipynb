{
 "cells": [
  {
   "attachments": {},
   "cell_type": "markdown",
   "metadata": {},
   "source": [
    "<center>\n",
    "\n",
    "# **Curso Python**\n",
    "\n",
    "</center>\n",
    "\n",
    "---"
   ]
  },
  {
   "attachments": {},
   "cell_type": "markdown",
   "metadata": {},
   "source": [
    "<center>\n",
    "\n",
    "#### **Ejercicio → Datos Booleanos**\n",
    "\n",
    "</center>\n",
    "\n",
    "~~~\n",
    "Los datos de tipo Boolean se indican a través de los valores True y False. El ejercicio consiste en declarar valores de tipo Boolean.\n",
    "~~~"
   ]
  },
  {
   "cell_type": "code",
   "execution_count": null,
   "metadata": {},
   "outputs": [],
   "source": [
    "#Declaración de datos de tipo Boolean\n",
    "boolTrue = True\n",
    "print(type(boolTrue))\n",
    "print(boolTrue)\n",
    "\n",
    "boolFalse = False\n",
    "print(type(boolFalse))\n",
    "print(boolFalse)"
   ]
  },
  {
   "attachments": {},
   "cell_type": "markdown",
   "metadata": {},
   "source": [
    "~~~\n",
    "También se pueden dar valores booleanos a traves de la evalaucion de condiciones u operaciones.\n",
    "~~~"
   ]
  },
  {
   "cell_type": "code",
   "execution_count": null,
   "metadata": {},
   "outputs": [],
   "source": [
    "#Evaluación de condiciones que devuelvan valores de tipo Boolean\n",
    "varBoolFalse = 2>3\n",
    "print(type(varBoolFalse))\n",
    "print(varBoolFalse)\n",
    "\n",
    "varBoolTrue = 1<5\n",
    "print(type(varBoolTrue))\n",
    "print(varBoolTrue)"
   ]
  },
  {
   "attachments": {},
   "cell_type": "markdown",
   "metadata": {},
   "source": [
    "---"
   ]
  }
 ],
 "metadata": {
  "kernelspec": {
   "display_name": "Python 3",
   "language": "python",
   "name": "python3"
  },
  "language_info": {
   "codemirror_mode": {
    "name": "ipython",
    "version": 3
   },
   "file_extension": ".py",
   "mimetype": "text/x-python",
   "name": "python",
   "nbconvert_exporter": "python",
   "pygments_lexer": "ipython3",
   "version": "3.11.0 (main, Oct 24 2022, 18:26:48) [MSC v.1933 64 bit (AMD64)]"
  },
  "orig_nbformat": 4,
  "vscode": {
   "interpreter": {
    "hash": "a0c424b9ebc64511fd63688bf3600ce5b364413e364e3eb1cf584f0476e23d18"
   }
  }
 },
 "nbformat": 4,
 "nbformat_minor": 2
}
